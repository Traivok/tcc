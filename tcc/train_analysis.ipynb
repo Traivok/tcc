{
 "cells": [
  {
   "cell_type": "code",
   "execution_count": 1,
   "metadata": {},
   "outputs": [],
   "source": [
    "import os\n",
    "\n",
    "import matplotlib.pyplot as plt\n",
    "import pandas as pd"
   ]
  },
  {
   "cell_type": "code",
   "execution_count": 2,
   "metadata": {},
   "outputs": [],
   "source": [
    "# Função para carregar e processar os dados de cada modelo\n",
    "def process_model_data(csv_path, model_name):\n",
    "    data = pd.read_csv(csv_path)\n",
    "    # Adiciona a identificação do modelo nos dados\n",
    "    data[\"model\"] = model_name\n",
    "    return data\n",
    "\n",
    "# Função para calcular métricas estatísticas\n",
    "def calculate_metrics(data, metrics, model_name):\n",
    "    stats = {}\n",
    "    for metric in metrics:\n",
    "        stats[f\"{metric}_mean\"] = data[metric].mean()\n",
    "        stats[f\"{metric}_std\"] = data[metric].std()\n",
    "        stats[f\"{metric}_max\"] = data[metric].max()\n",
    "        stats[f\"{metric}_min\"] = data[metric].min()\n",
    "    stats[\"model\"] = model_name\n",
    "    return stats\n",
    "\n",
    "# Função para salvar métricas como CSV\n",
    "def save_metrics_as_csv(metrics, filename):\n",
    "    metrics_df = pd.DataFrame([metrics])\n",
    "    metrics_df.to_csv(filename, index=False)\n",
    "    print(f\"Métricas salvas em: {filename}\")\n",
    "\n",
    "# Função para gerar e salvar gráficos\n",
    "def save_metric_plot(data_general, data_subdivided, metric, ylabel, title, filename):\n",
    "    plt.figure(figsize=(10, 6))\n",
    "    plt.plot(data_general[\"epoch\"], data_general[metric], label=\"Modelo Geral\")\n",
    "    plt.plot(data_subdivided[\"epoch\"], data_subdivided[metric], label=\"Modelo Subdividido\", linestyle='--')\n",
    "    plt.xlabel(\"Época\")\n",
    "    plt.ylabel(ylabel)\n",
    "    plt.title(title)\n",
    "    plt.legend()\n",
    "    plt.grid(True)\n",
    "    plt.savefig(filename)\n",
    "    print(f\"Gráfico salvo em: {filename}\")\n",
    "    plt.close()"
   ]
  },
  {
   "cell_type": "code",
   "execution_count": 3,
   "metadata": {},
   "outputs": [],
   "source": [
    "\n",
    "from pathlib import Path\n",
    "\n",
    "\n",
    "# Função principal\n",
    "def main():\n",
    "    def get_path_from_cwd(x): return Path(os.path.join(os.getcwd(), \"..\", x)).resolve()\n",
    "\n",
    "    # Configurações de arquivos\n",
    "    general_csv = get_path_from_cwd(\"runs/detect/train23/results.csv\")\n",
    "    subdivided_csv = get_path_from_cwd(\"runs/detect/train21/results.csv\")\n",
    "    output_folder = get_path_from_cwd(\"experiments/comparison\")\n",
    "\n",
    "    os.makedirs(output_folder, exist_ok=True)\n",
    "\n",
    "    # Carregar os dados\n",
    "    data_general = process_model_data(general_csv, \"Geral\")\n",
    "    data_subdivided = process_model_data(subdivided_csv, \"Subdividido\")\n",
    "\n",
    "    # Definir métricas de interesse\n",
    "    metrics = [\"metrics/mAP50(B)\", \"metrics/mAP50-95(B)\", \"metrics/precision(B)\", \"metrics/recall(B)\",\n",
    "               \"train/box_loss\", \"train/cls_loss\", \"val/box_loss\", \"val/cls_loss\"]\n",
    "\n",
    "    # Calcular estatísticas gerais para cada modelo\n",
    "    general_metrics = calculate_metrics(data_general, metrics, \"Geral\")\n",
    "    subdivided_metrics = calculate_metrics(data_subdivided, metrics, \"Subdividido\")\n",
    "\n",
    "    # Salvar estatísticas em CSV\n",
    "    save_metrics_as_csv(general_metrics, os.path.join(output_folder, \"general_metrics_summary.csv\"))\n",
    "    save_metrics_as_csv(subdivided_metrics, os.path.join(output_folder, \"subdivided_metrics_summary.csv\"))\n",
    "\n",
    "    # Gerar gráficos e salvar como PNG\n",
    "    for metric in metrics:\n",
    "        ylabel = metric.split(\"/\")[-1]  # Nome mais simples para o eixo Y\n",
    "        plot_title = f\"Comparação de {ylabel} entre os Modelos\"\n",
    "        plot_filename = os.path.join(output_folder, f\"{metric.replace('/', '_')}_comparison.png\")\n",
    "        save_metric_plot(data_general, data_subdivided, metric, ylabel, plot_title, plot_filename)\n",
    "\n",
    "    # Salvar métricas finais da última época\n",
    "    general_final_metrics = data_general.iloc[-1][metrics].to_dict()\n",
    "    subdivided_final_metrics = data_subdivided.iloc[-1][metrics].to_dict()\n",
    "    final_metrics = pd.DataFrame([general_final_metrics, subdivided_final_metrics])\n",
    "    final_metrics[\"model\"] = [\"Geral\", \"Subdividido\"]\n",
    "    final_metrics.to_csv(os.path.join(output_folder, \"final_metrics_comparison.csv\"), index=False)\n",
    "    print(f\"Métricas finais salvas em: {os.path.join(output_folder, 'final_metrics_comparison.csv')}\")"
   ]
  },
  {
   "cell_type": "code",
   "execution_count": 4,
   "metadata": {},
   "outputs": [
    {
     "name": "stdout",
     "output_type": "stream",
     "text": [
      "Métricas salvas em: /mnt/c/Users/Ricardo/Documents/Development/tcc-1/experiments/comparison/general_metrics_summary.csv\n",
      "Métricas salvas em: /mnt/c/Users/Ricardo/Documents/Development/tcc-1/experiments/comparison/subdivided_metrics_summary.csv\n",
      "Gráfico salvo em: /mnt/c/Users/Ricardo/Documents/Development/tcc-1/experiments/comparison/metrics_mAP50(B)_comparison.png\n",
      "Gráfico salvo em: /mnt/c/Users/Ricardo/Documents/Development/tcc-1/experiments/comparison/metrics_mAP50-95(B)_comparison.png\n",
      "Gráfico salvo em: /mnt/c/Users/Ricardo/Documents/Development/tcc-1/experiments/comparison/metrics_precision(B)_comparison.png\n",
      "Gráfico salvo em: /mnt/c/Users/Ricardo/Documents/Development/tcc-1/experiments/comparison/metrics_recall(B)_comparison.png\n",
      "Gráfico salvo em: /mnt/c/Users/Ricardo/Documents/Development/tcc-1/experiments/comparison/train_box_loss_comparison.png\n",
      "Gráfico salvo em: /mnt/c/Users/Ricardo/Documents/Development/tcc-1/experiments/comparison/train_cls_loss_comparison.png\n",
      "Gráfico salvo em: /mnt/c/Users/Ricardo/Documents/Development/tcc-1/experiments/comparison/val_box_loss_comparison.png\n",
      "Gráfico salvo em: /mnt/c/Users/Ricardo/Documents/Development/tcc-1/experiments/comparison/val_cls_loss_comparison.png\n",
      "Métricas finais salvas em: /mnt/c/Users/Ricardo/Documents/Development/tcc-1/experiments/comparison/final_metrics_comparison.csv\n"
     ]
    }
   ],
   "source": [
    "\n",
    "if __name__ == \"__main__\":\n",
    "    main()"
   ]
  }
 ],
 "metadata": {
  "kernelspec": {
   "display_name": "venv",
   "language": "python",
   "name": "python3"
  },
  "language_info": {
   "codemirror_mode": {
    "name": "ipython",
    "version": 3
   },
   "file_extension": ".py",
   "mimetype": "text/x-python",
   "name": "python",
   "nbconvert_exporter": "python",
   "pygments_lexer": "ipython3",
   "version": "3.12.3"
  }
 },
 "nbformat": 4,
 "nbformat_minor": 2
}
