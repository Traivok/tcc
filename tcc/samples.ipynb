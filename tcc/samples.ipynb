{
 "cells": [
  {
   "cell_type": "code",
   "execution_count": 14,
   "metadata": {},
   "outputs": [],
   "source": [
    "import os\n",
    "from pathlib import Path\n",
    "\n",
    "import matplotlib.patches as patches\n",
    "import matplotlib.pyplot as plt\n",
    "from PIL import Image\n"
   ]
  },
  {
   "cell_type": "code",
   "execution_count": null,
   "metadata": {},
   "outputs": [],
   "source": [
    "\n",
    "# Caminhos para as imagens e anotações\n",
    "\n",
    "def get_path_from_cwd(x): return Path(\n",
    "    os.path.join(os.getcwd(), \"..\", x)).resolve()\n",
    "\n",
    "\n",
    "image_folder = get_path_from_cwd(\"data/ships-aerial-images/train/images\")\n",
    "annotation_folder = get_path_from_cwd(\"data/ships-aerial-images/train/labels\")\n",
    "save_folder = get_path_from_cwd(\"data/ships-aerial-images/output\")\n",
    "\n",
    "# Criar pasta de saída, se não existir\n",
    "os.makedirs(save_folder, exist_ok=True)"
   ]
  },
  {
   "cell_type": "code",
   "execution_count": 15,
   "metadata": {},
   "outputs": [],
   "source": [
    "def draw_bboxes(ax, annotation_path, image_width, image_height):\n",
    "    \"\"\"\n",
    "    Desenha bounding boxes em um eixo matplotlib com base no arquivo de anotação YOLO.\n",
    "    \"\"\"\n",
    "    with open(annotation_path, 'r') as f:\n",
    "        for line in f:\n",
    "            class_id, x_center, y_center, width, height = map(\n",
    "                float, line.strip().split())\n",
    "\n",
    "            # Convertendo coordenadas normalizadas para pixel\n",
    "            x_center *= image_width\n",
    "            y_center *= image_height\n",
    "            width *= image_width\n",
    "            height *= image_height\n",
    "\n",
    "            # Calculando a posição do canto superior esquerdo\n",
    "            x_min = x_center - width / 2\n",
    "            y_min = y_center - height / 2\n",
    "\n",
    "            # Adicionando o retângulo\n",
    "            rect = patches.Rectangle(\n",
    "                (x_min, y_min), width, height, linewidth=2, edgecolor='r', facecolor='none')\n",
    "            ax.add_patch(rect)"
   ]
  },
  {
   "cell_type": "code",
   "execution_count": 16,
   "metadata": {},
   "outputs": [],
   "source": [
    "# Listar arquivos de imagem e limitar a 32\n",
    "images = [f for f in os.listdir(\n",
    "    image_folder) if f.endswith(('.jpg', '.png'))][:32]"
   ]
  },
  {
   "cell_type": "code",
   "execution_count": 17,
   "metadata": {},
   "outputs": [
    {
     "name": "stdout",
     "output_type": "stream",
     "text": [
      "Imagens processadas e salvas em: /mnt/c/Users/Ricardo/Documents/Development/tcc-1/data/ships-aerial-images/output\n"
     ]
    }
   ],
   "source": [
    "for image_name in images:\n",
    "    # Criar figura para salvar\n",
    "    fig, ax = plt.subplots(figsize=(5, 5))\n",
    "\n",
    "    # Carregar imagem\n",
    "    image_path = os.path.join(image_folder, image_name)\n",
    "    image = Image.open(image_path)\n",
    "    ax.imshow(image)\n",
    "\n",
    "    # Desenhar bounding boxes\n",
    "    annotation_path = os.path.join(\n",
    "        annotation_folder, os.path.splitext(image_name)[0] + '.txt')\n",
    "    if os.path.exists(annotation_path):\n",
    "        draw_bboxes(ax, annotation_path, image.width, image.height)\n",
    "\n",
    "    # Configurar o título e esconder eixos\n",
    "    ax.set_title(image_name, fontsize=8)\n",
    "    ax.axis('off')\n",
    "\n",
    "    # Salvar a imagem com bounding boxes\n",
    "    save_path = os.path.join(save_folder, image_name)\n",
    "    fig.savefig(save_path, bbox_inches='tight')\n",
    "    plt.close(fig)\n",
    "\n",
    "print(f\"Imagens processadas e salvas em: {save_folder}\")"
   ]
  }
 ],
 "metadata": {
  "kernelspec": {
   "display_name": "venv",
   "language": "python",
   "name": "python3"
  },
  "language_info": {
   "codemirror_mode": {
    "name": "ipython",
    "version": 3
   },
   "file_extension": ".py",
   "mimetype": "text/x-python",
   "name": "python",
   "nbconvert_exporter": "python",
   "pygments_lexer": "ipython3",
   "version": "3.12.3"
  }
 },
 "nbformat": 4,
 "nbformat_minor": 2
}
