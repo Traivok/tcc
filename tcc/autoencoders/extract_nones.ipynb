{
 "cells": [
  {
   "cell_type": "markdown",
   "metadata": {},
   "source": [
    "## Notebook: Selecionar imagens sem objetos aleatoriamente no formato YOLO"
   ]
  },
  {
   "cell_type": "code",
   "execution_count": 17,
   "metadata": {},
   "outputs": [],
   "source": [
    "import os\n",
    "import random\n",
    "import shutil\n",
    "from glob import glob\n",
    "from tqdm import tqdm\n",
    "\n",
    "from PIL import Image"
   ]
  },
  {
   "cell_type": "code",
   "execution_count": 18,
   "metadata": {},
   "outputs": [],
   "source": [
    "# Diretórios do dataset YOLO\n",
    "pwd = os.getcwd()\n",
    "\n",
    "dataset_dir = os.path.abspath(os.path.join(\n",
    "    pwd, '..', '..', 'data', 'ships_v10i'))\n",
    "\n",
    "# Diretório onde salvar as áreas recortadas sem objetos\n",
    "output_dir = os.path.abspath(os.path.join(\n",
    "    pwd, '..', '..', 'data', 'categorized_images', 'background'))\n",
    "\n",
    "os.makedirs(output_dir, exist_ok=True)\n",
    "\n",
    "# Número de áreas que você deseja extrair\n",
    "num_samples = 3400\n",
    "\n",
    "# Tamanho da área recortada (largura e altura em pixels)\n",
    "crop_size = (224, 224)"
   ]
  },
  {
   "cell_type": "markdown",
   "metadata": {},
   "source": [
    "# ### 2. Encontrar imagens e labels com objetos"
   ]
  },
  {
   "cell_type": "code",
   "execution_count": 19,
   "metadata": {},
   "outputs": [],
   "source": [
    "def get_images_and_labels(images_dir, labels_dir):\n",
    "    images_paths = glob(os.path.join(images_dir, '*'))\n",
    "    images_labels = []\n",
    "\n",
    "    for img_path in images_paths:\n",
    "        img_name = os.path.basename(img_path)\n",
    "        label_path = os.path.join(labels_dir, img_name.replace(\n",
    "            '.jpg', '.txt').replace('.png', '.txt'))\n",
    "\n",
    "        # Apenas imagens com labels não vazios\n",
    "        if os.path.exists(label_path) and os.path.getsize(label_path) > 0:\n",
    "            images_labels.append((img_path, label_path))\n",
    "\n",
    "    return images_labels"
   ]
  },
  {
   "cell_type": "code",
   "execution_count": 20,
   "metadata": {},
   "outputs": [
    {
     "name": "stdout",
     "output_type": "stream",
     "text": [
      "Total de imagens com objetos encontradas: 2851\n"
     ]
    }
   ],
   "source": [
    "sets = ['train', 'valid', 'test']\n",
    "images_with_labels = []\n",
    "\n",
    "for s in sets:\n",
    "    images_dir = os.path.join(dataset_dir, s, 'images')\n",
    "    labels_dir = os.path.join(dataset_dir, s, 'labels')\n",
    "\n",
    "    images_labels = get_images_and_labels(images_dir, labels_dir)\n",
    "    images_with_labels.extend(images_labels)\n",
    "\n",
    "print(f'Total de imagens com objetos encontradas: {len(images_with_labels)}')"
   ]
  },
  {
   "cell_type": "code",
   "execution_count": 21,
   "metadata": {},
   "outputs": [],
   "source": [
    "def area_has_objects(label_path, crop_box, img_size):\n",
    "    with open(label_path, 'r') as f:\n",
    "        for line in f:\n",
    "            _, x_center, y_center, width, height = map(float, line.split())\n",
    "            x_center *= img_size[0]\n",
    "            y_center *= img_size[1]\n",
    "            width *= img_size[0]\n",
    "            height *= img_size[1]\n",
    "\n",
    "            box = [x_center - width/2, y_center - height/2,\n",
    "                   x_center + width/2, y_center + height/2]\n",
    "\n",
    "            if not (crop_box[2] <= box[0] or crop_box[0] >= box[2] or\n",
    "                    crop_box[3] <= box[1] or crop_box[1] >= box[3]):\n",
    "                return True\n",
    "    return False"
   ]
  },
  {
   "cell_type": "code",
   "execution_count": 22,
   "metadata": {},
   "outputs": [
    {
     "name": "stderr",
     "output_type": "stream",
     "text": [
      "Selecionando áreas sem objetos: 100%|██████████| 3400/3400 [01:56<00:00, 29.29it/s]"
     ]
    },
    {
     "name": "stdout",
     "output_type": "stream",
     "text": [
      "Áreas sem objetos copiadas com sucesso para /mnt/c/Users/Ricardo/Documents/Development/tcc-1/data/categorized_images/background\n"
     ]
    },
    {
     "name": "stderr",
     "output_type": "stream",
     "text": [
      "\n"
     ]
    }
   ],
   "source": [
    "random.seed(42)\n",
    "selected_count = 0\n",
    "\n",
    "pbar = tqdm(total=num_samples, desc=\"Selecionando áreas sem objetos\")\n",
    "\n",
    "while selected_count < num_samples:\n",
    "    img_path, label_path = random.choice(images_with_labels)\n",
    "    img = Image.open(img_path)\n",
    "    img_width, img_height = img.size\n",
    "\n",
    "    if img_width < crop_size[0] or img_height < crop_size[1]:\n",
    "        continue\n",
    "\n",
    "    x_max = img_width - crop_size[0]\n",
    "    y_max = img_height - crop_size[1]\n",
    "\n",
    "    x_start = random.randint(0, x_max)\n",
    "    y_start = random.randint(0, y_max)\n",
    "\n",
    "    crop_box = [x_start, y_start, x_start +\n",
    "                crop_size[0], y_start + crop_size[1]]\n",
    "\n",
    "    if not area_has_objects(label_path, crop_box, (img_width, img_height)):\n",
    "        cropped_img = img.crop(crop_box)\n",
    "        cropped_img.save(os.path.join(\n",
    "            output_dir, f'no_object_{selected_count}.jpg'))\n",
    "        selected_count += 1\n",
    "        pbar.update(1)\n",
    "\n",
    "pbar.close()\n",
    "print(f'Áreas sem objetos copiadas com sucesso para {output_dir}')"
   ]
  }
 ],
 "metadata": {
  "kernelspec": {
   "display_name": "venv",
   "language": "python",
   "name": "python3"
  },
  "language_info": {
   "codemirror_mode": {
    "name": "ipython",
    "version": 3
   },
   "file_extension": ".py",
   "mimetype": "text/x-python",
   "name": "python",
   "nbconvert_exporter": "python",
   "pygments_lexer": "ipython3",
   "version": "3.12.3"
  }
 },
 "nbformat": 4,
 "nbformat_minor": 2
}
