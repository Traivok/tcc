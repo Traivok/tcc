{
 "cells": [
  {
   "cell_type": "code",
   "execution_count": 1,
   "metadata": {},
   "outputs": [],
   "source": [
    "import os\n",
    "\n",
    "import torch\n",
    "from ultralytics import YOLO"
   ]
  },
  {
   "cell_type": "code",
   "execution_count": 2,
   "metadata": {},
   "outputs": [
    {
     "name": "stdout",
     "output_type": "stream",
     "text": [
      "True\n"
     ]
    }
   ],
   "source": [
    "print(torch.cuda.is_available())"
   ]
  },
  {
   "cell_type": "code",
   "execution_count": 3,
   "metadata": {},
   "outputs": [],
   "source": [
    "# Caminho para o arquivo data.yaml gerado\n",
    "base_dir = \"data/ships_v10i\"\n",
    "data_yaml_path = os.path.join(\"..\", \"..\", base_dir, \"data.yaml\")"
   ]
  },
  {
   "cell_type": "code",
   "execution_count": 4,
   "metadata": {},
   "outputs": [],
   "source": [
    "# Parâmetros de treinamento\n",
    "model_type = \"yolov8m\"  # Modelo: yolov8n, outros disponíveis: yolov8s, yolov8m, yolov8l, yolov8x\n",
    "epochs = 1000             # Número máximo de épocas\n",
    "imgsz = 640             # Tamanho da imagem\n",
    "batch = 8              # Tamanho do batch\n",
    "patience = 75           # Número de épocas sem melhorias para interromper o treinamento\n",
    "save_dir = \"runs/train/\" + model_type # Diretório para salvar os resultados"
   ]
  },
  {
   "cell_type": "code",
   "execution_count": 5,
   "metadata": {},
   "outputs": [],
   "source": [
    "# # Instanciar o modelo YOLOv8\n",
    "# model = YOLO(f'{model_type}.pt')  # Baixa o modelo pré-treinado correspondente\n",
    "# Substitua pelo caminho completo para 'last.pt'\n",
    "model_path = os.path.join(\"..\", \"..\", 'runs', 'detect', 'train20', 'weights', 'last.pt')\n",
    "model = YOLO(model_path)"
   ]
  },
  {
   "cell_type": "code",
   "execution_count": 6,
   "metadata": {},
   "outputs": [
    {
     "name": "stdout",
     "output_type": "stream",
     "text": [
      "New https://pypi.org/project/ultralytics/8.3.59 available 😃 Update with 'pip install -U ultralytics'\n",
      "Ultralytics 8.3.56 🚀 Python-3.12.3 torch-2.5.1+cu124 CUDA:0 (NVIDIA GeForce RTX 4060 Ti, 8187MiB)\n",
      "\u001b[34m\u001b[1mengine/trainer: \u001b[0mtask=detect, mode=train, model=../../runs/detect/train20/weights/last.pt, data=../../data/ships_v10i/data.yaml, epochs=1000, time=None, patience=75, batch=8, imgsz=640, save=True, save_period=-1, cache=False, device=None, workers=8, project=None, name=train23, exist_ok=False, pretrained=True, optimizer=auto, verbose=True, seed=0, deterministic=True, single_cls=False, rect=False, cos_lr=False, close_mosaic=10, resume=False, amp=True, fraction=1.0, profile=False, freeze=None, multi_scale=False, overlap_mask=True, mask_ratio=4, dropout=0.0, val=True, split=val, save_json=False, save_hybrid=False, conf=None, iou=0.7, max_det=300, half=False, dnn=False, plots=True, source=None, vid_stride=1, stream_buffer=False, visualize=False, augment=False, agnostic_nms=False, classes=None, retina_masks=False, embed=None, show=False, save_frames=False, save_txt=False, save_conf=False, save_crop=False, show_labels=True, show_conf=True, show_boxes=True, line_width=None, format=torchscript, keras=False, optimize=False, int8=False, dynamic=False, simplify=True, opset=None, workspace=None, nms=False, lr0=0.01, lrf=0.01, momentum=0.937, weight_decay=0.0005, warmup_epochs=3.0, warmup_momentum=0.8, warmup_bias_lr=0.1, box=7.5, cls=0.5, dfl=1.5, pose=12.0, kobj=1.0, nbs=64, hsv_h=0.015, hsv_s=0.7, hsv_v=0.4, degrees=0.0, translate=0.1, scale=0.5, shear=0.0, perspective=0.0, flipud=0.0, fliplr=0.5, bgr=0.0, mosaic=1.0, mixup=0.0, copy_paste=0.0, copy_paste_mode=flip, auto_augment=randaugment, erasing=0.4, crop_fraction=1.0, cfg=None, tracker=botsort.yaml, save_dir=/mnt/c/Users/Ricardo/Documents/Development/tcc-1/runs/detect/train23\n"
     ]
    },
    {
     "name": "stderr",
     "output_type": "stream",
     "text": [
      "WARNING: All log messages before absl::InitializeLog() is called are written to STDERR\n",
      "E0000 00:00:1736541132.266738   19237 cuda_dnn.cc:8310] Unable to register cuDNN factory: Attempting to register factory for plugin cuDNN when one has already been registered\n",
      "E0000 00:00:1736541132.541736   19237 cuda_blas.cc:1418] Unable to register cuBLAS factory: Attempting to register factory for plugin cuBLAS when one has already been registered\n"
     ]
    },
    {
     "name": "stdout",
     "output_type": "stream",
     "text": [
      "Overriding model.yaml nc=4 with nc=1\n",
      "\n",
      "                   from  n    params  module                                       arguments                     \n",
      "  0                  -1  1      1392  ultralytics.nn.modules.conv.Conv             [3, 48, 3, 2]                 \n",
      "  1                  -1  1     41664  ultralytics.nn.modules.conv.Conv             [48, 96, 3, 2]                \n",
      "  2                  -1  2    111360  ultralytics.nn.modules.block.C2f             [96, 96, 2, True]             \n",
      "  3                  -1  1    166272  ultralytics.nn.modules.conv.Conv             [96, 192, 3, 2]               \n",
      "  4                  -1  4    813312  ultralytics.nn.modules.block.C2f             [192, 192, 4, True]           \n",
      "  5                  -1  1    664320  ultralytics.nn.modules.conv.Conv             [192, 384, 3, 2]              \n",
      "  6                  -1  4   3248640  ultralytics.nn.modules.block.C2f             [384, 384, 4, True]           \n",
      "  7                  -1  1   1991808  ultralytics.nn.modules.conv.Conv             [384, 576, 3, 2]              \n",
      "  8                  -1  2   3985920  ultralytics.nn.modules.block.C2f             [576, 576, 2, True]           \n",
      "  9                  -1  1    831168  ultralytics.nn.modules.block.SPPF            [576, 576, 5]                 \n",
      " 10                  -1  1         0  torch.nn.modules.upsampling.Upsample         [None, 2, 'nearest']          \n",
      " 11             [-1, 6]  1         0  ultralytics.nn.modules.conv.Concat           [1]                           \n",
      " 12                  -1  2   1993728  ultralytics.nn.modules.block.C2f             [960, 384, 2]                 \n",
      " 13                  -1  1         0  torch.nn.modules.upsampling.Upsample         [None, 2, 'nearest']          \n",
      " 14             [-1, 4]  1         0  ultralytics.nn.modules.conv.Concat           [1]                           \n",
      " 15                  -1  2    517632  ultralytics.nn.modules.block.C2f             [576, 192, 2]                 \n",
      " 16                  -1  1    332160  ultralytics.nn.modules.conv.Conv             [192, 192, 3, 2]              \n",
      " 17            [-1, 12]  1         0  ultralytics.nn.modules.conv.Concat           [1]                           \n",
      " 18                  -1  2   1846272  ultralytics.nn.modules.block.C2f             [576, 384, 2]                 \n",
      " 19                  -1  1   1327872  ultralytics.nn.modules.conv.Conv             [384, 384, 3, 2]              \n",
      " 20             [-1, 9]  1         0  ultralytics.nn.modules.conv.Concat           [1]                           \n",
      " 21                  -1  2   4207104  ultralytics.nn.modules.block.C2f             [960, 576, 2]                 \n",
      " 22        [15, 18, 21]  1   3776275  ultralytics.nn.modules.head.Detect           [1, [192, 384, 576]]          \n",
      "Model summary: 295 layers, 25,856,899 parameters, 25,856,883 gradients, 79.1 GFLOPs\n",
      "\n",
      "Transferred 469/475 items from pretrained weights\n",
      "\u001b[34m\u001b[1mTensorBoard: \u001b[0mStart with 'tensorboard --logdir /mnt/c/Users/Ricardo/Documents/Development/tcc-1/runs/detect/train23', view at http://localhost:6006/\n",
      "Freezing layer 'model.22.dfl.conv.weight'\n",
      "\u001b[34m\u001b[1mAMP: \u001b[0mrunning Automatic Mixed Precision (AMP) checks...\n",
      "\u001b[34m\u001b[1mAMP: \u001b[0mchecks passed ✅\n"
     ]
    },
    {
     "name": "stderr",
     "output_type": "stream",
     "text": [
      "\u001b[34m\u001b[1mtrain: \u001b[0mScanning /mnt/c/Users/Ricardo/Documents/Development/tcc-1/data/ships_v10i/train/labels... 2320 images, 300 backgrounds, 0 corrupt: 100%|██████████| 2320/2320 [00:07<00:00, 294.74it/s]\n"
     ]
    },
    {
     "name": "stdout",
     "output_type": "stream",
     "text": [
      "\u001b[34m\u001b[1mtrain: \u001b[0mNew cache created: /mnt/c/Users/Ricardo/Documents/Development/tcc-1/data/ships_v10i/train/labels.cache\n"
     ]
    },
    {
     "name": "stderr",
     "output_type": "stream",
     "text": [
      "\u001b[34m\u001b[1mval: \u001b[0mScanning /mnt/c/Users/Ricardo/Documents/Development/tcc-1/data/ships_v10i/valid/labels... 521 images, 50 backgrounds, 0 corrupt: 100%|██████████| 521/521 [00:01<00:00, 315.72it/s]\n"
     ]
    },
    {
     "name": "stdout",
     "output_type": "stream",
     "text": [
      "\u001b[34m\u001b[1mval: \u001b[0mNew cache created: /mnt/c/Users/Ricardo/Documents/Development/tcc-1/data/ships_v10i/valid/labels.cache\n",
      "Plotting labels to /mnt/c/Users/Ricardo/Documents/Development/tcc-1/runs/detect/train23/labels.jpg... \n",
      "\u001b[34m\u001b[1moptimizer:\u001b[0m 'optimizer=auto' found, ignoring 'lr0=0.01' and 'momentum=0.937' and determining best 'optimizer', 'lr0' and 'momentum' automatically... \n",
      "\u001b[34m\u001b[1moptimizer:\u001b[0m SGD(lr=0.01, momentum=0.9) with parameter groups 77 weight(decay=0.0), 84 weight(decay=0.0005), 83 bias(decay=0.0)\n",
      "\u001b[34m\u001b[1mTensorBoard: \u001b[0mmodel graph visualization added ✅\n",
      "Image sizes 640 train, 640 val\n",
      "Using 8 dataloader workers\n",
      "Logging results to \u001b[1m/mnt/c/Users/Ricardo/Documents/Development/tcc-1/runs/detect/train23\u001b[0m\n",
      "Starting training for 1000 epochs...\n",
      "\n",
      "      Epoch    GPU_mem   box_loss   cls_loss   dfl_loss  Instances       Size\n"
     ]
    },
    {
     "name": "stderr",
     "output_type": "stream",
     "text": [
      "     1/1000      3.79G     0.7661      1.156     0.9655          3        640: 100%|██████████| 290/290 [01:22<00:00,  3.52it/s]\n",
      "                 Class     Images  Instances      Box(P          R      mAP50  mAP50-95): 100%|██████████| 33/33 [00:08<00:00,  3.75it/s]"
     ]
    },
    {
     "name": "stdout",
     "output_type": "stream",
     "text": [
      "                   all        521        702      0.922      0.863      0.939      0.642\n"
     ]
    },
    {
     "name": "stderr",
     "output_type": "stream",
     "text": [
      "\n"
     ]
    },
    {
     "name": "stdout",
     "output_type": "stream",
     "text": [
      "\n",
      "      Epoch    GPU_mem   box_loss   cls_loss   dfl_loss  Instances       Size\n"
     ]
    },
    {
     "name": "stderr",
     "output_type": "stream",
     "text": [
      "     2/1000      3.85G     0.7466      0.482     0.9591         13        640: 100%|██████████| 290/290 [01:17<00:00,  3.75it/s]\n",
      "                 Class     Images  Instances      Box(P          R      mAP50  mAP50-95): 100%|██████████| 33/33 [00:07<00:00,  4.18it/s]"
     ]
    },
    {
     "name": "stdout",
     "output_type": "stream",
     "text": [
      "                   all        521        702      0.931      0.844      0.934      0.641\n"
     ]
    },
    {
     "name": "stderr",
     "output_type": "stream",
     "text": [
      "\n"
     ]
    },
    {
     "name": "stdout",
     "output_type": "stream",
     "text": [
      "\n",
      "      Epoch    GPU_mem   box_loss   cls_loss   dfl_loss  Instances       Size\n"
     ]
    },
    {
     "name": "stderr",
     "output_type": "stream",
     "text": [
      "     3/1000      3.66G      0.754     0.4874     0.9672         26        640: 100%|██████████| 290/290 [01:14<00:00,  3.88it/s]\n",
      "                 Class     Images  Instances      Box(P          R      mAP50  mAP50-95): 100%|██████████| 33/33 [00:07<00:00,  4.26it/s]"
     ]
    },
    {
     "name": "stdout",
     "output_type": "stream",
     "text": [
      "                   all        521        702      0.929      0.852      0.923      0.639\n"
     ]
    },
    {
     "name": "stderr",
     "output_type": "stream",
     "text": [
      "\n"
     ]
    },
    {
     "name": "stdout",
     "output_type": "stream",
     "text": [
      "\n",
      "      Epoch    GPU_mem   box_loss   cls_loss   dfl_loss  Instances       Size\n"
     ]
    },
    {
     "name": "stderr",
     "output_type": "stream",
     "text": [
      "     4/1000      3.64G     0.7801     0.5101     0.9783          9        640: 100%|██████████| 290/290 [01:15<00:00,  3.82it/s]\n",
      "                 Class     Images  Instances      Box(P          R      mAP50  mAP50-95): 100%|██████████| 33/33 [00:07<00:00,  4.16it/s]"
     ]
    },
    {
     "name": "stdout",
     "output_type": "stream",
     "text": [
      "                   all        521        702      0.891       0.86      0.921       0.62\n"
     ]
    },
    {
     "name": "stderr",
     "output_type": "stream",
     "text": [
      "\n"
     ]
    },
    {
     "name": "stdout",
     "output_type": "stream",
     "text": [
      "\n",
      "      Epoch    GPU_mem   box_loss   cls_loss   dfl_loss  Instances       Size\n"
     ]
    },
    {
     "name": "stderr",
     "output_type": "stream",
     "text": [
      "     5/1000      3.79G     0.8187     0.5163     0.9893         17        640: 100%|██████████| 290/290 [01:13<00:00,  3.93it/s]\n",
      "                 Class     Images  Instances      Box(P          R      mAP50  mAP50-95): 100%|██████████| 33/33 [00:07<00:00,  4.40it/s]"
     ]
    },
    {
     "name": "stdout",
     "output_type": "stream",
     "text": [
      "                   all        521        702      0.879      0.839      0.912      0.616\n"
     ]
    },
    {
     "name": "stderr",
     "output_type": "stream",
     "text": [
      "\n"
     ]
    },
    {
     "name": "stdout",
     "output_type": "stream",
     "text": [
      "\n",
      "      Epoch    GPU_mem   box_loss   cls_loss   dfl_loss  Instances       Size\n"
     ]
    },
    {
     "name": "stderr",
     "output_type": "stream",
     "text": [
      "     6/1000      3.84G     0.8225     0.5293     0.9928         17        640: 100%|██████████| 290/290 [01:12<00:00,  3.97it/s]\n",
      "                 Class     Images  Instances      Box(P          R      mAP50  mAP50-95): 100%|██████████| 33/33 [00:09<00:00,  3.60it/s]"
     ]
    },
    {
     "name": "stdout",
     "output_type": "stream",
     "text": [
      "                   all        521        702      0.902      0.839      0.913      0.616\n"
     ]
    },
    {
     "name": "stderr",
     "output_type": "stream",
     "text": [
      "\n"
     ]
    },
    {
     "name": "stdout",
     "output_type": "stream",
     "text": [
      "\n",
      "      Epoch    GPU_mem   box_loss   cls_loss   dfl_loss  Instances       Size\n"
     ]
    },
    {
     "name": "stderr",
     "output_type": "stream",
     "text": [
      "     7/1000      3.81G     0.8309     0.5375      1.009         18        640: 100%|██████████| 290/290 [01:13<00:00,  3.94it/s]\n",
      "                 Class     Images  Instances      Box(P          R      mAP50  mAP50-95): 100%|██████████| 33/33 [00:07<00:00,  4.42it/s]"
     ]
    },
    {
     "name": "stdout",
     "output_type": "stream",
     "text": [
      "                   all        521        702      0.909      0.836      0.912      0.627\n"
     ]
    },
    {
     "name": "stderr",
     "output_type": "stream",
     "text": [
      "\n"
     ]
    },
    {
     "name": "stdout",
     "output_type": "stream",
     "text": [
      "\n",
      "      Epoch    GPU_mem   box_loss   cls_loss   dfl_loss  Instances       Size\n"
     ]
    },
    {
     "name": "stderr",
     "output_type": "stream",
     "text": [
      "     8/1000      3.63G     0.8069     0.5301     0.9975         13        640: 100%|██████████| 290/290 [01:13<00:00,  3.96it/s]\n",
      "                 Class     Images  Instances      Box(P          R      mAP50  mAP50-95): 100%|██████████| 33/33 [00:09<00:00,  3.53it/s]"
     ]
    },
    {
     "name": "stdout",
     "output_type": "stream",
     "text": [
      "                   all        521        702      0.876      0.884      0.919      0.625\n"
     ]
    },
    {
     "name": "stderr",
     "output_type": "stream",
     "text": [
      "\n"
     ]
    },
    {
     "name": "stdout",
     "output_type": "stream",
     "text": [
      "\n",
      "      Epoch    GPU_mem   box_loss   cls_loss   dfl_loss  Instances       Size\n"
     ]
    },
    {
     "name": "stderr",
     "output_type": "stream",
     "text": [
      "     9/1000      3.84G     0.8276     0.5401     0.9926         25        640: 100%|██████████| 290/290 [01:13<00:00,  3.96it/s]\n",
      "                 Class     Images  Instances      Box(P          R      mAP50  mAP50-95): 100%|██████████| 33/33 [00:07<00:00,  4.34it/s]"
     ]
    },
    {
     "name": "stdout",
     "output_type": "stream",
     "text": [
      "                   all        521        702      0.889      0.856      0.905      0.608\n"
     ]
    },
    {
     "name": "stderr",
     "output_type": "stream",
     "text": [
      "\n"
     ]
    },
    {
     "name": "stdout",
     "output_type": "stream",
     "text": [
      "\n",
      "      Epoch    GPU_mem   box_loss   cls_loss   dfl_loss  Instances       Size\n"
     ]
    },
    {
     "name": "stderr",
     "output_type": "stream",
     "text": [
      "    10/1000      3.76G     0.8125     0.5235     0.9978          8        640: 100%|██████████| 290/290 [01:13<00:00,  3.94it/s]\n",
      "                 Class     Images  Instances      Box(P          R      mAP50  mAP50-95): 100%|██████████| 33/33 [00:07<00:00,  4.36it/s]"
     ]
    },
    {
     "name": "stdout",
     "output_type": "stream",
     "text": [
      "                   all        521        702       0.92      0.846       0.93      0.621\n"
     ]
    },
    {
     "name": "stderr",
     "output_type": "stream",
     "text": [
      "\n"
     ]
    },
    {
     "name": "stdout",
     "output_type": "stream",
     "text": [
      "\n",
      "      Epoch    GPU_mem   box_loss   cls_loss   dfl_loss  Instances       Size\n"
     ]
    },
    {
     "name": "stderr",
     "output_type": "stream",
     "text": [
      "    11/1000      3.84G     0.8263     0.5283      1.008         15        640: 100%|██████████| 290/290 [01:13<00:00,  3.95it/s]\n",
      "                 Class     Images  Instances      Box(P          R      mAP50  mAP50-95): 100%|██████████| 33/33 [00:07<00:00,  4.28it/s]"
     ]
    },
    {
     "name": "stdout",
     "output_type": "stream",
     "text": [
      "                   all        521        702      0.887       0.86      0.921      0.612\n"
     ]
    },
    {
     "name": "stderr",
     "output_type": "stream",
     "text": [
      "\n"
     ]
    },
    {
     "name": "stdout",
     "output_type": "stream",
     "text": [
      "\n",
      "      Epoch    GPU_mem   box_loss   cls_loss   dfl_loss  Instances       Size\n"
     ]
    },
    {
     "name": "stderr",
     "output_type": "stream",
     "text": [
      "    12/1000      3.86G      0.822     0.5225     0.9886          9        640: 100%|██████████| 290/290 [01:12<00:00,  3.99it/s]\n",
      "                 Class     Images  Instances      Box(P          R      mAP50  mAP50-95): 100%|██████████| 33/33 [00:07<00:00,  4.33it/s]"
     ]
    },
    {
     "name": "stdout",
     "output_type": "stream",
     "text": [
      "                   all        521        702      0.888      0.866       0.92      0.621\n"
     ]
    },
    {
     "name": "stderr",
     "output_type": "stream",
     "text": [
      "\n"
     ]
    },
    {
     "name": "stdout",
     "output_type": "stream",
     "text": [
      "\n",
      "      Epoch    GPU_mem   box_loss   cls_loss   dfl_loss  Instances       Size\n"
     ]
    },
    {
     "name": "stderr",
     "output_type": "stream",
     "text": [
      "    13/1000      3.63G     0.8105     0.5222     0.9985         27        640: 100%|██████████| 290/290 [01:15<00:00,  3.85it/s]\n",
      "                 Class     Images  Instances      Box(P          R      mAP50  mAP50-95): 100%|██████████| 33/33 [00:07<00:00,  4.13it/s]"
     ]
    },
    {
     "name": "stdout",
     "output_type": "stream",
     "text": [
      "                   all        521        702      0.872      0.858       0.91      0.617\n"
     ]
    },
    {
     "name": "stderr",
     "output_type": "stream",
     "text": [
      "\n"
     ]
    },
    {
     "name": "stdout",
     "output_type": "stream",
     "text": [
      "\n",
      "      Epoch    GPU_mem   box_loss   cls_loss   dfl_loss  Instances       Size\n"
     ]
    },
    {
     "name": "stderr",
     "output_type": "stream",
     "text": [
      "    14/1000      3.64G     0.8088     0.5223     0.9922         15        640: 100%|██████████| 290/290 [01:13<00:00,  3.96it/s]\n",
      "                 Class     Images  Instances      Box(P          R      mAP50  mAP50-95): 100%|██████████| 33/33 [00:07<00:00,  4.51it/s]"
     ]
    },
    {
     "name": "stdout",
     "output_type": "stream",
     "text": [
      "                   all        521        702      0.905      0.857      0.911      0.615\n"
     ]
    },
    {
     "name": "stderr",
     "output_type": "stream",
     "text": [
      "\n"
     ]
    },
    {
     "name": "stdout",
     "output_type": "stream",
     "text": [
      "\n",
      "      Epoch    GPU_mem   box_loss   cls_loss   dfl_loss  Instances       Size\n"
     ]
    },
    {
     "name": "stderr",
     "output_type": "stream",
     "text": [
      "    15/1000      3.65G     0.8132     0.5301     0.9955         13        640: 100%|██████████| 290/290 [01:13<00:00,  3.97it/s]\n",
      "                 Class     Images  Instances      Box(P          R      mAP50  mAP50-95): 100%|██████████| 33/33 [00:09<00:00,  3.36it/s]"
     ]
    },
    {
     "name": "stdout",
     "output_type": "stream",
     "text": [
      "                   all        521        702      0.894      0.845      0.921       0.62\n"
     ]
    },
    {
     "name": "stderr",
     "output_type": "stream",
     "text": [
      "\n"
     ]
    },
    {
     "name": "stdout",
     "output_type": "stream",
     "text": [
      "\n",
      "      Epoch    GPU_mem   box_loss   cls_loss   dfl_loss  Instances       Size\n"
     ]
    },
    {
     "name": "stderr",
     "output_type": "stream",
     "text": [
      "    16/1000      3.94G     0.8129     0.5135     0.9961         20        640: 100%|██████████| 290/290 [01:13<00:00,  3.97it/s]\n",
      "                 Class     Images  Instances      Box(P          R      mAP50  mAP50-95): 100%|██████████| 33/33 [00:09<00:00,  3.59it/s]"
     ]
    },
    {
     "name": "stdout",
     "output_type": "stream",
     "text": [
      "                   all        521        702      0.903      0.832      0.903      0.614\n"
     ]
    },
    {
     "name": "stderr",
     "output_type": "stream",
     "text": [
      "\n"
     ]
    },
    {
     "name": "stdout",
     "output_type": "stream",
     "text": [
      "\n",
      "      Epoch    GPU_mem   box_loss   cls_loss   dfl_loss  Instances       Size\n"
     ]
    },
    {
     "name": "stderr",
     "output_type": "stream",
     "text": [
      "    17/1000      3.79G      0.823     0.5277      1.003         13        640: 100%|██████████| 290/290 [01:13<00:00,  3.93it/s]\n",
      "                 Class     Images  Instances      Box(P          R      mAP50  mAP50-95): 100%|██████████| 33/33 [00:07<00:00,  4.42it/s]"
     ]
    },
    {
     "name": "stdout",
     "output_type": "stream",
     "text": [
      "                   all        521        702        0.9       0.86      0.925      0.626\n"
     ]
    },
    {
     "name": "stderr",
     "output_type": "stream",
     "text": [
      "\n"
     ]
    },
    {
     "name": "stdout",
     "output_type": "stream",
     "text": [
      "\n",
      "      Epoch    GPU_mem   box_loss   cls_loss   dfl_loss  Instances       Size\n"
     ]
    },
    {
     "name": "stderr",
     "output_type": "stream",
     "text": [
      "    18/1000      3.63G     0.8066     0.5208     0.9944         14        640: 100%|██████████| 290/290 [01:13<00:00,  3.95it/s]\n",
      "                 Class     Images  Instances      Box(P          R      mAP50  mAP50-95): 100%|██████████| 33/33 [00:09<00:00,  3.62it/s]"
     ]
    },
    {
     "name": "stdout",
     "output_type": "stream",
     "text": [
      "                   all        521        702      0.895      0.873      0.924       0.63\n"
     ]
    },
    {
     "name": "stderr",
     "output_type": "stream",
     "text": [
      "\n"
     ]
    },
    {
     "name": "stdout",
     "output_type": "stream",
     "text": [
      "\n",
      "      Epoch    GPU_mem   box_loss   cls_loss   dfl_loss  Instances       Size\n"
     ]
    },
    {
     "name": "stderr",
     "output_type": "stream",
     "text": [
      "    19/1000      3.63G     0.8217     0.5297     0.9953         18        640: 100%|██████████| 290/290 [01:13<00:00,  3.95it/s]\n",
      "                 Class     Images  Instances      Box(P          R      mAP50  mAP50-95): 100%|██████████| 33/33 [00:07<00:00,  4.24it/s]"
     ]
    },
    {
     "name": "stdout",
     "output_type": "stream",
     "text": [
      "                   all        521        702      0.909      0.869      0.923      0.623\n"
     ]
    },
    {
     "name": "stderr",
     "output_type": "stream",
     "text": [
      "\n"
     ]
    },
    {
     "name": "stdout",
     "output_type": "stream",
     "text": [
      "\n",
      "      Epoch    GPU_mem   box_loss   cls_loss   dfl_loss  Instances       Size\n"
     ]
    },
    {
     "name": "stderr",
     "output_type": "stream",
     "text": [
      "    20/1000       3.8G     0.8301     0.5295     0.9985          9        640: 100%|██████████| 290/290 [01:13<00:00,  3.96it/s]\n",
      "                 Class     Images  Instances      Box(P          R      mAP50  mAP50-95): 100%|██████████| 33/33 [00:09<00:00,  3.61it/s]"
     ]
    },
    {
     "name": "stdout",
     "output_type": "stream",
     "text": [
      "                   all        521        702      0.885      0.853      0.912      0.619\n"
     ]
    },
    {
     "name": "stderr",
     "output_type": "stream",
     "text": [
      "\n"
     ]
    },
    {
     "name": "stdout",
     "output_type": "stream",
     "text": [
      "\n",
      "      Epoch    GPU_mem   box_loss   cls_loss   dfl_loss  Instances       Size\n"
     ]
    },
    {
     "name": "stderr",
     "output_type": "stream",
     "text": [
      "    21/1000      3.63G     0.8179     0.5282     0.9921         39        640: 100%|██████████| 290/290 [01:13<00:00,  3.96it/s]\n",
      "                 Class     Images  Instances      Box(P          R      mAP50  mAP50-95): 100%|██████████| 33/33 [00:07<00:00,  4.18it/s]"
     ]
    },
    {
     "name": "stdout",
     "output_type": "stream",
     "text": [
      "                   all        521        702      0.913      0.835      0.916      0.622\n"
     ]
    },
    {
     "name": "stderr",
     "output_type": "stream",
     "text": [
      "\n"
     ]
    },
    {
     "name": "stdout",
     "output_type": "stream",
     "text": [
      "\n",
      "      Epoch    GPU_mem   box_loss   cls_loss   dfl_loss  Instances       Size\n"
     ]
    },
    {
     "name": "stderr",
     "output_type": "stream",
     "text": [
      "    22/1000      4.02G      0.826     0.5323     0.9885         11        640: 100%|██████████| 290/290 [01:13<00:00,  3.97it/s]\n",
      "                 Class     Images  Instances      Box(P          R      mAP50  mAP50-95): 100%|██████████| 33/33 [00:08<00:00,  3.70it/s]"
     ]
    },
    {
     "name": "stdout",
     "output_type": "stream",
     "text": [
      "                   all        521        702      0.876      0.852      0.906      0.619\n"
     ]
    },
    {
     "name": "stderr",
     "output_type": "stream",
     "text": [
      "\n"
     ]
    },
    {
     "name": "stdout",
     "output_type": "stream",
     "text": [
      "\n",
      "      Epoch    GPU_mem   box_loss   cls_loss   dfl_loss  Instances       Size\n"
     ]
    },
    {
     "name": "stderr",
     "output_type": "stream",
     "text": [
      "    23/1000      3.82G     0.8077     0.5205     0.9999         12        640: 100%|██████████| 290/290 [01:12<00:00,  3.97it/s]\n",
      "                 Class     Images  Instances      Box(P          R      mAP50  mAP50-95): 100%|██████████| 33/33 [00:07<00:00,  4.42it/s]"
     ]
    },
    {
     "name": "stdout",
     "output_type": "stream",
     "text": [
      "                   all        521        702       0.89      0.861      0.912      0.614\n"
     ]
    },
    {
     "name": "stderr",
     "output_type": "stream",
     "text": [
      "\n"
     ]
    },
    {
     "name": "stdout",
     "output_type": "stream",
     "text": [
      "\n",
      "      Epoch    GPU_mem   box_loss   cls_loss   dfl_loss  Instances       Size\n"
     ]
    },
    {
     "name": "stderr",
     "output_type": "stream",
     "text": [
      "    24/1000      3.79G      0.811     0.5184     0.9868         24        640: 100%|██████████| 290/290 [01:12<00:00,  3.98it/s]\n",
      "                 Class     Images  Instances      Box(P          R      mAP50  mAP50-95): 100%|██████████| 33/33 [00:07<00:00,  4.25it/s]"
     ]
    },
    {
     "name": "stdout",
     "output_type": "stream",
     "text": [
      "                   all        521        702      0.919      0.839      0.919      0.617\n"
     ]
    },
    {
     "name": "stderr",
     "output_type": "stream",
     "text": [
      "\n"
     ]
    },
    {
     "name": "stdout",
     "output_type": "stream",
     "text": [
      "\n",
      "      Epoch    GPU_mem   box_loss   cls_loss   dfl_loss  Instances       Size\n"
     ]
    },
    {
     "name": "stderr",
     "output_type": "stream",
     "text": [
      "    25/1000      3.63G      0.804      0.515     0.9935         16        640: 100%|██████████| 290/290 [01:14<00:00,  3.87it/s]\n",
      "                 Class     Images  Instances      Box(P          R      mAP50  mAP50-95): 100%|██████████| 33/33 [00:07<00:00,  4.26it/s]"
     ]
    },
    {
     "name": "stdout",
     "output_type": "stream",
     "text": [
      "                   all        521        702      0.902      0.853      0.916      0.615\n"
     ]
    },
    {
     "name": "stderr",
     "output_type": "stream",
     "text": [
      "\n"
     ]
    },
    {
     "name": "stdout",
     "output_type": "stream",
     "text": [
      "\n",
      "      Epoch    GPU_mem   box_loss   cls_loss   dfl_loss  Instances       Size\n"
     ]
    },
    {
     "name": "stderr",
     "output_type": "stream",
     "text": [
      "    26/1000      3.64G     0.8125     0.5198     0.9991         15        640: 100%|██████████| 290/290 [01:12<00:00,  3.99it/s]\n",
      "                 Class     Images  Instances      Box(P          R      mAP50  mAP50-95): 100%|██████████| 33/33 [00:07<00:00,  4.37it/s]"
     ]
    },
    {
     "name": "stdout",
     "output_type": "stream",
     "text": [
      "                   all        521        702      0.916      0.834      0.922       0.62\n"
     ]
    },
    {
     "name": "stderr",
     "output_type": "stream",
     "text": [
      "\n"
     ]
    },
    {
     "name": "stdout",
     "output_type": "stream",
     "text": [
      "\n",
      "      Epoch    GPU_mem   box_loss   cls_loss   dfl_loss  Instances       Size\n"
     ]
    },
    {
     "name": "stderr",
     "output_type": "stream",
     "text": [
      "    27/1000      3.62G     0.8019     0.5057     0.9851          9        640: 100%|██████████| 290/290 [01:14<00:00,  3.87it/s]\n",
      "                 Class     Images  Instances      Box(P          R      mAP50  mAP50-95): 100%|██████████| 33/33 [00:07<00:00,  4.25it/s]"
     ]
    },
    {
     "name": "stdout",
     "output_type": "stream",
     "text": [
      "                   all        521        702      0.912      0.859      0.919      0.624\n"
     ]
    },
    {
     "name": "stderr",
     "output_type": "stream",
     "text": [
      "\n"
     ]
    },
    {
     "name": "stdout",
     "output_type": "stream",
     "text": [
      "\n",
      "      Epoch    GPU_mem   box_loss   cls_loss   dfl_loss  Instances       Size\n"
     ]
    },
    {
     "name": "stderr",
     "output_type": "stream",
     "text": [
      "    28/1000      3.76G     0.8141     0.5174     0.9946         15        640: 100%|██████████| 290/290 [01:12<00:00,  4.00it/s]\n",
      "                 Class     Images  Instances      Box(P          R      mAP50  mAP50-95): 100%|██████████| 33/33 [00:07<00:00,  4.17it/s]"
     ]
    },
    {
     "name": "stdout",
     "output_type": "stream",
     "text": [
      "                   all        521        702      0.906      0.849      0.913      0.608\n"
     ]
    },
    {
     "name": "stderr",
     "output_type": "stream",
     "text": [
      "\n"
     ]
    },
    {
     "name": "stdout",
     "output_type": "stream",
     "text": [
      "\n",
      "      Epoch    GPU_mem   box_loss   cls_loss   dfl_loss  Instances       Size\n"
     ]
    },
    {
     "name": "stderr",
     "output_type": "stream",
     "text": [
      "    29/1000      3.65G     0.8063     0.5192     0.9941         21        640: 100%|██████████| 290/290 [01:13<00:00,  3.96it/s]\n",
      "                 Class     Images  Instances      Box(P          R      mAP50  mAP50-95): 100%|██████████| 33/33 [00:09<00:00,  3.50it/s]"
     ]
    },
    {
     "name": "stdout",
     "output_type": "stream",
     "text": [
      "                   all        521        702      0.899      0.879      0.931      0.634\n"
     ]
    },
    {
     "name": "stderr",
     "output_type": "stream",
     "text": [
      "\n"
     ]
    },
    {
     "name": "stdout",
     "output_type": "stream",
     "text": [
      "\n",
      "      Epoch    GPU_mem   box_loss   cls_loss   dfl_loss  Instances       Size\n"
     ]
    },
    {
     "name": "stderr",
     "output_type": "stream",
     "text": [
      "    30/1000       3.8G     0.7913     0.5067     0.9796         19        640: 100%|██████████| 290/290 [01:13<00:00,  3.94it/s]\n",
      "                 Class     Images  Instances      Box(P          R      mAP50  mAP50-95): 100%|██████████| 33/33 [00:07<00:00,  4.19it/s]"
     ]
    },
    {
     "name": "stdout",
     "output_type": "stream",
     "text": [
      "                   all        521        702      0.879      0.859      0.909      0.615\n"
     ]
    },
    {
     "name": "stderr",
     "output_type": "stream",
     "text": [
      "\n"
     ]
    },
    {
     "name": "stdout",
     "output_type": "stream",
     "text": [
      "\n",
      "      Epoch    GPU_mem   box_loss   cls_loss   dfl_loss  Instances       Size\n"
     ]
    },
    {
     "name": "stderr",
     "output_type": "stream",
     "text": [
      "    31/1000      3.84G     0.8084     0.5174     0.9884         18        640: 100%|██████████| 290/290 [01:12<00:00,  3.99it/s]\n",
      "                 Class     Images  Instances      Box(P          R      mAP50  mAP50-95): 100%|██████████| 33/33 [00:09<00:00,  3.46it/s]"
     ]
    },
    {
     "name": "stdout",
     "output_type": "stream",
     "text": [
      "                   all        521        702      0.904      0.869      0.923      0.625\n"
     ]
    },
    {
     "name": "stderr",
     "output_type": "stream",
     "text": [
      "\n"
     ]
    },
    {
     "name": "stdout",
     "output_type": "stream",
     "text": [
      "\n",
      "      Epoch    GPU_mem   box_loss   cls_loss   dfl_loss  Instances       Size\n"
     ]
    },
    {
     "name": "stderr",
     "output_type": "stream",
     "text": [
      "    32/1000      4.54G     0.8029     0.5028     0.9763         13        640: 100%|██████████| 290/290 [01:13<00:00,  3.96it/s]\n",
      "                 Class     Images  Instances      Box(P          R      mAP50  mAP50-95): 100%|██████████| 33/33 [00:07<00:00,  4.49it/s]"
     ]
    },
    {
     "name": "stdout",
     "output_type": "stream",
     "text": [
      "                   all        521        702      0.927      0.836      0.923      0.631\n"
     ]
    },
    {
     "name": "stderr",
     "output_type": "stream",
     "text": [
      "\n"
     ]
    },
    {
     "name": "stdout",
     "output_type": "stream",
     "text": [
      "\n",
      "      Epoch    GPU_mem   box_loss   cls_loss   dfl_loss  Instances       Size\n"
     ]
    },
    {
     "name": "stderr",
     "output_type": "stream",
     "text": [
      "    33/1000      3.82G      0.809     0.5165     0.9938         20        640: 100%|██████████| 290/290 [01:12<00:00,  3.99it/s]\n",
      "                 Class     Images  Instances      Box(P          R      mAP50  mAP50-95): 100%|██████████| 33/33 [00:07<00:00,  4.36it/s]"
     ]
    },
    {
     "name": "stdout",
     "output_type": "stream",
     "text": [
      "                   all        521        702      0.903      0.839      0.913      0.613\n"
     ]
    },
    {
     "name": "stderr",
     "output_type": "stream",
     "text": [
      "\n"
     ]
    },
    {
     "name": "stdout",
     "output_type": "stream",
     "text": [
      "\n",
      "      Epoch    GPU_mem   box_loss   cls_loss   dfl_loss  Instances       Size\n"
     ]
    },
    {
     "name": "stderr",
     "output_type": "stream",
     "text": [
      "    34/1000      3.86G     0.8202     0.5209     0.9889         24        640: 100%|██████████| 290/290 [01:15<00:00,  3.85it/s]\n",
      "                 Class     Images  Instances      Box(P          R      mAP50  mAP50-95): 100%|██████████| 33/33 [00:07<00:00,  4.23it/s]"
     ]
    },
    {
     "name": "stdout",
     "output_type": "stream",
     "text": [
      "                   all        521        702      0.926       0.83      0.916      0.624\n"
     ]
    },
    {
     "name": "stderr",
     "output_type": "stream",
     "text": [
      "\n"
     ]
    },
    {
     "name": "stdout",
     "output_type": "stream",
     "text": [
      "\n",
      "      Epoch    GPU_mem   box_loss   cls_loss   dfl_loss  Instances       Size\n"
     ]
    },
    {
     "name": "stderr",
     "output_type": "stream",
     "text": [
      "    35/1000      4.24G     0.8216     0.5292     0.9926         19        640: 100%|██████████| 290/290 [01:13<00:00,  3.95it/s]\n",
      "                 Class     Images  Instances      Box(P          R      mAP50  mAP50-95): 100%|██████████| 33/33 [00:07<00:00,  4.32it/s]"
     ]
    },
    {
     "name": "stdout",
     "output_type": "stream",
     "text": [
      "                   all        521        702      0.903      0.865       0.93      0.641\n"
     ]
    },
    {
     "name": "stderr",
     "output_type": "stream",
     "text": [
      "\n"
     ]
    },
    {
     "name": "stdout",
     "output_type": "stream",
     "text": [
      "\n",
      "      Epoch    GPU_mem   box_loss   cls_loss   dfl_loss  Instances       Size\n"
     ]
    },
    {
     "name": "stderr",
     "output_type": "stream",
     "text": [
      "    36/1000      3.65G     0.7914     0.5059     0.9817         12        640: 100%|██████████| 290/290 [01:14<00:00,  3.90it/s]\n",
      "                 Class     Images  Instances      Box(P          R      mAP50  mAP50-95): 100%|██████████| 33/33 [00:07<00:00,  4.33it/s]"
     ]
    },
    {
     "name": "stdout",
     "output_type": "stream",
     "text": [
      "                   all        521        702        0.9      0.865      0.926      0.638\n"
     ]
    },
    {
     "name": "stderr",
     "output_type": "stream",
     "text": [
      "\n"
     ]
    },
    {
     "name": "stdout",
     "output_type": "stream",
     "text": [
      "\n",
      "      Epoch    GPU_mem   box_loss   cls_loss   dfl_loss  Instances       Size\n"
     ]
    },
    {
     "name": "stderr",
     "output_type": "stream",
     "text": [
      "    37/1000      3.64G     0.8003       0.51     0.9872         16        640: 100%|██████████| 290/290 [01:12<00:00,  4.00it/s]\n",
      "                 Class     Images  Instances      Box(P          R      mAP50  mAP50-95): 100%|██████████| 33/33 [00:07<00:00,  4.41it/s]"
     ]
    },
    {
     "name": "stdout",
     "output_type": "stream",
     "text": [
      "                   all        521        702      0.902      0.843      0.905      0.613\n"
     ]
    },
    {
     "name": "stderr",
     "output_type": "stream",
     "text": [
      "\n"
     ]
    },
    {
     "name": "stdout",
     "output_type": "stream",
     "text": [
      "\n",
      "      Epoch    GPU_mem   box_loss   cls_loss   dfl_loss  Instances       Size\n"
     ]
    },
    {
     "name": "stderr",
     "output_type": "stream",
     "text": [
      "    38/1000      3.64G     0.7866     0.4945      0.982         11        640: 100%|██████████| 290/290 [01:12<00:00,  4.01it/s]\n",
      "                 Class     Images  Instances      Box(P          R      mAP50  mAP50-95): 100%|██████████| 33/33 [00:09<00:00,  3.60it/s]"
     ]
    },
    {
     "name": "stdout",
     "output_type": "stream",
     "text": [
      "                   all        521        702      0.878      0.868      0.923      0.631\n"
     ]
    },
    {
     "name": "stderr",
     "output_type": "stream",
     "text": [
      "\n"
     ]
    },
    {
     "name": "stdout",
     "output_type": "stream",
     "text": [
      "\n",
      "      Epoch    GPU_mem   box_loss   cls_loss   dfl_loss  Instances       Size\n"
     ]
    },
    {
     "name": "stderr",
     "output_type": "stream",
     "text": [
      "    39/1000      3.79G     0.7997     0.5085     0.9906         37        640: 100%|██████████| 290/290 [01:13<00:00,  3.97it/s]\n",
      "                 Class     Images  Instances      Box(P          R      mAP50  mAP50-95): 100%|██████████| 33/33 [00:07<00:00,  4.44it/s]"
     ]
    },
    {
     "name": "stdout",
     "output_type": "stream",
     "text": [
      "                   all        521        702      0.891      0.869      0.925      0.627\n"
     ]
    },
    {
     "name": "stderr",
     "output_type": "stream",
     "text": [
      "\n"
     ]
    },
    {
     "name": "stdout",
     "output_type": "stream",
     "text": [
      "\n",
      "      Epoch    GPU_mem   box_loss   cls_loss   dfl_loss  Instances       Size\n"
     ]
    },
    {
     "name": "stderr",
     "output_type": "stream",
     "text": [
      "    40/1000      3.63G      0.792     0.4998     0.9892         13        640: 100%|██████████| 290/290 [01:12<00:00,  3.99it/s]\n",
      "                 Class     Images  Instances      Box(P          R      mAP50  mAP50-95): 100%|██████████| 33/33 [00:07<00:00,  4.32it/s]"
     ]
    },
    {
     "name": "stdout",
     "output_type": "stream",
     "text": [
      "                   all        521        702      0.897      0.842      0.909      0.622\n"
     ]
    },
    {
     "name": "stderr",
     "output_type": "stream",
     "text": [
      "\n"
     ]
    },
    {
     "name": "stdout",
     "output_type": "stream",
     "text": [
      "\n",
      "      Epoch    GPU_mem   box_loss   cls_loss   dfl_loss  Instances       Size\n"
     ]
    },
    {
     "name": "stderr",
     "output_type": "stream",
     "text": [
      "    41/1000      3.64G     0.8082     0.5207     0.9895         17        640: 100%|██████████| 290/290 [01:12<00:00,  4.00it/s]\n",
      "                 Class     Images  Instances      Box(P          R      mAP50  mAP50-95): 100%|██████████| 33/33 [00:07<00:00,  4.34it/s]"
     ]
    },
    {
     "name": "stdout",
     "output_type": "stream",
     "text": [
      "                   all        521        702      0.902       0.84      0.913       0.62\n"
     ]
    },
    {
     "name": "stderr",
     "output_type": "stream",
     "text": [
      "\n"
     ]
    },
    {
     "name": "stdout",
     "output_type": "stream",
     "text": [
      "\n",
      "      Epoch    GPU_mem   box_loss   cls_loss   dfl_loss  Instances       Size\n"
     ]
    },
    {
     "name": "stderr",
     "output_type": "stream",
     "text": [
      "    42/1000      3.65G      0.786     0.5068     0.9885         14        640: 100%|██████████| 290/290 [01:14<00:00,  3.88it/s]\n",
      "                 Class     Images  Instances      Box(P          R      mAP50  mAP50-95): 100%|██████████| 33/33 [00:07<00:00,  4.30it/s]"
     ]
    },
    {
     "name": "stdout",
     "output_type": "stream",
     "text": [
      "                   all        521        702      0.915      0.831      0.916      0.624\n"
     ]
    },
    {
     "name": "stderr",
     "output_type": "stream",
     "text": [
      "\n"
     ]
    },
    {
     "name": "stdout",
     "output_type": "stream",
     "text": [
      "\n",
      "      Epoch    GPU_mem   box_loss   cls_loss   dfl_loss  Instances       Size\n"
     ]
    },
    {
     "name": "stderr",
     "output_type": "stream",
     "text": [
      "    43/1000      3.62G     0.7733     0.4885     0.9837         18        640: 100%|██████████| 290/290 [01:12<00:00,  3.99it/s]\n",
      "                 Class     Images  Instances      Box(P          R      mAP50  mAP50-95): 100%|██████████| 33/33 [00:07<00:00,  4.50it/s]"
     ]
    },
    {
     "name": "stdout",
     "output_type": "stream",
     "text": [
      "                   all        521        702      0.901      0.858      0.917      0.623\n"
     ]
    },
    {
     "name": "stderr",
     "output_type": "stream",
     "text": [
      "\n"
     ]
    },
    {
     "name": "stdout",
     "output_type": "stream",
     "text": [
      "\n",
      "      Epoch    GPU_mem   box_loss   cls_loss   dfl_loss  Instances       Size\n"
     ]
    },
    {
     "name": "stderr",
     "output_type": "stream",
     "text": [
      "    44/1000       3.8G     0.7996      0.503     0.9939          7        640: 100%|██████████| 290/290 [01:13<00:00,  3.96it/s]\n",
      "                 Class     Images  Instances      Box(P          R      mAP50  mAP50-95): 100%|██████████| 33/33 [00:09<00:00,  3.59it/s]"
     ]
    },
    {
     "name": "stdout",
     "output_type": "stream",
     "text": [
      "                   all        521        702      0.919      0.824      0.917      0.621\n"
     ]
    },
    {
     "name": "stderr",
     "output_type": "stream",
     "text": [
      "\n"
     ]
    },
    {
     "name": "stdout",
     "output_type": "stream",
     "text": [
      "\n",
      "      Epoch    GPU_mem   box_loss   cls_loss   dfl_loss  Instances       Size\n"
     ]
    },
    {
     "name": "stderr",
     "output_type": "stream",
     "text": [
      "    45/1000      4.19G     0.8085     0.4959     0.9781         11        640: 100%|██████████| 290/290 [01:13<00:00,  3.96it/s]\n",
      "                 Class     Images  Instances      Box(P          R      mAP50  mAP50-95): 100%|██████████| 33/33 [00:07<00:00,  4.22it/s]"
     ]
    },
    {
     "name": "stdout",
     "output_type": "stream",
     "text": [
      "                   all        521        702      0.901      0.871      0.922      0.616\n"
     ]
    },
    {
     "name": "stderr",
     "output_type": "stream",
     "text": [
      "\n"
     ]
    },
    {
     "name": "stdout",
     "output_type": "stream",
     "text": [
      "\n",
      "      Epoch    GPU_mem   box_loss   cls_loss   dfl_loss  Instances       Size\n"
     ]
    },
    {
     "name": "stderr",
     "output_type": "stream",
     "text": [
      "    46/1000      3.64G     0.7867     0.5004     0.9836         24        640: 100%|██████████| 290/290 [01:12<00:00,  4.01it/s]\n",
      "                 Class     Images  Instances      Box(P          R      mAP50  mAP50-95): 100%|██████████| 33/33 [00:09<00:00,  3.60it/s]"
     ]
    },
    {
     "name": "stdout",
     "output_type": "stream",
     "text": [
      "                   all        521        702      0.908      0.853      0.915      0.628\n"
     ]
    },
    {
     "name": "stderr",
     "output_type": "stream",
     "text": [
      "\n"
     ]
    },
    {
     "name": "stdout",
     "output_type": "stream",
     "text": [
      "\n",
      "      Epoch    GPU_mem   box_loss   cls_loss   dfl_loss  Instances       Size\n"
     ]
    },
    {
     "name": "stderr",
     "output_type": "stream",
     "text": [
      "    47/1000      3.62G     0.7813     0.4882     0.9805         13        640: 100%|██████████| 290/290 [01:12<00:00,  3.98it/s]\n",
      "                 Class     Images  Instances      Box(P          R      mAP50  mAP50-95): 100%|██████████| 33/33 [00:07<00:00,  4.60it/s]"
     ]
    },
    {
     "name": "stdout",
     "output_type": "stream",
     "text": [
      "                   all        521        702      0.919      0.853      0.925      0.632\n"
     ]
    },
    {
     "name": "stderr",
     "output_type": "stream",
     "text": [
      "\n"
     ]
    },
    {
     "name": "stdout",
     "output_type": "stream",
     "text": [
      "\n",
      "      Epoch    GPU_mem   box_loss   cls_loss   dfl_loss  Instances       Size\n"
     ]
    },
    {
     "name": "stderr",
     "output_type": "stream",
     "text": [
      "    48/1000      3.81G       0.77     0.4848     0.9858         23        640: 100%|██████████| 290/290 [01:13<00:00,  3.97it/s]\n",
      "                 Class     Images  Instances      Box(P          R      mAP50  mAP50-95): 100%|██████████| 33/33 [00:07<00:00,  4.38it/s]"
     ]
    },
    {
     "name": "stdout",
     "output_type": "stream",
     "text": [
      "                   all        521        702      0.901      0.846      0.906      0.613\n"
     ]
    },
    {
     "name": "stderr",
     "output_type": "stream",
     "text": [
      "\n"
     ]
    },
    {
     "name": "stdout",
     "output_type": "stream",
     "text": [
      "\n",
      "      Epoch    GPU_mem   box_loss   cls_loss   dfl_loss  Instances       Size\n"
     ]
    },
    {
     "name": "stderr",
     "output_type": "stream",
     "text": [
      "    49/1000      3.65G     0.7916     0.4841     0.9805         20        640: 100%|██████████| 290/290 [01:14<00:00,  3.91it/s]\n",
      "                 Class     Images  Instances      Box(P          R      mAP50  mAP50-95): 100%|██████████| 33/33 [00:07<00:00,  4.36it/s]"
     ]
    },
    {
     "name": "stdout",
     "output_type": "stream",
     "text": [
      "                   all        521        702      0.888      0.852      0.912      0.621\n"
     ]
    },
    {
     "name": "stderr",
     "output_type": "stream",
     "text": [
      "\n"
     ]
    },
    {
     "name": "stdout",
     "output_type": "stream",
     "text": [
      "\n",
      "      Epoch    GPU_mem   box_loss   cls_loss   dfl_loss  Instances       Size\n"
     ]
    },
    {
     "name": "stderr",
     "output_type": "stream",
     "text": [
      "    50/1000      3.83G     0.7569     0.4834     0.9712         15        640: 100%|██████████| 290/290 [01:12<00:00,  4.01it/s]\n",
      "                 Class     Images  Instances      Box(P          R      mAP50  mAP50-95): 100%|██████████| 33/33 [00:07<00:00,  4.34it/s]"
     ]
    },
    {
     "name": "stdout",
     "output_type": "stream",
     "text": [
      "                   all        521        702        0.9      0.853      0.919      0.624\n"
     ]
    },
    {
     "name": "stderr",
     "output_type": "stream",
     "text": [
      "\n"
     ]
    },
    {
     "name": "stdout",
     "output_type": "stream",
     "text": [
      "\n",
      "      Epoch    GPU_mem   box_loss   cls_loss   dfl_loss  Instances       Size\n"
     ]
    },
    {
     "name": "stderr",
     "output_type": "stream",
     "text": [
      "    51/1000      3.64G     0.7787     0.4946     0.9846         12        640: 100%|██████████| 290/290 [01:12<00:00,  4.00it/s]\n",
      "                 Class     Images  Instances      Box(P          R      mAP50  mAP50-95): 100%|██████████| 33/33 [00:09<00:00,  3.33it/s]"
     ]
    },
    {
     "name": "stdout",
     "output_type": "stream",
     "text": [
      "                   all        521        702      0.892      0.867      0.924      0.625\n"
     ]
    },
    {
     "name": "stderr",
     "output_type": "stream",
     "text": [
      "\n"
     ]
    },
    {
     "name": "stdout",
     "output_type": "stream",
     "text": [
      "\n",
      "      Epoch    GPU_mem   box_loss   cls_loss   dfl_loss  Instances       Size\n"
     ]
    },
    {
     "name": "stderr",
     "output_type": "stream",
     "text": [
      "    52/1000      3.65G     0.7716     0.4831      0.975         28        640: 100%|██████████| 290/290 [01:12<00:00,  3.99it/s]\n",
      "                 Class     Images  Instances      Box(P          R      mAP50  mAP50-95): 100%|██████████| 33/33 [00:07<00:00,  4.40it/s]"
     ]
    },
    {
     "name": "stdout",
     "output_type": "stream",
     "text": [
      "                   all        521        702      0.891       0.85      0.909      0.615\n"
     ]
    },
    {
     "name": "stderr",
     "output_type": "stream",
     "text": [
      "\n"
     ]
    },
    {
     "name": "stdout",
     "output_type": "stream",
     "text": [
      "\n",
      "      Epoch    GPU_mem   box_loss   cls_loss   dfl_loss  Instances       Size\n"
     ]
    },
    {
     "name": "stderr",
     "output_type": "stream",
     "text": [
      "    53/1000      3.63G     0.7608     0.4814     0.9817          9        640: 100%|██████████| 290/290 [01:12<00:00,  4.02it/s]\n",
      "                 Class     Images  Instances      Box(P          R      mAP50  mAP50-95): 100%|██████████| 33/33 [00:07<00:00,  4.36it/s]"
     ]
    },
    {
     "name": "stdout",
     "output_type": "stream",
     "text": [
      "                   all        521        702      0.891      0.852      0.904      0.608\n"
     ]
    },
    {
     "name": "stderr",
     "output_type": "stream",
     "text": [
      "\n"
     ]
    },
    {
     "name": "stdout",
     "output_type": "stream",
     "text": [
      "\n",
      "      Epoch    GPU_mem   box_loss   cls_loss   dfl_loss  Instances       Size\n"
     ]
    },
    {
     "name": "stderr",
     "output_type": "stream",
     "text": [
      "    54/1000      3.82G     0.7945     0.4986     0.9893         19        640: 100%|██████████| 290/290 [01:14<00:00,  3.87it/s]\n",
      "                 Class     Images  Instances      Box(P          R      mAP50  mAP50-95): 100%|██████████| 33/33 [00:07<00:00,  4.23it/s]"
     ]
    },
    {
     "name": "stdout",
     "output_type": "stream",
     "text": [
      "                   all        521        702       0.91      0.842      0.913      0.618\n"
     ]
    },
    {
     "name": "stderr",
     "output_type": "stream",
     "text": [
      "\n"
     ]
    },
    {
     "name": "stdout",
     "output_type": "stream",
     "text": [
      "\n",
      "      Epoch    GPU_mem   box_loss   cls_loss   dfl_loss  Instances       Size\n"
     ]
    },
    {
     "name": "stderr",
     "output_type": "stream",
     "text": [
      "    55/1000      3.64G     0.7755     0.4981     0.9858         22        640: 100%|██████████| 290/290 [01:12<00:00,  3.99it/s]\n",
      "                 Class     Images  Instances      Box(P          R      mAP50  mAP50-95): 100%|██████████| 33/33 [00:07<00:00,  4.38it/s]"
     ]
    },
    {
     "name": "stdout",
     "output_type": "stream",
     "text": [
      "                   all        521        702      0.893       0.86      0.913      0.633\n"
     ]
    },
    {
     "name": "stderr",
     "output_type": "stream",
     "text": [
      "\n"
     ]
    },
    {
     "name": "stdout",
     "output_type": "stream",
     "text": [
      "\n",
      "      Epoch    GPU_mem   box_loss   cls_loss   dfl_loss  Instances       Size\n"
     ]
    },
    {
     "name": "stderr",
     "output_type": "stream",
     "text": [
      "    56/1000      3.64G     0.7554     0.4744     0.9796         12        640: 100%|██████████| 290/290 [01:12<00:00,  3.98it/s]\n",
      "                 Class     Images  Instances      Box(P          R      mAP50  mAP50-95): 100%|██████████| 33/33 [00:09<00:00,  3.50it/s]"
     ]
    },
    {
     "name": "stdout",
     "output_type": "stream",
     "text": [
      "                   all        521        702      0.898      0.852       0.92      0.634\n"
     ]
    },
    {
     "name": "stderr",
     "output_type": "stream",
     "text": [
      "\n"
     ]
    },
    {
     "name": "stdout",
     "output_type": "stream",
     "text": [
      "\n",
      "      Epoch    GPU_mem   box_loss   cls_loss   dfl_loss  Instances       Size\n"
     ]
    },
    {
     "name": "stderr",
     "output_type": "stream",
     "text": [
      "    57/1000      3.63G     0.7885     0.5024     0.9886         39        640: 100%|██████████| 290/290 [01:13<00:00,  3.96it/s]\n",
      "                 Class     Images  Instances      Box(P          R      mAP50  mAP50-95): 100%|██████████| 33/33 [00:07<00:00,  4.47it/s]"
     ]
    },
    {
     "name": "stdout",
     "output_type": "stream",
     "text": [
      "                   all        521        702      0.909      0.839      0.916      0.612\n"
     ]
    },
    {
     "name": "stderr",
     "output_type": "stream",
     "text": [
      "\n"
     ]
    },
    {
     "name": "stdout",
     "output_type": "stream",
     "text": [
      "\n",
      "      Epoch    GPU_mem   box_loss   cls_loss   dfl_loss  Instances       Size\n"
     ]
    },
    {
     "name": "stderr",
     "output_type": "stream",
     "text": [
      "    58/1000      3.65G     0.7644     0.4797     0.9799         17        640: 100%|██████████| 290/290 [01:12<00:00,  3.98it/s]\n",
      "                 Class     Images  Instances      Box(P          R      mAP50  mAP50-95): 100%|██████████| 33/33 [00:07<00:00,  4.37it/s]"
     ]
    },
    {
     "name": "stdout",
     "output_type": "stream",
     "text": [
      "                   all        521        702      0.904      0.846      0.917      0.629\n"
     ]
    },
    {
     "name": "stderr",
     "output_type": "stream",
     "text": [
      "\n"
     ]
    },
    {
     "name": "stdout",
     "output_type": "stream",
     "text": [
      "\n",
      "      Epoch    GPU_mem   box_loss   cls_loss   dfl_loss  Instances       Size\n"
     ]
    },
    {
     "name": "stderr",
     "output_type": "stream",
     "text": [
      "    59/1000      3.62G     0.7707     0.4877     0.9704         15        640: 100%|██████████| 290/290 [01:12<00:00,  3.98it/s]\n",
      "                 Class     Images  Instances      Box(P          R      mAP50  mAP50-95): 100%|██████████| 33/33 [00:07<00:00,  4.30it/s]"
     ]
    },
    {
     "name": "stdout",
     "output_type": "stream",
     "text": [
      "                   all        521        702      0.939      0.832      0.918       0.63\n"
     ]
    },
    {
     "name": "stderr",
     "output_type": "stream",
     "text": [
      "\n"
     ]
    },
    {
     "name": "stdout",
     "output_type": "stream",
     "text": [
      "\n",
      "      Epoch    GPU_mem   box_loss   cls_loss   dfl_loss  Instances       Size\n"
     ]
    },
    {
     "name": "stderr",
     "output_type": "stream",
     "text": [
      "    60/1000      3.63G     0.7782     0.4843      0.973         16        640: 100%|██████████| 290/290 [01:12<00:00,  3.98it/s]\n",
      "                 Class     Images  Instances      Box(P          R      mAP50  mAP50-95): 100%|██████████| 33/33 [00:07<00:00,  4.43it/s]"
     ]
    },
    {
     "name": "stdout",
     "output_type": "stream",
     "text": [
      "                   all        521        702      0.923      0.835      0.919      0.618\n"
     ]
    },
    {
     "name": "stderr",
     "output_type": "stream",
     "text": [
      "\n"
     ]
    },
    {
     "name": "stdout",
     "output_type": "stream",
     "text": [
      "\n",
      "      Epoch    GPU_mem   box_loss   cls_loss   dfl_loss  Instances       Size\n"
     ]
    },
    {
     "name": "stderr",
     "output_type": "stream",
     "text": [
      "    61/1000      3.68G     0.7892     0.4959     0.9859         32        640: 100%|██████████| 290/290 [01:13<00:00,  3.97it/s]\n",
      "                 Class     Images  Instances      Box(P          R      mAP50  mAP50-95): 100%|██████████| 33/33 [00:09<00:00,  3.47it/s]"
     ]
    },
    {
     "name": "stdout",
     "output_type": "stream",
     "text": [
      "                   all        521        702       0.91      0.839      0.917      0.629\n"
     ]
    },
    {
     "name": "stderr",
     "output_type": "stream",
     "text": [
      "\n"
     ]
    },
    {
     "name": "stdout",
     "output_type": "stream",
     "text": [
      "\n",
      "      Epoch    GPU_mem   box_loss   cls_loss   dfl_loss  Instances       Size\n"
     ]
    },
    {
     "name": "stderr",
     "output_type": "stream",
     "text": [
      "    62/1000      3.96G     0.7746     0.4884     0.9728         16        640: 100%|██████████| 290/290 [01:13<00:00,  3.97it/s]\n",
      "                 Class     Images  Instances      Box(P          R      mAP50  mAP50-95): 100%|██████████| 33/33 [00:07<00:00,  4.47it/s]"
     ]
    },
    {
     "name": "stdout",
     "output_type": "stream",
     "text": [
      "                   all        521        702      0.925       0.84      0.928       0.63\n"
     ]
    },
    {
     "name": "stderr",
     "output_type": "stream",
     "text": [
      "\n"
     ]
    },
    {
     "name": "stdout",
     "output_type": "stream",
     "text": [
      "\n",
      "      Epoch    GPU_mem   box_loss   cls_loss   dfl_loss  Instances       Size\n"
     ]
    },
    {
     "name": "stderr",
     "output_type": "stream",
     "text": [
      "    63/1000      3.78G      0.763     0.4878     0.9769         16        640: 100%|██████████| 290/290 [01:12<00:00,  4.00it/s]\n",
      "                 Class     Images  Instances      Box(P          R      mAP50  mAP50-95): 100%|██████████| 33/33 [00:09<00:00,  3.35it/s]"
     ]
    },
    {
     "name": "stdout",
     "output_type": "stream",
     "text": [
      "                   all        521        702      0.921      0.848       0.92      0.627\n"
     ]
    },
    {
     "name": "stderr",
     "output_type": "stream",
     "text": [
      "\n"
     ]
    },
    {
     "name": "stdout",
     "output_type": "stream",
     "text": [
      "\n",
      "      Epoch    GPU_mem   box_loss   cls_loss   dfl_loss  Instances       Size\n"
     ]
    },
    {
     "name": "stderr",
     "output_type": "stream",
     "text": [
      "    64/1000      3.62G     0.7812       0.49     0.9769         68        640: 100%|██████████| 290/290 [01:13<00:00,  3.95it/s]\n",
      "                 Class     Images  Instances      Box(P          R      mAP50  mAP50-95): 100%|██████████| 33/33 [00:07<00:00,  4.48it/s]"
     ]
    },
    {
     "name": "stdout",
     "output_type": "stream",
     "text": [
      "                   all        521        702      0.915      0.847      0.918      0.635\n"
     ]
    },
    {
     "name": "stderr",
     "output_type": "stream",
     "text": [
      "\n"
     ]
    },
    {
     "name": "stdout",
     "output_type": "stream",
     "text": [
      "\n",
      "      Epoch    GPU_mem   box_loss   cls_loss   dfl_loss  Instances       Size\n"
     ]
    },
    {
     "name": "stderr",
     "output_type": "stream",
     "text": [
      "    65/1000      3.79G     0.7631     0.4841     0.9757         19        640: 100%|██████████| 290/290 [01:12<00:00,  4.00it/s]\n",
      "                 Class     Images  Instances      Box(P          R      mAP50  mAP50-95): 100%|██████████| 33/33 [00:07<00:00,  4.43it/s]"
     ]
    },
    {
     "name": "stdout",
     "output_type": "stream",
     "text": [
      "                   all        521        702      0.901      0.852      0.907       0.63\n"
     ]
    },
    {
     "name": "stderr",
     "output_type": "stream",
     "text": [
      "\n"
     ]
    },
    {
     "name": "stdout",
     "output_type": "stream",
     "text": [
      "\n",
      "      Epoch    GPU_mem   box_loss   cls_loss   dfl_loss  Instances       Size\n"
     ]
    },
    {
     "name": "stderr",
     "output_type": "stream",
     "text": [
      "    66/1000       3.8G     0.7456     0.4647     0.9654         14        640: 100%|██████████| 290/290 [01:15<00:00,  3.86it/s]\n",
      "                 Class     Images  Instances      Box(P          R      mAP50  mAP50-95): 100%|██████████| 33/33 [00:07<00:00,  4.47it/s]"
     ]
    },
    {
     "name": "stdout",
     "output_type": "stream",
     "text": [
      "                   all        521        702      0.913      0.856      0.922      0.628\n"
     ]
    },
    {
     "name": "stderr",
     "output_type": "stream",
     "text": [
      "\n"
     ]
    },
    {
     "name": "stdout",
     "output_type": "stream",
     "text": [
      "\n",
      "      Epoch    GPU_mem   box_loss   cls_loss   dfl_loss  Instances       Size\n"
     ]
    },
    {
     "name": "stderr",
     "output_type": "stream",
     "text": [
      "    67/1000      3.68G     0.7746     0.4789     0.9793         11        640: 100%|██████████| 290/290 [01:13<00:00,  3.94it/s]\n",
      "                 Class     Images  Instances      Box(P          R      mAP50  mAP50-95): 100%|██████████| 33/33 [00:07<00:00,  4.29it/s]"
     ]
    },
    {
     "name": "stdout",
     "output_type": "stream",
     "text": [
      "                   all        521        702      0.923       0.84      0.914       0.61\n"
     ]
    },
    {
     "name": "stderr",
     "output_type": "stream",
     "text": [
      "\n"
     ]
    },
    {
     "name": "stdout",
     "output_type": "stream",
     "text": [
      "\n",
      "      Epoch    GPU_mem   box_loss   cls_loss   dfl_loss  Instances       Size\n"
     ]
    },
    {
     "name": "stderr",
     "output_type": "stream",
     "text": [
      "    68/1000      3.64G      0.754     0.4706     0.9783         36        640: 100%|██████████| 290/290 [01:12<00:00,  3.98it/s]\n",
      "                 Class     Images  Instances      Box(P          R      mAP50  mAP50-95): 100%|██████████| 33/33 [00:09<00:00,  3.59it/s]"
     ]
    },
    {
     "name": "stdout",
     "output_type": "stream",
     "text": [
      "                   all        521        702      0.887      0.859       0.92       0.63\n"
     ]
    },
    {
     "name": "stderr",
     "output_type": "stream",
     "text": [
      "\n"
     ]
    },
    {
     "name": "stdout",
     "output_type": "stream",
     "text": [
      "\n",
      "      Epoch    GPU_mem   box_loss   cls_loss   dfl_loss  Instances       Size\n"
     ]
    },
    {
     "name": "stderr",
     "output_type": "stream",
     "text": [
      "    69/1000      3.81G     0.7708     0.4827     0.9752         12        640: 100%|██████████| 290/290 [01:12<00:00,  4.00it/s]\n",
      "                 Class     Images  Instances      Box(P          R      mAP50  mAP50-95): 100%|██████████| 33/33 [00:07<00:00,  4.43it/s]"
     ]
    },
    {
     "name": "stdout",
     "output_type": "stream",
     "text": [
      "                   all        521        702      0.899      0.848      0.924      0.634\n"
     ]
    },
    {
     "name": "stderr",
     "output_type": "stream",
     "text": [
      "\n"
     ]
    },
    {
     "name": "stdout",
     "output_type": "stream",
     "text": [
      "\n",
      "      Epoch    GPU_mem   box_loss   cls_loss   dfl_loss  Instances       Size\n"
     ]
    },
    {
     "name": "stderr",
     "output_type": "stream",
     "text": [
      "    70/1000      4.36G     0.7655     0.4814     0.9754         15        640: 100%|██████████| 290/290 [01:13<00:00,  3.96it/s]\n",
      "                 Class     Images  Instances      Box(P          R      mAP50  mAP50-95): 100%|██████████| 33/33 [00:09<00:00,  3.51it/s]"
     ]
    },
    {
     "name": "stdout",
     "output_type": "stream",
     "text": [
      "                   all        521        702      0.895       0.85       0.92      0.628\n"
     ]
    },
    {
     "name": "stderr",
     "output_type": "stream",
     "text": [
      "\n"
     ]
    },
    {
     "name": "stdout",
     "output_type": "stream",
     "text": [
      "\n",
      "      Epoch    GPU_mem   box_loss   cls_loss   dfl_loss  Instances       Size\n"
     ]
    },
    {
     "name": "stderr",
     "output_type": "stream",
     "text": [
      "    71/1000      3.62G     0.7704     0.4879     0.9815         14        640: 100%|██████████| 290/290 [01:12<00:00,  3.99it/s]\n",
      "                 Class     Images  Instances      Box(P          R      mAP50  mAP50-95): 100%|██████████| 33/33 [00:07<00:00,  4.45it/s]"
     ]
    },
    {
     "name": "stdout",
     "output_type": "stream",
     "text": [
      "                   all        521        702      0.926      0.826      0.921      0.625\n"
     ]
    },
    {
     "name": "stderr",
     "output_type": "stream",
     "text": [
      "\n"
     ]
    },
    {
     "name": "stdout",
     "output_type": "stream",
     "text": [
      "\n",
      "      Epoch    GPU_mem   box_loss   cls_loss   dfl_loss  Instances       Size\n"
     ]
    },
    {
     "name": "stderr",
     "output_type": "stream",
     "text": [
      "    72/1000       3.8G     0.7605     0.4853     0.9765         15        640: 100%|██████████| 290/290 [01:12<00:00,  4.01it/s]\n",
      "                 Class     Images  Instances      Box(P          R      mAP50  mAP50-95): 100%|██████████| 33/33 [00:07<00:00,  4.40it/s]"
     ]
    },
    {
     "name": "stdout",
     "output_type": "stream",
     "text": [
      "                   all        521        702       0.92      0.805       0.91      0.628\n"
     ]
    },
    {
     "name": "stderr",
     "output_type": "stream",
     "text": [
      "\n"
     ]
    },
    {
     "name": "stdout",
     "output_type": "stream",
     "text": [
      "\n",
      "      Epoch    GPU_mem   box_loss   cls_loss   dfl_loss  Instances       Size\n"
     ]
    },
    {
     "name": "stderr",
     "output_type": "stream",
     "text": [
      "    73/1000      3.83G     0.7769      0.489     0.9738         12        640: 100%|██████████| 290/290 [01:14<00:00,  3.88it/s]\n",
      "                 Class     Images  Instances      Box(P          R      mAP50  mAP50-95): 100%|██████████| 33/33 [00:07<00:00,  4.37it/s]"
     ]
    },
    {
     "name": "stdout",
     "output_type": "stream",
     "text": [
      "                   all        521        702      0.918      0.842      0.919      0.627\n"
     ]
    },
    {
     "name": "stderr",
     "output_type": "stream",
     "text": [
      "\n"
     ]
    },
    {
     "name": "stdout",
     "output_type": "stream",
     "text": [
      "\n",
      "      Epoch    GPU_mem   box_loss   cls_loss   dfl_loss  Instances       Size\n"
     ]
    },
    {
     "name": "stderr",
     "output_type": "stream",
     "text": [
      "    74/1000      3.64G     0.7479      0.474     0.9654         12        640: 100%|██████████| 290/290 [01:13<00:00,  3.97it/s]\n",
      "                 Class     Images  Instances      Box(P          R      mAP50  mAP50-95): 100%|██████████| 33/33 [00:07<00:00,  4.42it/s]"
     ]
    },
    {
     "name": "stdout",
     "output_type": "stream",
     "text": [
      "                   all        521        702      0.892      0.849      0.918      0.624\n"
     ]
    },
    {
     "name": "stderr",
     "output_type": "stream",
     "text": [
      "\n"
     ]
    },
    {
     "name": "stdout",
     "output_type": "stream",
     "text": [
      "\n",
      "      Epoch    GPU_mem   box_loss   cls_loss   dfl_loss  Instances       Size\n"
     ]
    },
    {
     "name": "stderr",
     "output_type": "stream",
     "text": [
      "    75/1000      4.02G     0.7708      0.485     0.9781         29        640: 100%|██████████| 290/290 [01:12<00:00,  4.00it/s]\n",
      "                 Class     Images  Instances      Box(P          R      mAP50  mAP50-95): 100%|██████████| 33/33 [00:09<00:00,  3.54it/s]"
     ]
    },
    {
     "name": "stdout",
     "output_type": "stream",
     "text": [
      "                   all        521        702      0.909      0.852      0.918      0.636\n"
     ]
    },
    {
     "name": "stderr",
     "output_type": "stream",
     "text": [
      "\n"
     ]
    },
    {
     "name": "stdout",
     "output_type": "stream",
     "text": [
      "\n",
      "      Epoch    GPU_mem   box_loss   cls_loss   dfl_loss  Instances       Size\n"
     ]
    },
    {
     "name": "stderr",
     "output_type": "stream",
     "text": [
      "    76/1000      3.62G     0.7288     0.4611     0.9601         16        640: 100%|██████████| 290/290 [01:12<00:00,  3.99it/s]\n",
      "                 Class     Images  Instances      Box(P          R      mAP50  mAP50-95): 100%|██████████| 33/33 [00:07<00:00,  4.49it/s]"
     ]
    },
    {
     "name": "stdout",
     "output_type": "stream",
     "text": [
      "                   all        521        702       0.92      0.851      0.916      0.629\n",
      "\u001b[34m\u001b[1mEarlyStopping: \u001b[0mTraining stopped early as no improvement observed in last 75 epochs. Best results observed at epoch 1, best model saved as best.pt.\n",
      "To update EarlyStopping(patience=75) pass a new patience value, i.e. `patience=300` or use `patience=0` to disable EarlyStopping.\n"
     ]
    },
    {
     "name": "stderr",
     "output_type": "stream",
     "text": [
      "\n"
     ]
    },
    {
     "name": "stdout",
     "output_type": "stream",
     "text": [
      "\n",
      "76 epochs completed in 1.746 hours.\n",
      "Optimizer stripped from /mnt/c/Users/Ricardo/Documents/Development/tcc-1/runs/detect/train23/weights/last.pt, 52.0MB\n",
      "Optimizer stripped from /mnt/c/Users/Ricardo/Documents/Development/tcc-1/runs/detect/train23/weights/best.pt, 52.0MB\n",
      "\n",
      "Validating /mnt/c/Users/Ricardo/Documents/Development/tcc-1/runs/detect/train23/weights/best.pt...\n",
      "Ultralytics 8.3.56 🚀 Python-3.12.3 torch-2.5.1+cu124 CUDA:0 (NVIDIA GeForce RTX 4060 Ti, 8187MiB)\n",
      "Model summary (fused): 218 layers, 25,840,339 parameters, 0 gradients, 78.7 GFLOPs\n"
     ]
    },
    {
     "name": "stderr",
     "output_type": "stream",
     "text": [
      "                 Class     Images  Instances      Box(P          R      mAP50  mAP50-95): 100%|██████████| 33/33 [00:08<00:00,  3.69it/s]\n"
     ]
    },
    {
     "name": "stdout",
     "output_type": "stream",
     "text": [
      "                   all        521        702      0.923      0.866      0.941      0.643\n",
      "Speed: 0.3ms preprocess, 10.9ms inference, 0.0ms loss, 1.3ms postprocess per image\n",
      "Results saved to \u001b[1m/mnt/c/Users/Ricardo/Documents/Development/tcc-1/runs/detect/train23\u001b[0m\n"
     ]
    },
    {
     "data": {
      "text/plain": [
       "ultralytics.utils.metrics.DetMetrics object with attributes:\n",
       "\n",
       "ap_class_index: array([0])\n",
       "box: ultralytics.utils.metrics.Metric object\n",
       "confusion_matrix: <ultralytics.utils.metrics.ConfusionMatrix object at 0x7fe2646ee5a0>\n",
       "curves: ['Precision-Recall(B)', 'F1-Confidence(B)', 'Precision-Confidence(B)', 'Recall-Confidence(B)']\n",
       "curves_results: [[array([          0,    0.001001,    0.002002,    0.003003,    0.004004,    0.005005,    0.006006,    0.007007,    0.008008,    0.009009,     0.01001,    0.011011,    0.012012,    0.013013,    0.014014,    0.015015,    0.016016,    0.017017,    0.018018,    0.019019,     0.02002,    0.021021,    0.022022,    0.023023,\n",
       "          0.024024,    0.025025,    0.026026,    0.027027,    0.028028,    0.029029,     0.03003,    0.031031,    0.032032,    0.033033,    0.034034,    0.035035,    0.036036,    0.037037,    0.038038,    0.039039,     0.04004,    0.041041,    0.042042,    0.043043,    0.044044,    0.045045,    0.046046,    0.047047,\n",
       "          0.048048,    0.049049,     0.05005,    0.051051,    0.052052,    0.053053,    0.054054,    0.055055,    0.056056,    0.057057,    0.058058,    0.059059,     0.06006,    0.061061,    0.062062,    0.063063,    0.064064,    0.065065,    0.066066,    0.067067,    0.068068,    0.069069,     0.07007,    0.071071,\n",
       "          0.072072,    0.073073,    0.074074,    0.075075,    0.076076,    0.077077,    0.078078,    0.079079,     0.08008,    0.081081,    0.082082,    0.083083,    0.084084,    0.085085,    0.086086,    0.087087,    0.088088,    0.089089,     0.09009,    0.091091,    0.092092,    0.093093,    0.094094,    0.095095,\n",
       "          0.096096,    0.097097,    0.098098,    0.099099,      0.1001,      0.1011,      0.1021,      0.1031,      0.1041,     0.10511,     0.10611,     0.10711,     0.10811,     0.10911,     0.11011,     0.11111,     0.11211,     0.11311,     0.11411,     0.11512,     0.11612,     0.11712,     0.11812,     0.11912,\n",
       "           0.12012,     0.12112,     0.12212,     0.12312,     0.12412,     0.12513,     0.12613,     0.12713,     0.12813,     0.12913,     0.13013,     0.13113,     0.13213,     0.13313,     0.13413,     0.13514,     0.13614,     0.13714,     0.13814,     0.13914,     0.14014,     0.14114,     0.14214,     0.14314,\n",
       "           0.14414,     0.14515,     0.14615,     0.14715,     0.14815,     0.14915,     0.15015,     0.15115,     0.15215,     0.15315,     0.15415,     0.15516,     0.15616,     0.15716,     0.15816,     0.15916,     0.16016,     0.16116,     0.16216,     0.16316,     0.16416,     0.16517,     0.16617,     0.16717,\n",
       "           0.16817,     0.16917,     0.17017,     0.17117,     0.17217,     0.17317,     0.17417,     0.17518,     0.17618,     0.17718,     0.17818,     0.17918,     0.18018,     0.18118,     0.18218,     0.18318,     0.18418,     0.18519,     0.18619,     0.18719,     0.18819,     0.18919,     0.19019,     0.19119,\n",
       "           0.19219,     0.19319,     0.19419,      0.1952,      0.1962,      0.1972,      0.1982,      0.1992,      0.2002,      0.2012,      0.2022,      0.2032,      0.2042,     0.20521,     0.20621,     0.20721,     0.20821,     0.20921,     0.21021,     0.21121,     0.21221,     0.21321,     0.21421,     0.21522,\n",
       "           0.21622,     0.21722,     0.21822,     0.21922,     0.22022,     0.22122,     0.22222,     0.22322,     0.22422,     0.22523,     0.22623,     0.22723,     0.22823,     0.22923,     0.23023,     0.23123,     0.23223,     0.23323,     0.23423,     0.23524,     0.23624,     0.23724,     0.23824,     0.23924,\n",
       "           0.24024,     0.24124,     0.24224,     0.24324,     0.24424,     0.24525,     0.24625,     0.24725,     0.24825,     0.24925,     0.25025,     0.25125,     0.25225,     0.25325,     0.25425,     0.25526,     0.25626,     0.25726,     0.25826,     0.25926,     0.26026,     0.26126,     0.26226,     0.26326,\n",
       "           0.26426,     0.26527,     0.26627,     0.26727,     0.26827,     0.26927,     0.27027,     0.27127,     0.27227,     0.27327,     0.27427,     0.27528,     0.27628,     0.27728,     0.27828,     0.27928,     0.28028,     0.28128,     0.28228,     0.28328,     0.28428,     0.28529,     0.28629,     0.28729,\n",
       "           0.28829,     0.28929,     0.29029,     0.29129,     0.29229,     0.29329,     0.29429,      0.2953,      0.2963,      0.2973,      0.2983,      0.2993,      0.3003,      0.3013,      0.3023,      0.3033,      0.3043,     0.30531,     0.30631,     0.30731,     0.30831,     0.30931,     0.31031,     0.31131,\n",
       "           0.31231,     0.31331,     0.31431,     0.31532,     0.31632,     0.31732,     0.31832,     0.31932,     0.32032,     0.32132,     0.32232,     0.32332,     0.32432,     0.32533,     0.32633,     0.32733,     0.32833,     0.32933,     0.33033,     0.33133,     0.33233,     0.33333,     0.33433,     0.33534,\n",
       "           0.33634,     0.33734,     0.33834,     0.33934,     0.34034,     0.34134,     0.34234,     0.34334,     0.34434,     0.34535,     0.34635,     0.34735,     0.34835,     0.34935,     0.35035,     0.35135,     0.35235,     0.35335,     0.35435,     0.35536,     0.35636,     0.35736,     0.35836,     0.35936,\n",
       "           0.36036,     0.36136,     0.36236,     0.36336,     0.36436,     0.36537,     0.36637,     0.36737,     0.36837,     0.36937,     0.37037,     0.37137,     0.37237,     0.37337,     0.37437,     0.37538,     0.37638,     0.37738,     0.37838,     0.37938,     0.38038,     0.38138,     0.38238,     0.38338,\n",
       "           0.38438,     0.38539,     0.38639,     0.38739,     0.38839,     0.38939,     0.39039,     0.39139,     0.39239,     0.39339,     0.39439,      0.3954,      0.3964,      0.3974,      0.3984,      0.3994,      0.4004,      0.4014,      0.4024,      0.4034,      0.4044,     0.40541,     0.40641,     0.40741,\n",
       "           0.40841,     0.40941,     0.41041,     0.41141,     0.41241,     0.41341,     0.41441,     0.41542,     0.41642,     0.41742,     0.41842,     0.41942,     0.42042,     0.42142,     0.42242,     0.42342,     0.42442,     0.42543,     0.42643,     0.42743,     0.42843,     0.42943,     0.43043,     0.43143,\n",
       "           0.43243,     0.43343,     0.43443,     0.43544,     0.43644,     0.43744,     0.43844,     0.43944,     0.44044,     0.44144,     0.44244,     0.44344,     0.44444,     0.44545,     0.44645,     0.44745,     0.44845,     0.44945,     0.45045,     0.45145,     0.45245,     0.45345,     0.45445,     0.45546,\n",
       "           0.45646,     0.45746,     0.45846,     0.45946,     0.46046,     0.46146,     0.46246,     0.46346,     0.46446,     0.46547,     0.46647,     0.46747,     0.46847,     0.46947,     0.47047,     0.47147,     0.47247,     0.47347,     0.47447,     0.47548,     0.47648,     0.47748,     0.47848,     0.47948,\n",
       "           0.48048,     0.48148,     0.48248,     0.48348,     0.48448,     0.48549,     0.48649,     0.48749,     0.48849,     0.48949,     0.49049,     0.49149,     0.49249,     0.49349,     0.49449,      0.4955,      0.4965,      0.4975,      0.4985,      0.4995,      0.5005,      0.5015,      0.5025,      0.5035,\n",
       "            0.5045,     0.50551,     0.50651,     0.50751,     0.50851,     0.50951,     0.51051,     0.51151,     0.51251,     0.51351,     0.51451,     0.51552,     0.51652,     0.51752,     0.51852,     0.51952,     0.52052,     0.52152,     0.52252,     0.52352,     0.52452,     0.52553,     0.52653,     0.52753,\n",
       "           0.52853,     0.52953,     0.53053,     0.53153,     0.53253,     0.53353,     0.53453,     0.53554,     0.53654,     0.53754,     0.53854,     0.53954,     0.54054,     0.54154,     0.54254,     0.54354,     0.54454,     0.54555,     0.54655,     0.54755,     0.54855,     0.54955,     0.55055,     0.55155,\n",
       "           0.55255,     0.55355,     0.55455,     0.55556,     0.55656,     0.55756,     0.55856,     0.55956,     0.56056,     0.56156,     0.56256,     0.56356,     0.56456,     0.56557,     0.56657,     0.56757,     0.56857,     0.56957,     0.57057,     0.57157,     0.57257,     0.57357,     0.57457,     0.57558,\n",
       "           0.57658,     0.57758,     0.57858,     0.57958,     0.58058,     0.58158,     0.58258,     0.58358,     0.58458,     0.58559,     0.58659,     0.58759,     0.58859,     0.58959,     0.59059,     0.59159,     0.59259,     0.59359,     0.59459,      0.5956,      0.5966,      0.5976,      0.5986,      0.5996,\n",
       "            0.6006,      0.6016,      0.6026,      0.6036,      0.6046,     0.60561,     0.60661,     0.60761,     0.60861,     0.60961,     0.61061,     0.61161,     0.61261,     0.61361,     0.61461,     0.61562,     0.61662,     0.61762,     0.61862,     0.61962,     0.62062,     0.62162,     0.62262,     0.62362,\n",
       "           0.62462,     0.62563,     0.62663,     0.62763,     0.62863,     0.62963,     0.63063,     0.63163,     0.63263,     0.63363,     0.63463,     0.63564,     0.63664,     0.63764,     0.63864,     0.63964,     0.64064,     0.64164,     0.64264,     0.64364,     0.64464,     0.64565,     0.64665,     0.64765,\n",
       "           0.64865,     0.64965,     0.65065,     0.65165,     0.65265,     0.65365,     0.65465,     0.65566,     0.65666,     0.65766,     0.65866,     0.65966,     0.66066,     0.66166,     0.66266,     0.66366,     0.66466,     0.66567,     0.66667,     0.66767,     0.66867,     0.66967,     0.67067,     0.67167,\n",
       "           0.67267,     0.67367,     0.67467,     0.67568,     0.67668,     0.67768,     0.67868,     0.67968,     0.68068,     0.68168,     0.68268,     0.68368,     0.68468,     0.68569,     0.68669,     0.68769,     0.68869,     0.68969,     0.69069,     0.69169,     0.69269,     0.69369,     0.69469,      0.6957,\n",
       "            0.6967,      0.6977,      0.6987,      0.6997,      0.7007,      0.7017,      0.7027,      0.7037,      0.7047,     0.70571,     0.70671,     0.70771,     0.70871,     0.70971,     0.71071,     0.71171,     0.71271,     0.71371,     0.71471,     0.71572,     0.71672,     0.71772,     0.71872,     0.71972,\n",
       "           0.72072,     0.72172,     0.72272,     0.72372,     0.72472,     0.72573,     0.72673,     0.72773,     0.72873,     0.72973,     0.73073,     0.73173,     0.73273,     0.73373,     0.73473,     0.73574,     0.73674,     0.73774,     0.73874,     0.73974,     0.74074,     0.74174,     0.74274,     0.74374,\n",
       "           0.74474,     0.74575,     0.74675,     0.74775,     0.74875,     0.74975,     0.75075,     0.75175,     0.75275,     0.75375,     0.75475,     0.75576,     0.75676,     0.75776,     0.75876,     0.75976,     0.76076,     0.76176,     0.76276,     0.76376,     0.76476,     0.76577,     0.76677,     0.76777,\n",
       "           0.76877,     0.76977,     0.77077,     0.77177,     0.77277,     0.77377,     0.77477,     0.77578,     0.77678,     0.77778,     0.77878,     0.77978,     0.78078,     0.78178,     0.78278,     0.78378,     0.78478,     0.78579,     0.78679,     0.78779,     0.78879,     0.78979,     0.79079,     0.79179,\n",
       "           0.79279,     0.79379,     0.79479,      0.7958,      0.7968,      0.7978,      0.7988,      0.7998,      0.8008,      0.8018,      0.8028,      0.8038,      0.8048,     0.80581,     0.80681,     0.80781,     0.80881,     0.80981,     0.81081,     0.81181,     0.81281,     0.81381,     0.81481,     0.81582,\n",
       "           0.81682,     0.81782,     0.81882,     0.81982,     0.82082,     0.82182,     0.82282,     0.82382,     0.82482,     0.82583,     0.82683,     0.82783,     0.82883,     0.82983,     0.83083,     0.83183,     0.83283,     0.83383,     0.83483,     0.83584,     0.83684,     0.83784,     0.83884,     0.83984,\n",
       "           0.84084,     0.84184,     0.84284,     0.84384,     0.84484,     0.84585,     0.84685,     0.84785,     0.84885,     0.84985,     0.85085,     0.85185,     0.85285,     0.85385,     0.85485,     0.85586,     0.85686,     0.85786,     0.85886,     0.85986,     0.86086,     0.86186,     0.86286,     0.86386,\n",
       "           0.86486,     0.86587,     0.86687,     0.86787,     0.86887,     0.86987,     0.87087,     0.87187,     0.87287,     0.87387,     0.87487,     0.87588,     0.87688,     0.87788,     0.87888,     0.87988,     0.88088,     0.88188,     0.88288,     0.88388,     0.88488,     0.88589,     0.88689,     0.88789,\n",
       "           0.88889,     0.88989,     0.89089,     0.89189,     0.89289,     0.89389,     0.89489,      0.8959,      0.8969,      0.8979,      0.8989,      0.8999,      0.9009,      0.9019,      0.9029,      0.9039,      0.9049,     0.90591,     0.90691,     0.90791,     0.90891,     0.90991,     0.91091,     0.91191,\n",
       "           0.91291,     0.91391,     0.91491,     0.91592,     0.91692,     0.91792,     0.91892,     0.91992,     0.92092,     0.92192,     0.92292,     0.92392,     0.92492,     0.92593,     0.92693,     0.92793,     0.92893,     0.92993,     0.93093,     0.93193,     0.93293,     0.93393,     0.93493,     0.93594,\n",
       "           0.93694,     0.93794,     0.93894,     0.93994,     0.94094,     0.94194,     0.94294,     0.94394,     0.94494,     0.94595,     0.94695,     0.94795,     0.94895,     0.94995,     0.95095,     0.95195,     0.95295,     0.95395,     0.95495,     0.95596,     0.95696,     0.95796,     0.95896,     0.95996,\n",
       "           0.96096,     0.96196,     0.96296,     0.96396,     0.96496,     0.96597,     0.96697,     0.96797,     0.96897,     0.96997,     0.97097,     0.97197,     0.97297,     0.97397,     0.97497,     0.97598,     0.97698,     0.97798,     0.97898,     0.97998,     0.98098,     0.98198,     0.98298,     0.98398,\n",
       "           0.98498,     0.98599,     0.98699,     0.98799,     0.98899,     0.98999,     0.99099,     0.99199,     0.99299,     0.99399,     0.99499,       0.996,       0.997,       0.998,       0.999,           1]), array([[          1,           1,           1,           1,           1,           1,           1,           1,           1,           1,           1,           1,           1,           1,           1,           1,           1,           1,           1,           1,           1,           1,           1,\n",
       "                  1,           1,           1,           1,           1,           1,           1,           1,           1,           1,           1,           1,           1,           1,           1,           1,           1,           1,           1,           1,           1,           1,           1,\n",
       "                  1,           1,           1,           1,           1,           1,           1,           1,           1,           1,           1,           1,           1,           1,           1,           1,           1,           1,           1,           1,           1,           1,           1,\n",
       "                  1,           1,           1,           1,           1,           1,           1,           1,           1,           1,           1,           1,           1,           1,           1,           1,           1,           1,           1,           1,           1,           1,           1,\n",
       "                  1,           1,           1,           1,           1,           1,           1,           1,           1,           1,           1,           1,           1,           1,           1,           1,           1,           1,           1,           1,           1,           1,           1,\n",
       "                  1,           1,           1,           1,           1,           1,           1,           1,           1,           1,           1,           1,           1,           1,           1,           1,           1,           1,           1,           1,           1,           1,           1,\n",
       "                  1,           1,           1,           1,           1,           1,           1,           1,           1,           1,           1,           1,           1,           1,           1,           1,           1,           1,           1,           1,           1,           1,           1,\n",
       "                  1,           1,           1,           1,           1,           1,           1,           1,           1,           1,           1,           1,           1,           1,           1,           1,           1,           1,           1,           1,           1,           1,           1,\n",
       "                  1,           1,           1,           1,           1,           1,           1,           1,           1,           1,           1,           1,           1,           1,           1,           1,           1,           1,           1,           1,           1,           1,           1,\n",
       "                  1,           1,           1,           1,           1,           1,           1,           1,           1,           1,           1,           1,           1,           1,           1,           1,           1,           1,           1,           1,           1,           1,           1,\n",
       "                  1,           1,           1,           1,           1,           1,           1,           1,           1,           1,           1,           1,           1,           1,           1,           1,           1,           1,           1,           1,           1,           1,           1,\n",
       "                  1,           1,           1,           1,           1,           1,           1,           1,           1,           1,           1,           1,           1,           1,           1,           1,           1,           1,           1,           1,           1,           1,           1,\n",
       "                  1,           1,           1,           1,           1,           1,           1,           1,           1,           1,           1,           1,           1,           1,           1,           1,           1,           1,           1,           1,           1,           1,           1,\n",
       "                  1,           1,           1,           1,           1,           1,           1,           1,           1,           1,           1,           1,           1,           1,           1,           1,           1,           1,           1,           1,           1,           1,           1,\n",
       "                  1,           1,           1,           1,           1,           1,           1,           1,           1,           1,           1,           1,           1,           1,           1,           1,           1,           1,           1,           1,           1,           1,           1,\n",
       "                  1,           1,           1,           1,           1,           1,           1,           1,           1,           1,           1,           1,           1,           1,           1,           1,           1,           1,           1,           1,           1,           1,           1,\n",
       "                  1,           1,           1,           1,           1,           1,           1,           1,           1,           1,           1,           1,           1,           1,           1,           1,           1,     0.99682,     0.99682,     0.99682,     0.99682,     0.99682,     0.99682,\n",
       "            0.99682,     0.99682,     0.99682,     0.99682,     0.99682,     0.99682,     0.99682,     0.99682,     0.99682,     0.99682,     0.99682,     0.99682,     0.99682,     0.99682,     0.99682,     0.99682,     0.99682,     0.99682,     0.99682,     0.99682,     0.99682,     0.99682,     0.99682,\n",
       "            0.99682,     0.99682,     0.99682,     0.99682,     0.99682,     0.99682,     0.99682,     0.99682,     0.99682,     0.99682,     0.99682,     0.99682,     0.99682,     0.99682,     0.99682,     0.99682,     0.99682,     0.99682,     0.99682,     0.99682,     0.99682,     0.99682,     0.99682,\n",
       "            0.99682,     0.99682,     0.99682,     0.99682,     0.99682,     0.99682,     0.99682,     0.99682,     0.99682,     0.99396,     0.99396,     0.99396,     0.99396,     0.99396,     0.99396,     0.99396,     0.99396,     0.99396,     0.99396,     0.99396,     0.99396,     0.99396,     0.99396,\n",
       "            0.99396,     0.99396,     0.99396,     0.99396,     0.99396,     0.99396,     0.99396,     0.99396,     0.99396,     0.99292,     0.99292,     0.99292,     0.99292,     0.99292,     0.99292,     0.99292,     0.99292,     0.99292,     0.99292,     0.99292,     0.99292,     0.99292,     0.99292,\n",
       "            0.99292,     0.99292,     0.99292,     0.99292,     0.99292,     0.99292,     0.99292,     0.99292,     0.99292,     0.99292,     0.99292,     0.99292,     0.99292,     0.99292,     0.99292,     0.99292,     0.99292,     0.99292,     0.99292,     0.99292,     0.99292,     0.99292,     0.99292,\n",
       "            0.99292,     0.99292,     0.99292,     0.99292,     0.99292,     0.99292,     0.99292,     0.99292,     0.99292,     0.99292,     0.99292,     0.99292,     0.99292,     0.99292,     0.99292,     0.99292,     0.99292,     0.99292,     0.99292,     0.99292,     0.99292,     0.99292,     0.99292,\n",
       "            0.99292,     0.99292,     0.99292,     0.99292,     0.99292,     0.99292,     0.99292,     0.99292,     0.99292,     0.99292,     0.99292,     0.99292,     0.99292,     0.99292,     0.99292,     0.99292,     0.99292,     0.99292,     0.99292,     0.99292,     0.99292,     0.99292,     0.99292,\n",
       "            0.99292,     0.99292,     0.99292,     0.99292,     0.99292,     0.99292,     0.99292,     0.99292,     0.99292,     0.99292,     0.99292,     0.99292,     0.99292,     0.99292,     0.99292,     0.99292,     0.99292,     0.99292,     0.99292,     0.99292,     0.99292,     0.99292,     0.99292,\n",
       "            0.99292,     0.99292,     0.99292,     0.99292,     0.99292,     0.99292,     0.99292,     0.99292,     0.99292,     0.99292,     0.99292,     0.99292,     0.99292,     0.99292,     0.99292,     0.99292,     0.99292,     0.99292,     0.99292,     0.99292,     0.99292,     0.99292,     0.99292,\n",
       "            0.99292,     0.99292,     0.99109,     0.99109,     0.99109,     0.99109,     0.99109,     0.99109,     0.99109,     0.99109,     0.99109,     0.99109,     0.99109,     0.99109,     0.99109,     0.99109,     0.99109,     0.99109,     0.99109,     0.99109,     0.99109,     0.99109,     0.99109,\n",
       "            0.99109,     0.99109,     0.99109,     0.99109,     0.99109,     0.99109,     0.99109,     0.99109,     0.99109,     0.99109,     0.99109,     0.99109,     0.99109,     0.98899,     0.98899,     0.98899,     0.98899,     0.98899,     0.98684,     0.98684,     0.98517,     0.98517,     0.98517,\n",
       "            0.98517,     0.98517,     0.98517,     0.98517,     0.98517,     0.98517,     0.98517,     0.98517,     0.98517,     0.98517,     0.98517,     0.98517,     0.98517,     0.98517,     0.98517,     0.98517,     0.98517,     0.98517,     0.98312,     0.98312,     0.98113,     0.98113,     0.97988,\n",
       "            0.97988,     0.97988,     0.97988,     0.97988,     0.97988,     0.97988,     0.97988,     0.97988,     0.97988,     0.97988,     0.97988,     0.97988,     0.97988,     0.97988,     0.97988,     0.97988,     0.97988,     0.97988,     0.97988,     0.97988,     0.97988,     0.97988,     0.97988,\n",
       "            0.97988,     0.97988,     0.97988,     0.97988,     0.97813,     0.97813,     0.97813,     0.97813,     0.97813,     0.97813,     0.97813,     0.97633,     0.97633,     0.97633,     0.97633,      0.9749,      0.9749,      0.9749,      0.9749,      0.9749,      0.9749,      0.9749,      0.9749,\n",
       "             0.9749,      0.9749,      0.9749,      0.9749,      0.9749,      0.9749,     0.97348,     0.97348,     0.97348,     0.97348,     0.97348,     0.97348,     0.97348,     0.97348,     0.97348,     0.97348,     0.97348,     0.97348,     0.97348,     0.97127,     0.97127,     0.97127,     0.97127,\n",
       "            0.97127,     0.97127,     0.97127,     0.97127,     0.97127,     0.97127,     0.97127,     0.97127,     0.97127,     0.97127,     0.97127,     0.97127,     0.97127,     0.97127,     0.97127,     0.97127,     0.97127,     0.97127,     0.97127,     0.97127,     0.97127,     0.97127,     0.97127,\n",
       "            0.97127,     0.97127,     0.97127,     0.97127,     0.97127,     0.97127,     0.97127,     0.97127,     0.97127,     0.97127,     0.97127,     0.96791,     0.96791,     0.96791,     0.96454,     0.96454,     0.96309,     0.96309,     0.96309,     0.96309,     0.96309,     0.96181,     0.96181,\n",
       "            0.96181,     0.96181,     0.96181,     0.96181,     0.96181,     0.96181,     0.96181,     0.96062,     0.96062,     0.96062,     0.96062,     0.96062,     0.96062,     0.96062,     0.96062,     0.96062,     0.96062,      0.9577,      0.9577,      0.9577,      0.9577,      0.9577,      0.9577,\n",
       "             0.9577,      0.9563,      0.9563,      0.9563,      0.9563,     0.95477,     0.95477,     0.95207,     0.95207,     0.95207,     0.95207,     0.95207,     0.95207,     0.95207,     0.95207,     0.95066,     0.95066,     0.95066,     0.94959,     0.94959,     0.94959,     0.94959,     0.94959,\n",
       "            0.94959,     0.94959,     0.94959,     0.94959,      0.9466,     0.94409,     0.94409,     0.94409,     0.94409,     0.94409,     0.94409,     0.94409,     0.94409,     0.94409,     0.94277,     0.94277,     0.94136,     0.94136,     0.94016,     0.94016,     0.94016,     0.94016,     0.93887,\n",
       "            0.93887,     0.93887,     0.93624,     0.93624,     0.93624,     0.93624,     0.93488,     0.93488,     0.93354,     0.93077,     0.92802,     0.92802,     0.92273,     0.92273,     0.92273,     0.92273,     0.92006,     0.92006,     0.91754,     0.91754,     0.91654,     0.91654,     0.91654,\n",
       "            0.91654,     0.91654,     0.91543,     0.91543,     0.91543,     0.91298,     0.91298,     0.90379,     0.90379,      0.8987,     0.89368,     0.89368,     0.89255,     0.89016,     0.88778,     0.88778,     0.88669,     0.88451,     0.88451,     0.88451,     0.88343,     0.88343,     0.88235,\n",
       "            0.87761,     0.87656,     0.87656,     0.87431,     0.87208,     0.87208,     0.86767,     0.86767,     0.86767,     0.86685,     0.86685,     0.86003,     0.86003,     0.84544,     0.83681,     0.83681,     0.83268,      0.8233,      0.8233,     0.82038,     0.80827,     0.79361,     0.79361,\n",
       "             0.7871,     0.78261,     0.78261,     0.78099,     0.77106,      0.7695,      0.7695,     0.76706,     0.76643,     0.76643,     0.76313,     0.75986,     0.75986,     0.75926,     0.75431,     0.72228,     0.72228,     0.70632,     0.69694,     0.69694,     0.69506,     0.66134,     0.66134,\n",
       "            0.62903,     0.60419,     0.59006,     0.59006,     0.58627,     0.58509,     0.58509,     0.57192,     0.56743,     0.56743,     0.54918,      0.5234,     0.52214,     0.52214,     0.49558,     0.49413,     0.49413,     0.45547,     0.42569,     0.38055,     0.38055,     0.37355,     0.36742,\n",
       "            0.36742,     0.36618,     0.36476,     0.36476,     0.34306,     0.30628,     0.28536,     0.28536,     0.26522,     0.25461,     0.24401,      0.2334,     0.22279,     0.21218,     0.20157,     0.19096,     0.18035,     0.16974,     0.15913,     0.14853,     0.13792,     0.12731,      0.1167,\n",
       "            0.10609,     0.09548,    0.084872,    0.074263,    0.063654,    0.053045,    0.042436,    0.031827,    0.021218,    0.010609,           0]]), 'Recall', 'Precision'], [array([          0,    0.001001,    0.002002,    0.003003,    0.004004,    0.005005,    0.006006,    0.007007,    0.008008,    0.009009,     0.01001,    0.011011,    0.012012,    0.013013,    0.014014,    0.015015,    0.016016,    0.017017,    0.018018,    0.019019,     0.02002,    0.021021,    0.022022,    0.023023,\n",
       "          0.024024,    0.025025,    0.026026,    0.027027,    0.028028,    0.029029,     0.03003,    0.031031,    0.032032,    0.033033,    0.034034,    0.035035,    0.036036,    0.037037,    0.038038,    0.039039,     0.04004,    0.041041,    0.042042,    0.043043,    0.044044,    0.045045,    0.046046,    0.047047,\n",
       "          0.048048,    0.049049,     0.05005,    0.051051,    0.052052,    0.053053,    0.054054,    0.055055,    0.056056,    0.057057,    0.058058,    0.059059,     0.06006,    0.061061,    0.062062,    0.063063,    0.064064,    0.065065,    0.066066,    0.067067,    0.068068,    0.069069,     0.07007,    0.071071,\n",
       "          0.072072,    0.073073,    0.074074,    0.075075,    0.076076,    0.077077,    0.078078,    0.079079,     0.08008,    0.081081,    0.082082,    0.083083,    0.084084,    0.085085,    0.086086,    0.087087,    0.088088,    0.089089,     0.09009,    0.091091,    0.092092,    0.093093,    0.094094,    0.095095,\n",
       "          0.096096,    0.097097,    0.098098,    0.099099,      0.1001,      0.1011,      0.1021,      0.1031,      0.1041,     0.10511,     0.10611,     0.10711,     0.10811,     0.10911,     0.11011,     0.11111,     0.11211,     0.11311,     0.11411,     0.11512,     0.11612,     0.11712,     0.11812,     0.11912,\n",
       "           0.12012,     0.12112,     0.12212,     0.12312,     0.12412,     0.12513,     0.12613,     0.12713,     0.12813,     0.12913,     0.13013,     0.13113,     0.13213,     0.13313,     0.13413,     0.13514,     0.13614,     0.13714,     0.13814,     0.13914,     0.14014,     0.14114,     0.14214,     0.14314,\n",
       "           0.14414,     0.14515,     0.14615,     0.14715,     0.14815,     0.14915,     0.15015,     0.15115,     0.15215,     0.15315,     0.15415,     0.15516,     0.15616,     0.15716,     0.15816,     0.15916,     0.16016,     0.16116,     0.16216,     0.16316,     0.16416,     0.16517,     0.16617,     0.16717,\n",
       "           0.16817,     0.16917,     0.17017,     0.17117,     0.17217,     0.17317,     0.17417,     0.17518,     0.17618,     0.17718,     0.17818,     0.17918,     0.18018,     0.18118,     0.18218,     0.18318,     0.18418,     0.18519,     0.18619,     0.18719,     0.18819,     0.18919,     0.19019,     0.19119,\n",
       "           0.19219,     0.19319,     0.19419,      0.1952,      0.1962,      0.1972,      0.1982,      0.1992,      0.2002,      0.2012,      0.2022,      0.2032,      0.2042,     0.20521,     0.20621,     0.20721,     0.20821,     0.20921,     0.21021,     0.21121,     0.21221,     0.21321,     0.21421,     0.21522,\n",
       "           0.21622,     0.21722,     0.21822,     0.21922,     0.22022,     0.22122,     0.22222,     0.22322,     0.22422,     0.22523,     0.22623,     0.22723,     0.22823,     0.22923,     0.23023,     0.23123,     0.23223,     0.23323,     0.23423,     0.23524,     0.23624,     0.23724,     0.23824,     0.23924,\n",
       "           0.24024,     0.24124,     0.24224,     0.24324,     0.24424,     0.24525,     0.24625,     0.24725,     0.24825,     0.24925,     0.25025,     0.25125,     0.25225,     0.25325,     0.25425,     0.25526,     0.25626,     0.25726,     0.25826,     0.25926,     0.26026,     0.26126,     0.26226,     0.26326,\n",
       "           0.26426,     0.26527,     0.26627,     0.26727,     0.26827,     0.26927,     0.27027,     0.27127,     0.27227,     0.27327,     0.27427,     0.27528,     0.27628,     0.27728,     0.27828,     0.27928,     0.28028,     0.28128,     0.28228,     0.28328,     0.28428,     0.28529,     0.28629,     0.28729,\n",
       "           0.28829,     0.28929,     0.29029,     0.29129,     0.29229,     0.29329,     0.29429,      0.2953,      0.2963,      0.2973,      0.2983,      0.2993,      0.3003,      0.3013,      0.3023,      0.3033,      0.3043,     0.30531,     0.30631,     0.30731,     0.30831,     0.30931,     0.31031,     0.31131,\n",
       "           0.31231,     0.31331,     0.31431,     0.31532,     0.31632,     0.31732,     0.31832,     0.31932,     0.32032,     0.32132,     0.32232,     0.32332,     0.32432,     0.32533,     0.32633,     0.32733,     0.32833,     0.32933,     0.33033,     0.33133,     0.33233,     0.33333,     0.33433,     0.33534,\n",
       "           0.33634,     0.33734,     0.33834,     0.33934,     0.34034,     0.34134,     0.34234,     0.34334,     0.34434,     0.34535,     0.34635,     0.34735,     0.34835,     0.34935,     0.35035,     0.35135,     0.35235,     0.35335,     0.35435,     0.35536,     0.35636,     0.35736,     0.35836,     0.35936,\n",
       "           0.36036,     0.36136,     0.36236,     0.36336,     0.36436,     0.36537,     0.36637,     0.36737,     0.36837,     0.36937,     0.37037,     0.37137,     0.37237,     0.37337,     0.37437,     0.37538,     0.37638,     0.37738,     0.37838,     0.37938,     0.38038,     0.38138,     0.38238,     0.38338,\n",
       "           0.38438,     0.38539,     0.38639,     0.38739,     0.38839,     0.38939,     0.39039,     0.39139,     0.39239,     0.39339,     0.39439,      0.3954,      0.3964,      0.3974,      0.3984,      0.3994,      0.4004,      0.4014,      0.4024,      0.4034,      0.4044,     0.40541,     0.40641,     0.40741,\n",
       "           0.40841,     0.40941,     0.41041,     0.41141,     0.41241,     0.41341,     0.41441,     0.41542,     0.41642,     0.41742,     0.41842,     0.41942,     0.42042,     0.42142,     0.42242,     0.42342,     0.42442,     0.42543,     0.42643,     0.42743,     0.42843,     0.42943,     0.43043,     0.43143,\n",
       "           0.43243,     0.43343,     0.43443,     0.43544,     0.43644,     0.43744,     0.43844,     0.43944,     0.44044,     0.44144,     0.44244,     0.44344,     0.44444,     0.44545,     0.44645,     0.44745,     0.44845,     0.44945,     0.45045,     0.45145,     0.45245,     0.45345,     0.45445,     0.45546,\n",
       "           0.45646,     0.45746,     0.45846,     0.45946,     0.46046,     0.46146,     0.46246,     0.46346,     0.46446,     0.46547,     0.46647,     0.46747,     0.46847,     0.46947,     0.47047,     0.47147,     0.47247,     0.47347,     0.47447,     0.47548,     0.47648,     0.47748,     0.47848,     0.47948,\n",
       "           0.48048,     0.48148,     0.48248,     0.48348,     0.48448,     0.48549,     0.48649,     0.48749,     0.48849,     0.48949,     0.49049,     0.49149,     0.49249,     0.49349,     0.49449,      0.4955,      0.4965,      0.4975,      0.4985,      0.4995,      0.5005,      0.5015,      0.5025,      0.5035,\n",
       "            0.5045,     0.50551,     0.50651,     0.50751,     0.50851,     0.50951,     0.51051,     0.51151,     0.51251,     0.51351,     0.51451,     0.51552,     0.51652,     0.51752,     0.51852,     0.51952,     0.52052,     0.52152,     0.52252,     0.52352,     0.52452,     0.52553,     0.52653,     0.52753,\n",
       "           0.52853,     0.52953,     0.53053,     0.53153,     0.53253,     0.53353,     0.53453,     0.53554,     0.53654,     0.53754,     0.53854,     0.53954,     0.54054,     0.54154,     0.54254,     0.54354,     0.54454,     0.54555,     0.54655,     0.54755,     0.54855,     0.54955,     0.55055,     0.55155,\n",
       "           0.55255,     0.55355,     0.55455,     0.55556,     0.55656,     0.55756,     0.55856,     0.55956,     0.56056,     0.56156,     0.56256,     0.56356,     0.56456,     0.56557,     0.56657,     0.56757,     0.56857,     0.56957,     0.57057,     0.57157,     0.57257,     0.57357,     0.57457,     0.57558,\n",
       "           0.57658,     0.57758,     0.57858,     0.57958,     0.58058,     0.58158,     0.58258,     0.58358,     0.58458,     0.58559,     0.58659,     0.58759,     0.58859,     0.58959,     0.59059,     0.59159,     0.59259,     0.59359,     0.59459,      0.5956,      0.5966,      0.5976,      0.5986,      0.5996,\n",
       "            0.6006,      0.6016,      0.6026,      0.6036,      0.6046,     0.60561,     0.60661,     0.60761,     0.60861,     0.60961,     0.61061,     0.61161,     0.61261,     0.61361,     0.61461,     0.61562,     0.61662,     0.61762,     0.61862,     0.61962,     0.62062,     0.62162,     0.62262,     0.62362,\n",
       "           0.62462,     0.62563,     0.62663,     0.62763,     0.62863,     0.62963,     0.63063,     0.63163,     0.63263,     0.63363,     0.63463,     0.63564,     0.63664,     0.63764,     0.63864,     0.63964,     0.64064,     0.64164,     0.64264,     0.64364,     0.64464,     0.64565,     0.64665,     0.64765,\n",
       "           0.64865,     0.64965,     0.65065,     0.65165,     0.65265,     0.65365,     0.65465,     0.65566,     0.65666,     0.65766,     0.65866,     0.65966,     0.66066,     0.66166,     0.66266,     0.66366,     0.66466,     0.66567,     0.66667,     0.66767,     0.66867,     0.66967,     0.67067,     0.67167,\n",
       "           0.67267,     0.67367,     0.67467,     0.67568,     0.67668,     0.67768,     0.67868,     0.67968,     0.68068,     0.68168,     0.68268,     0.68368,     0.68468,     0.68569,     0.68669,     0.68769,     0.68869,     0.68969,     0.69069,     0.69169,     0.69269,     0.69369,     0.69469,      0.6957,\n",
       "            0.6967,      0.6977,      0.6987,      0.6997,      0.7007,      0.7017,      0.7027,      0.7037,      0.7047,     0.70571,     0.70671,     0.70771,     0.70871,     0.70971,     0.71071,     0.71171,     0.71271,     0.71371,     0.71471,     0.71572,     0.71672,     0.71772,     0.71872,     0.71972,\n",
       "           0.72072,     0.72172,     0.72272,     0.72372,     0.72472,     0.72573,     0.72673,     0.72773,     0.72873,     0.72973,     0.73073,     0.73173,     0.73273,     0.73373,     0.73473,     0.73574,     0.73674,     0.73774,     0.73874,     0.73974,     0.74074,     0.74174,     0.74274,     0.74374,\n",
       "           0.74474,     0.74575,     0.74675,     0.74775,     0.74875,     0.74975,     0.75075,     0.75175,     0.75275,     0.75375,     0.75475,     0.75576,     0.75676,     0.75776,     0.75876,     0.75976,     0.76076,     0.76176,     0.76276,     0.76376,     0.76476,     0.76577,     0.76677,     0.76777,\n",
       "           0.76877,     0.76977,     0.77077,     0.77177,     0.77277,     0.77377,     0.77477,     0.77578,     0.77678,     0.77778,     0.77878,     0.77978,     0.78078,     0.78178,     0.78278,     0.78378,     0.78478,     0.78579,     0.78679,     0.78779,     0.78879,     0.78979,     0.79079,     0.79179,\n",
       "           0.79279,     0.79379,     0.79479,      0.7958,      0.7968,      0.7978,      0.7988,      0.7998,      0.8008,      0.8018,      0.8028,      0.8038,      0.8048,     0.80581,     0.80681,     0.80781,     0.80881,     0.80981,     0.81081,     0.81181,     0.81281,     0.81381,     0.81481,     0.81582,\n",
       "           0.81682,     0.81782,     0.81882,     0.81982,     0.82082,     0.82182,     0.82282,     0.82382,     0.82482,     0.82583,     0.82683,     0.82783,     0.82883,     0.82983,     0.83083,     0.83183,     0.83283,     0.83383,     0.83483,     0.83584,     0.83684,     0.83784,     0.83884,     0.83984,\n",
       "           0.84084,     0.84184,     0.84284,     0.84384,     0.84484,     0.84585,     0.84685,     0.84785,     0.84885,     0.84985,     0.85085,     0.85185,     0.85285,     0.85385,     0.85485,     0.85586,     0.85686,     0.85786,     0.85886,     0.85986,     0.86086,     0.86186,     0.86286,     0.86386,\n",
       "           0.86486,     0.86587,     0.86687,     0.86787,     0.86887,     0.86987,     0.87087,     0.87187,     0.87287,     0.87387,     0.87487,     0.87588,     0.87688,     0.87788,     0.87888,     0.87988,     0.88088,     0.88188,     0.88288,     0.88388,     0.88488,     0.88589,     0.88689,     0.88789,\n",
       "           0.88889,     0.88989,     0.89089,     0.89189,     0.89289,     0.89389,     0.89489,      0.8959,      0.8969,      0.8979,      0.8989,      0.8999,      0.9009,      0.9019,      0.9029,      0.9039,      0.9049,     0.90591,     0.90691,     0.90791,     0.90891,     0.90991,     0.91091,     0.91191,\n",
       "           0.91291,     0.91391,     0.91491,     0.91592,     0.91692,     0.91792,     0.91892,     0.91992,     0.92092,     0.92192,     0.92292,     0.92392,     0.92492,     0.92593,     0.92693,     0.92793,     0.92893,     0.92993,     0.93093,     0.93193,     0.93293,     0.93393,     0.93493,     0.93594,\n",
       "           0.93694,     0.93794,     0.93894,     0.93994,     0.94094,     0.94194,     0.94294,     0.94394,     0.94494,     0.94595,     0.94695,     0.94795,     0.94895,     0.94995,     0.95095,     0.95195,     0.95295,     0.95395,     0.95495,     0.95596,     0.95696,     0.95796,     0.95896,     0.95996,\n",
       "           0.96096,     0.96196,     0.96296,     0.96396,     0.96496,     0.96597,     0.96697,     0.96797,     0.96897,     0.96997,     0.97097,     0.97197,     0.97297,     0.97397,     0.97497,     0.97598,     0.97698,     0.97798,     0.97898,     0.97998,     0.98098,     0.98198,     0.98298,     0.98398,\n",
       "           0.98498,     0.98599,     0.98699,     0.98799,     0.98899,     0.98999,     0.99099,     0.99199,     0.99299,     0.99399,     0.99499,       0.996,       0.997,       0.998,       0.999,           1]), array([[    0.42498,     0.42498,     0.52789,      0.5785,     0.61361,     0.63784,     0.65595,     0.67264,     0.68268,      0.6924,      0.7031,     0.71341,     0.72044,      0.7242,     0.72969,     0.73269,     0.73747,     0.74518,     0.75096,     0.75506,       0.758,     0.76195,     0.76574,\n",
       "            0.77019,     0.77686,     0.77864,     0.78103,     0.78652,      0.7886,     0.79114,     0.79549,     0.79917,     0.80005,     0.80329,     0.80425,     0.80573,     0.80643,      0.8085,     0.80992,     0.81294,     0.81454,     0.81547,     0.81578,     0.81599,     0.81848,     0.81994,\n",
       "            0.82129,     0.82248,     0.82309,     0.82486,     0.82511,     0.82537,     0.82651,     0.82701,     0.82921,     0.82976,     0.83023,     0.83059,     0.83245,     0.83379,     0.83422,     0.83493,     0.83533,     0.83502,     0.83601,     0.83629,     0.83642,     0.83655,     0.83667,\n",
       "            0.83756,     0.83712,     0.83758,     0.83686,     0.83797,     0.83819,     0.83841,     0.83876,     0.83973,        0.84,     0.84021,     0.84043,     0.84098,     0.84083,     0.84128,     0.84089,     0.84099,     0.84147,      0.8419,     0.84363,     0.84418,     0.84477,     0.84572,\n",
       "            0.84607,     0.84613,      0.8462,     0.84662,     0.84663,     0.84709,     0.84742,     0.84796,     0.84819,     0.84842,     0.84876,     0.84893,     0.84834,     0.84919,     0.84953,     0.84969,     0.84986,     0.85016,     0.85169,     0.85163,      0.8518,     0.85216,     0.85252,\n",
       "            0.85273,     0.85288,     0.85304,     0.85322,     0.85356,     0.85384,     0.85403,     0.85423,     0.85515,      0.8559,     0.85641,       0.857,     0.85755,      0.8584,     0.85866,     0.85909,     0.85985,     0.85983,      0.8596,     0.85938,     0.85933,     0.85958,     0.85994,\n",
       "            0.86068,     0.86107,     0.86154,     0.86164,     0.86175,     0.86185,     0.86196,     0.86206,     0.86232,     0.86333,     0.86407,     0.86455,     0.86596,     0.86584,      0.8655,     0.86667,      0.8667,     0.86763,     0.86816,     0.86854,     0.86892,     0.86932,     0.87096,\n",
       "            0.87107,     0.87107,     0.87126,     0.87144,     0.87213,     0.87231,     0.87249,     0.87267,     0.87306,     0.87277,     0.87261,     0.87315,     0.87364,     0.87417,     0.87457,     0.87495,     0.87616,     0.87626,     0.87635,     0.87645,     0.87654,     0.87664,     0.87675,\n",
       "            0.87696,     0.87716,     0.87714,     0.87656,     0.87689,     0.87727,     0.87836,     0.87847,     0.87858,     0.87869,      0.8788,     0.87891,     0.87911,     0.87934,     0.87964,     0.88185,     0.88227,     0.88263,     0.88329,     0.88348,     0.88367,     0.88407,     0.88433,\n",
       "            0.88454,     0.88475,     0.88561,     0.88592,     0.88617,      0.8863,     0.88644,     0.88657,     0.88671,     0.88728,     0.88689,     0.88654,     0.88637,      0.8862,     0.88603,     0.88587,     0.88627,     0.88633,     0.88622,     0.88612,     0.88602,     0.88591,     0.88581,\n",
       "            0.88571,     0.88558,      0.8854,     0.88521,     0.88502,     0.88496,     0.88581,     0.88614,     0.88621,     0.88629,     0.88636,     0.88643,      0.8865,     0.88658,     0.88665,     0.88727,     0.88673,     0.88684,     0.88722,     0.88743,     0.88764,     0.88751,     0.88708,\n",
       "            0.88721,     0.88733,     0.88745,     0.88757,     0.88751,     0.88757,     0.88764,      0.8877,     0.88777,     0.88783,     0.88789,     0.88796,     0.88802,     0.88809,     0.88775,     0.88738,     0.88763,     0.88789,     0.88804,     0.88816,     0.88827,     0.88839,     0.88851,\n",
       "            0.88864,      0.8888,     0.88896,     0.88912,     0.88963,     0.88964,     0.88939,     0.88915,     0.88916,     0.88936,     0.88956,     0.88954,     0.88922,     0.88889,     0.88932,     0.88892,     0.88815,     0.88799,     0.88804,      0.8881,     0.88815,     0.88821,     0.88826,\n",
       "            0.88832,     0.88837,     0.88843,     0.88848,     0.88854,      0.8887,     0.88907,     0.88875,     0.88877,     0.88829,     0.88848,     0.88866,     0.88885,     0.88909,     0.88935,     0.88946,     0.88928,      0.8891,     0.88892,     0.88874,     0.88993,     0.88964,     0.88934,\n",
       "            0.88927,     0.88937,     0.88948,     0.88959,      0.8897,     0.88981,     0.88972,     0.88954,     0.88936,     0.88917,     0.88909,     0.88924,     0.88938,     0.88953,     0.88967,     0.88977,     0.88986,     0.88996,     0.89005,     0.89014,     0.89024,     0.89033,      0.8904,\n",
       "            0.89047,     0.89054,     0.89061,     0.89068,     0.89075,     0.89082,     0.89089,     0.89101,     0.89134,     0.89089,     0.89113,     0.89137,     0.89188,     0.89222,      0.8924,     0.89259,     0.89326,     0.89285,     0.89351,     0.89397,     0.89414,     0.89432,      0.8945,\n",
       "            0.89482,     0.89515,     0.89553,     0.89587,     0.89611,     0.89635,     0.89651,     0.89661,     0.89671,     0.89681,     0.89691,       0.897,      0.8963,       0.896,      0.8957,     0.89561,     0.89594,     0.89629,     0.89668,     0.89625,     0.89543,     0.89568,     0.89569,\n",
       "            0.89547,     0.89525,       0.895,     0.89453,     0.89413,     0.89386,     0.89358,     0.89358,     0.89392,     0.89353,     0.89306,     0.89279,     0.89251,     0.89275,     0.89308,     0.89346,      0.8937,     0.89328,     0.89369,     0.89403,      0.8942,     0.89392,     0.89364,\n",
       "            0.89257,     0.89235,     0.89212,      0.8919,      0.8923,     0.89259,     0.89273,     0.89287,     0.89302,     0.89317,     0.89351,     0.89444,     0.89423,     0.89402,     0.89381,      0.8938,     0.89434,     0.89446,     0.89457,     0.89469,     0.89481,     0.89493,     0.89491,\n",
       "            0.89482,     0.89472,     0.89463,     0.89454,     0.89444,     0.89435,     0.89426,     0.89417,     0.89423,     0.89431,      0.8944,     0.89448,     0.89457,     0.89465,     0.89474,     0.89486,     0.89541,      0.8947,     0.89509,     0.89499,     0.89457,     0.89475,     0.89492,\n",
       "            0.89509,     0.89343,     0.89326,      0.8931,     0.89293,     0.89276,     0.89314,     0.89342,     0.89351,     0.89359,     0.89368,     0.89376,     0.89385,     0.89393,     0.89402,     0.89393,      0.8938,     0.89368,     0.89356,     0.89344,     0.89332,      0.8932,     0.89298,\n",
       "            0.89277,     0.89256,     0.89301,     0.89272,     0.89244,      0.8907,     0.89103,     0.89048,     0.89082,      0.8908,     0.88994,     0.88944,     0.88958,     0.88971,     0.88985,     0.88999,     0.88986,     0.88943,     0.88907,     0.88879,      0.8885,      0.8875,     0.88742,\n",
       "            0.88734,     0.88727,     0.88719,     0.88711,     0.88703,     0.88695,     0.88687,      0.8868,     0.88672,     0.88658,     0.88644,      0.8863,     0.88615,     0.88601,     0.88585,     0.88503,     0.88514,     0.88526,     0.88537,     0.88548,      0.8856,     0.88556,     0.88579,\n",
       "            0.88602,     0.88625,     0.88648,     0.88671,     0.88598,     0.88587,     0.88577,     0.88566,     0.88555,     0.88544,     0.88533,     0.88522,     0.88494,     0.88451,     0.88407,     0.88364,     0.88244,     0.88215,     0.88186,     0.88187,       0.882,     0.88214,     0.88228,\n",
       "            0.88242,     0.88173,     0.88134,     0.88105,     0.88076,     0.88128,     0.88099,      0.8807,     0.87965,     0.87956,     0.87947,     0.87939,      0.8793,     0.87921,     0.87912,     0.87903,     0.87894,     0.87886,     0.87818,     0.87763,     0.87719,     0.87639,     0.87683,\n",
       "            0.87749,     0.87736,     0.87724,     0.87711,     0.87698,     0.87686,     0.87674,     0.87689,     0.87705,      0.8772,     0.87736,     0.87729,     0.87712,     0.87694,     0.87676,     0.87658,     0.87586,     0.87536,     0.87512,     0.87467,     0.87439,     0.87414,     0.87388,\n",
       "            0.87361,     0.87331,     0.87301,     0.87152,      0.8715,     0.87188,     0.87204,     0.87219,     0.87235,     0.87243,     0.87221,     0.87198,     0.87176,     0.87153,     0.87131,     0.87108,     0.87086,     0.87037,     0.86885,     0.86859,     0.86833,     0.86807,     0.86793,\n",
       "            0.86779,     0.86765,     0.86752,     0.86738,     0.86724,      0.8666,     0.86677,     0.86634,     0.86543,     0.86452,     0.86272,     0.86224,     0.86187,     0.86188,     0.86196,     0.86027,     0.85966,     0.85919,     0.85873,     0.85889,     0.85907,     0.85924,     0.85924,\n",
       "            0.85892,     0.85926,     0.85938,     0.85951,     0.85964,     0.85976,     0.85871,     0.85881,     0.85909,     0.85937,     0.85902,     0.85855,     0.85809,     0.85762,     0.85701,     0.85646,       0.856,     0.85453,     0.85389,     0.85209,     0.85178,     0.85146,     0.85116,\n",
       "            0.85089,     0.85062,     0.85035,        0.85,     0.84962,     0.84907,     0.84831,     0.84793,     0.84755,     0.84695,     0.84618,     0.84456,     0.84418,     0.84286,     0.84254,     0.84223,     0.84191,     0.84164,     0.84136,     0.84109,     0.83988,     0.83899,     0.83835,\n",
       "            0.83795,     0.83763,      0.8373,     0.83598,     0.83466,     0.83563,      0.8349,     0.83328,      0.8328,     0.83252,     0.83224,     0.83195,      0.8313,     0.83086,     0.83058,      0.8303,     0.82895,     0.82728,     0.82774,     0.82619,     0.82472,     0.82091,     0.82025,\n",
       "            0.81931,     0.81859,     0.81845,     0.81804,     0.81696,     0.81663,     0.81634,     0.81606,     0.81633,     0.81583,     0.81538,     0.81498,     0.81454,     0.81386,      0.8122,     0.81224,     0.81173,     0.81117,      0.8105,     0.80882,     0.80814,     0.80746,     0.80276,\n",
       "            0.80005,     0.79936,      0.7946,     0.79391,     0.79388,     0.79318,     0.79235,     0.79205,     0.79175,     0.79207,     0.79136,      0.7868,      0.7838,     0.78344,     0.78309,     0.78263,     0.78191,      0.7812,     0.77743,       0.777,     0.77657,     0.77678,     0.77543,\n",
       "             0.7747,     0.77434,     0.77397,     0.77107,     0.77052,     0.76883,     0.76671,     0.76597,     0.76228,     0.75766,     0.75663,     0.75607,     0.75508,     0.75242,     0.75166,     0.74869,     0.74729,     0.74774,     0.74561,     0.74483,     0.74295,     0.73881,     0.73835,\n",
       "            0.73788,     0.73475,     0.72964,     0.72886,     0.72667,     0.72345,     0.72034,     0.71954,       0.718,     0.71776,     0.71752,     0.71729,     0.71705,     0.71308,      0.7126,     0.71198,     0.71118,     0.71037,     0.70736,     0.70688,     0.70626,     0.70038,     0.69957,\n",
       "             0.6953,     0.69269,     0.69155,     0.68416,     0.68256,     0.68197,     0.68161,     0.68125,     0.68016,      0.6756,     0.67383,     0.66866,     0.66776,       0.667,     0.66635,     0.66433,     0.66091,     0.65961,     0.65706,     0.65619,     0.65503,      0.6519,     0.65124,\n",
       "            0.64914,     0.64667,     0.64601,     0.64397,     0.64308,      0.6392,     0.63653,     0.63461,     0.63179,     0.63084,     0.62839,      0.6259,     0.62494,     0.61887,     0.61302,     0.61232,     0.60982,      0.6091,     0.60879,     0.60847,     0.60816,     0.60586,     0.60445,\n",
       "            0.60058,      0.5993,     0.59835,     0.59506,      0.5941,      0.5927,      0.5917,      0.5891,     0.58481,     0.58263,      0.5811,     0.57682,     0.57534,     0.57395,     0.57321,     0.57234,     0.57085,     0.56904,      0.5664,     0.56591,     0.56541,     0.56143,     0.56048,\n",
       "            0.55998,     0.55948,     0.55875,     0.55799,     0.55507,     0.55259,     0.55006,     0.54651,     0.54335,     0.54025,     0.53808,     0.53651,     0.53223,     0.53077,     0.52873,     0.52715,     0.52437,     0.51962,     0.51692,     0.51477,     0.51232,     0.51124,      0.5073,\n",
       "            0.50496,     0.50417,     0.50352,     0.50158,     0.50076,     0.49977,     0.49744,     0.49478,     0.48862,     0.48806,      0.4875,     0.48634,     0.48503,     0.48447,     0.48391,      0.4819,     0.48106,     0.48021,     0.47937,     0.47841,     0.47728,      0.4745,     0.47309,\n",
       "            0.46889,     0.46775,     0.46377,     0.46205,     0.46042,     0.45956,     0.45685,     0.45477,     0.45166,     0.44991,     0.44815,     0.44639,     0.44463,     0.44053,     0.43588,     0.43164,     0.42703,     0.42561,     0.42471,     0.42336,     0.42154,     0.42005,     0.41866,\n",
       "              0.415,     0.40952,     0.40246,     0.39479,     0.38917,     0.38393,     0.38156,     0.37966,      0.3701,      0.3624,      0.3601,     0.35646,     0.35057,     0.34449,     0.33984,      0.3385,     0.33353,     0.32653,     0.32439,     0.32143,     0.31615,     0.30996,     0.30168,\n",
       "            0.29749,     0.29643,     0.28896,     0.28047,     0.26763,     0.26109,     0.24867,     0.24347,     0.23452,     0.22996,     0.22087,     0.21839,     0.20472,     0.19769,     0.18827,     0.18111,     0.16212,     0.15482,     0.14959,     0.12725,      0.1213,     0.10935,    0.094592,\n",
       "           0.092824,    0.080526,    0.056479,    0.034578,    0.020585,   0.0063905,           0,           0,           0,           0,           0]]), 'Confidence', 'F1'], [array([          0,    0.001001,    0.002002,    0.003003,    0.004004,    0.005005,    0.006006,    0.007007,    0.008008,    0.009009,     0.01001,    0.011011,    0.012012,    0.013013,    0.014014,    0.015015,    0.016016,    0.017017,    0.018018,    0.019019,     0.02002,    0.021021,    0.022022,    0.023023,\n",
       "          0.024024,    0.025025,    0.026026,    0.027027,    0.028028,    0.029029,     0.03003,    0.031031,    0.032032,    0.033033,    0.034034,    0.035035,    0.036036,    0.037037,    0.038038,    0.039039,     0.04004,    0.041041,    0.042042,    0.043043,    0.044044,    0.045045,    0.046046,    0.047047,\n",
       "          0.048048,    0.049049,     0.05005,    0.051051,    0.052052,    0.053053,    0.054054,    0.055055,    0.056056,    0.057057,    0.058058,    0.059059,     0.06006,    0.061061,    0.062062,    0.063063,    0.064064,    0.065065,    0.066066,    0.067067,    0.068068,    0.069069,     0.07007,    0.071071,\n",
       "          0.072072,    0.073073,    0.074074,    0.075075,    0.076076,    0.077077,    0.078078,    0.079079,     0.08008,    0.081081,    0.082082,    0.083083,    0.084084,    0.085085,    0.086086,    0.087087,    0.088088,    0.089089,     0.09009,    0.091091,    0.092092,    0.093093,    0.094094,    0.095095,\n",
       "          0.096096,    0.097097,    0.098098,    0.099099,      0.1001,      0.1011,      0.1021,      0.1031,      0.1041,     0.10511,     0.10611,     0.10711,     0.10811,     0.10911,     0.11011,     0.11111,     0.11211,     0.11311,     0.11411,     0.11512,     0.11612,     0.11712,     0.11812,     0.11912,\n",
       "           0.12012,     0.12112,     0.12212,     0.12312,     0.12412,     0.12513,     0.12613,     0.12713,     0.12813,     0.12913,     0.13013,     0.13113,     0.13213,     0.13313,     0.13413,     0.13514,     0.13614,     0.13714,     0.13814,     0.13914,     0.14014,     0.14114,     0.14214,     0.14314,\n",
       "           0.14414,     0.14515,     0.14615,     0.14715,     0.14815,     0.14915,     0.15015,     0.15115,     0.15215,     0.15315,     0.15415,     0.15516,     0.15616,     0.15716,     0.15816,     0.15916,     0.16016,     0.16116,     0.16216,     0.16316,     0.16416,     0.16517,     0.16617,     0.16717,\n",
       "           0.16817,     0.16917,     0.17017,     0.17117,     0.17217,     0.17317,     0.17417,     0.17518,     0.17618,     0.17718,     0.17818,     0.17918,     0.18018,     0.18118,     0.18218,     0.18318,     0.18418,     0.18519,     0.18619,     0.18719,     0.18819,     0.18919,     0.19019,     0.19119,\n",
       "           0.19219,     0.19319,     0.19419,      0.1952,      0.1962,      0.1972,      0.1982,      0.1992,      0.2002,      0.2012,      0.2022,      0.2032,      0.2042,     0.20521,     0.20621,     0.20721,     0.20821,     0.20921,     0.21021,     0.21121,     0.21221,     0.21321,     0.21421,     0.21522,\n",
       "           0.21622,     0.21722,     0.21822,     0.21922,     0.22022,     0.22122,     0.22222,     0.22322,     0.22422,     0.22523,     0.22623,     0.22723,     0.22823,     0.22923,     0.23023,     0.23123,     0.23223,     0.23323,     0.23423,     0.23524,     0.23624,     0.23724,     0.23824,     0.23924,\n",
       "           0.24024,     0.24124,     0.24224,     0.24324,     0.24424,     0.24525,     0.24625,     0.24725,     0.24825,     0.24925,     0.25025,     0.25125,     0.25225,     0.25325,     0.25425,     0.25526,     0.25626,     0.25726,     0.25826,     0.25926,     0.26026,     0.26126,     0.26226,     0.26326,\n",
       "           0.26426,     0.26527,     0.26627,     0.26727,     0.26827,     0.26927,     0.27027,     0.27127,     0.27227,     0.27327,     0.27427,     0.27528,     0.27628,     0.27728,     0.27828,     0.27928,     0.28028,     0.28128,     0.28228,     0.28328,     0.28428,     0.28529,     0.28629,     0.28729,\n",
       "           0.28829,     0.28929,     0.29029,     0.29129,     0.29229,     0.29329,     0.29429,      0.2953,      0.2963,      0.2973,      0.2983,      0.2993,      0.3003,      0.3013,      0.3023,      0.3033,      0.3043,     0.30531,     0.30631,     0.30731,     0.30831,     0.30931,     0.31031,     0.31131,\n",
       "           0.31231,     0.31331,     0.31431,     0.31532,     0.31632,     0.31732,     0.31832,     0.31932,     0.32032,     0.32132,     0.32232,     0.32332,     0.32432,     0.32533,     0.32633,     0.32733,     0.32833,     0.32933,     0.33033,     0.33133,     0.33233,     0.33333,     0.33433,     0.33534,\n",
       "           0.33634,     0.33734,     0.33834,     0.33934,     0.34034,     0.34134,     0.34234,     0.34334,     0.34434,     0.34535,     0.34635,     0.34735,     0.34835,     0.34935,     0.35035,     0.35135,     0.35235,     0.35335,     0.35435,     0.35536,     0.35636,     0.35736,     0.35836,     0.35936,\n",
       "           0.36036,     0.36136,     0.36236,     0.36336,     0.36436,     0.36537,     0.36637,     0.36737,     0.36837,     0.36937,     0.37037,     0.37137,     0.37237,     0.37337,     0.37437,     0.37538,     0.37638,     0.37738,     0.37838,     0.37938,     0.38038,     0.38138,     0.38238,     0.38338,\n",
       "           0.38438,     0.38539,     0.38639,     0.38739,     0.38839,     0.38939,     0.39039,     0.39139,     0.39239,     0.39339,     0.39439,      0.3954,      0.3964,      0.3974,      0.3984,      0.3994,      0.4004,      0.4014,      0.4024,      0.4034,      0.4044,     0.40541,     0.40641,     0.40741,\n",
       "           0.40841,     0.40941,     0.41041,     0.41141,     0.41241,     0.41341,     0.41441,     0.41542,     0.41642,     0.41742,     0.41842,     0.41942,     0.42042,     0.42142,     0.42242,     0.42342,     0.42442,     0.42543,     0.42643,     0.42743,     0.42843,     0.42943,     0.43043,     0.43143,\n",
       "           0.43243,     0.43343,     0.43443,     0.43544,     0.43644,     0.43744,     0.43844,     0.43944,     0.44044,     0.44144,     0.44244,     0.44344,     0.44444,     0.44545,     0.44645,     0.44745,     0.44845,     0.44945,     0.45045,     0.45145,     0.45245,     0.45345,     0.45445,     0.45546,\n",
       "           0.45646,     0.45746,     0.45846,     0.45946,     0.46046,     0.46146,     0.46246,     0.46346,     0.46446,     0.46547,     0.46647,     0.46747,     0.46847,     0.46947,     0.47047,     0.47147,     0.47247,     0.47347,     0.47447,     0.47548,     0.47648,     0.47748,     0.47848,     0.47948,\n",
       "           0.48048,     0.48148,     0.48248,     0.48348,     0.48448,     0.48549,     0.48649,     0.48749,     0.48849,     0.48949,     0.49049,     0.49149,     0.49249,     0.49349,     0.49449,      0.4955,      0.4965,      0.4975,      0.4985,      0.4995,      0.5005,      0.5015,      0.5025,      0.5035,\n",
       "            0.5045,     0.50551,     0.50651,     0.50751,     0.50851,     0.50951,     0.51051,     0.51151,     0.51251,     0.51351,     0.51451,     0.51552,     0.51652,     0.51752,     0.51852,     0.51952,     0.52052,     0.52152,     0.52252,     0.52352,     0.52452,     0.52553,     0.52653,     0.52753,\n",
       "           0.52853,     0.52953,     0.53053,     0.53153,     0.53253,     0.53353,     0.53453,     0.53554,     0.53654,     0.53754,     0.53854,     0.53954,     0.54054,     0.54154,     0.54254,     0.54354,     0.54454,     0.54555,     0.54655,     0.54755,     0.54855,     0.54955,     0.55055,     0.55155,\n",
       "           0.55255,     0.55355,     0.55455,     0.55556,     0.55656,     0.55756,     0.55856,     0.55956,     0.56056,     0.56156,     0.56256,     0.56356,     0.56456,     0.56557,     0.56657,     0.56757,     0.56857,     0.56957,     0.57057,     0.57157,     0.57257,     0.57357,     0.57457,     0.57558,\n",
       "           0.57658,     0.57758,     0.57858,     0.57958,     0.58058,     0.58158,     0.58258,     0.58358,     0.58458,     0.58559,     0.58659,     0.58759,     0.58859,     0.58959,     0.59059,     0.59159,     0.59259,     0.59359,     0.59459,      0.5956,      0.5966,      0.5976,      0.5986,      0.5996,\n",
       "            0.6006,      0.6016,      0.6026,      0.6036,      0.6046,     0.60561,     0.60661,     0.60761,     0.60861,     0.60961,     0.61061,     0.61161,     0.61261,     0.61361,     0.61461,     0.61562,     0.61662,     0.61762,     0.61862,     0.61962,     0.62062,     0.62162,     0.62262,     0.62362,\n",
       "           0.62462,     0.62563,     0.62663,     0.62763,     0.62863,     0.62963,     0.63063,     0.63163,     0.63263,     0.63363,     0.63463,     0.63564,     0.63664,     0.63764,     0.63864,     0.63964,     0.64064,     0.64164,     0.64264,     0.64364,     0.64464,     0.64565,     0.64665,     0.64765,\n",
       "           0.64865,     0.64965,     0.65065,     0.65165,     0.65265,     0.65365,     0.65465,     0.65566,     0.65666,     0.65766,     0.65866,     0.65966,     0.66066,     0.66166,     0.66266,     0.66366,     0.66466,     0.66567,     0.66667,     0.66767,     0.66867,     0.66967,     0.67067,     0.67167,\n",
       "           0.67267,     0.67367,     0.67467,     0.67568,     0.67668,     0.67768,     0.67868,     0.67968,     0.68068,     0.68168,     0.68268,     0.68368,     0.68468,     0.68569,     0.68669,     0.68769,     0.68869,     0.68969,     0.69069,     0.69169,     0.69269,     0.69369,     0.69469,      0.6957,\n",
       "            0.6967,      0.6977,      0.6987,      0.6997,      0.7007,      0.7017,      0.7027,      0.7037,      0.7047,     0.70571,     0.70671,     0.70771,     0.70871,     0.70971,     0.71071,     0.71171,     0.71271,     0.71371,     0.71471,     0.71572,     0.71672,     0.71772,     0.71872,     0.71972,\n",
       "           0.72072,     0.72172,     0.72272,     0.72372,     0.72472,     0.72573,     0.72673,     0.72773,     0.72873,     0.72973,     0.73073,     0.73173,     0.73273,     0.73373,     0.73473,     0.73574,     0.73674,     0.73774,     0.73874,     0.73974,     0.74074,     0.74174,     0.74274,     0.74374,\n",
       "           0.74474,     0.74575,     0.74675,     0.74775,     0.74875,     0.74975,     0.75075,     0.75175,     0.75275,     0.75375,     0.75475,     0.75576,     0.75676,     0.75776,     0.75876,     0.75976,     0.76076,     0.76176,     0.76276,     0.76376,     0.76476,     0.76577,     0.76677,     0.76777,\n",
       "           0.76877,     0.76977,     0.77077,     0.77177,     0.77277,     0.77377,     0.77477,     0.77578,     0.77678,     0.77778,     0.77878,     0.77978,     0.78078,     0.78178,     0.78278,     0.78378,     0.78478,     0.78579,     0.78679,     0.78779,     0.78879,     0.78979,     0.79079,     0.79179,\n",
       "           0.79279,     0.79379,     0.79479,      0.7958,      0.7968,      0.7978,      0.7988,      0.7998,      0.8008,      0.8018,      0.8028,      0.8038,      0.8048,     0.80581,     0.80681,     0.80781,     0.80881,     0.80981,     0.81081,     0.81181,     0.81281,     0.81381,     0.81481,     0.81582,\n",
       "           0.81682,     0.81782,     0.81882,     0.81982,     0.82082,     0.82182,     0.82282,     0.82382,     0.82482,     0.82583,     0.82683,     0.82783,     0.82883,     0.82983,     0.83083,     0.83183,     0.83283,     0.83383,     0.83483,     0.83584,     0.83684,     0.83784,     0.83884,     0.83984,\n",
       "           0.84084,     0.84184,     0.84284,     0.84384,     0.84484,     0.84585,     0.84685,     0.84785,     0.84885,     0.84985,     0.85085,     0.85185,     0.85285,     0.85385,     0.85485,     0.85586,     0.85686,     0.85786,     0.85886,     0.85986,     0.86086,     0.86186,     0.86286,     0.86386,\n",
       "           0.86486,     0.86587,     0.86687,     0.86787,     0.86887,     0.86987,     0.87087,     0.87187,     0.87287,     0.87387,     0.87487,     0.87588,     0.87688,     0.87788,     0.87888,     0.87988,     0.88088,     0.88188,     0.88288,     0.88388,     0.88488,     0.88589,     0.88689,     0.88789,\n",
       "           0.88889,     0.88989,     0.89089,     0.89189,     0.89289,     0.89389,     0.89489,      0.8959,      0.8969,      0.8979,      0.8989,      0.8999,      0.9009,      0.9019,      0.9029,      0.9039,      0.9049,     0.90591,     0.90691,     0.90791,     0.90891,     0.90991,     0.91091,     0.91191,\n",
       "           0.91291,     0.91391,     0.91491,     0.91592,     0.91692,     0.91792,     0.91892,     0.91992,     0.92092,     0.92192,     0.92292,     0.92392,     0.92492,     0.92593,     0.92693,     0.92793,     0.92893,     0.92993,     0.93093,     0.93193,     0.93293,     0.93393,     0.93493,     0.93594,\n",
       "           0.93694,     0.93794,     0.93894,     0.93994,     0.94094,     0.94194,     0.94294,     0.94394,     0.94494,     0.94595,     0.94695,     0.94795,     0.94895,     0.94995,     0.95095,     0.95195,     0.95295,     0.95395,     0.95495,     0.95596,     0.95696,     0.95796,     0.95896,     0.95996,\n",
       "           0.96096,     0.96196,     0.96296,     0.96396,     0.96496,     0.96597,     0.96697,     0.96797,     0.96897,     0.96997,     0.97097,     0.97197,     0.97297,     0.97397,     0.97497,     0.97598,     0.97698,     0.97798,     0.97898,     0.97998,     0.98098,     0.98198,     0.98298,     0.98398,\n",
       "           0.98498,     0.98599,     0.98699,     0.98799,     0.98899,     0.98999,     0.99099,     0.99199,     0.99299,     0.99399,     0.99499,       0.996,       0.997,       0.998,       0.999,           1]), array([[    0.27175,     0.27175,      0.3626,     0.41343,     0.45057,     0.47754,     0.49891,     0.51849,     0.53139,     0.54326,     0.55704,      0.5706,     0.58018,     0.58601,     0.59394,     0.59793,      0.6049,     0.61535,     0.62327,       0.629,     0.63367,     0.63922,     0.64457,\n",
       "             0.6509,     0.66048,     0.66377,     0.66724,      0.6753,     0.67837,     0.68214,     0.68864,     0.69416,     0.69674,     0.70199,     0.70346,     0.70573,     0.70762,      0.7108,       0.713,      0.7177,      0.7202,     0.72166,     0.72224,     0.72331,     0.72725,     0.72955,\n",
       "            0.73168,     0.73358,     0.73455,     0.73738,     0.73778,     0.73819,     0.74001,     0.74082,     0.74435,     0.74524,     0.74601,     0.74658,      0.7496,     0.75176,     0.75247,     0.75363,     0.75428,     0.75471,     0.75632,     0.75677,     0.75698,      0.7572,     0.75741,\n",
       "            0.75885,     0.75908,     0.75985,     0.75958,     0.76142,     0.76179,     0.76215,      0.7637,     0.76618,     0.76769,     0.76805,      0.7684,     0.76946,     0.77007,       0.771,     0.77086,     0.77132,     0.77212,     0.77286,     0.77577,     0.77671,     0.77769,     0.77931,\n",
       "             0.7799,     0.78078,     0.78115,     0.78186,      0.7829,     0.78369,     0.78426,     0.78517,     0.78558,     0.78597,     0.78655,     0.78705,     0.78685,     0.78834,     0.78891,      0.7892,     0.78949,     0.79001,     0.79265,     0.79341,      0.7939,     0.79453,     0.79515,\n",
       "            0.79551,     0.79579,     0.79606,     0.79638,     0.79698,     0.79745,     0.79779,     0.79814,     0.79974,     0.80105,     0.80196,     0.80298,     0.80395,     0.80545,      0.8059,     0.80666,     0.80801,     0.80822,     0.80815,     0.80807,     0.80819,     0.80863,     0.80926,\n",
       "            0.81058,     0.81127,     0.81211,     0.81229,     0.81248,     0.81267,     0.81285,     0.81304,     0.81349,      0.8153,     0.81662,     0.81747,     0.81999,     0.82028,     0.82032,     0.82242,     0.82317,     0.82531,     0.82627,     0.82695,     0.82764,     0.82837,     0.83135,\n",
       "            0.83251,     0.83274,     0.83308,     0.83342,     0.83468,     0.83501,     0.83534,     0.83567,     0.83675,     0.83667,     0.83675,     0.83774,     0.83864,     0.83963,     0.84037,     0.84106,     0.84331,     0.84349,     0.84366,     0.84384,     0.84401,     0.84419,      0.8444,\n",
       "            0.84478,     0.84517,      0.8454,     0.84527,     0.84588,     0.84659,     0.84863,     0.84884,     0.84904,     0.84925,     0.84945,     0.84966,     0.85002,     0.85046,     0.85101,     0.85516,     0.85596,     0.85662,     0.85787,     0.85823,      0.8586,     0.85934,     0.86111,\n",
       "             0.8615,      0.8619,     0.86354,     0.86414,      0.8646,     0.86486,     0.86512,     0.86538,     0.86564,     0.86683,     0.86674,     0.86666,     0.86662,     0.86658,     0.86654,      0.8665,      0.8674,     0.86765,     0.86762,      0.8676,     0.86758,     0.86755,     0.86753,\n",
       "             0.8675,     0.86747,     0.86743,     0.86739,     0.86734,     0.86751,     0.86914,     0.86978,     0.86992,     0.87006,      0.8702,     0.87034,     0.87048,     0.87062,     0.87076,     0.87206,     0.87194,     0.87245,     0.87319,      0.8736,     0.87401,     0.87424,     0.87426,\n",
       "             0.8745,     0.87474,     0.87497,     0.87521,     0.87644,     0.87657,     0.87669,     0.87682,     0.87694,     0.87707,     0.87719,     0.87732,     0.87744,     0.87757,     0.87753,     0.87754,     0.87804,     0.87854,     0.87884,     0.87906,     0.87929,     0.87952,     0.87975,\n",
       "            0.88001,     0.88033,     0.88064,     0.88096,     0.88195,     0.88231,     0.88226,     0.88221,     0.88242,     0.88281,      0.8832,      0.8834,     0.88333,     0.88326,     0.88447,     0.88438,     0.88422,     0.88427,     0.88438,     0.88449,      0.8846,     0.88471,     0.88481,\n",
       "            0.88492,     0.88503,     0.88514,     0.88525,     0.88536,     0.88569,     0.88642,     0.88719,     0.88773,      0.8877,     0.88807,     0.88844,     0.88881,      0.8893,     0.88982,     0.89014,     0.89011,     0.89007,     0.89004,        0.89,     0.89254,     0.89248,     0.89242,\n",
       "            0.89252,     0.89273,     0.89295,     0.89317,     0.89339,     0.89361,     0.89365,     0.89362,     0.89358,     0.89355,     0.89361,     0.89391,      0.8942,     0.89449,     0.89479,     0.89498,     0.89517,     0.89536,     0.89555,     0.89574,     0.89593,     0.89612,     0.89626,\n",
       "             0.8964,     0.89655,     0.89669,     0.89683,     0.89698,     0.89712,     0.89726,      0.8975,     0.89865,     0.89872,     0.89921,     0.89969,     0.90075,     0.90143,     0.90181,      0.9022,     0.90377,      0.9037,     0.90556,     0.90651,     0.90687,     0.90724,      0.9076,\n",
       "            0.90826,     0.90895,     0.90973,     0.91043,     0.91093,     0.91143,     0.91176,     0.91196,     0.91216,     0.91237,     0.91257,     0.91278,     0.91285,      0.9128,     0.91275,     0.91295,     0.91364,     0.91437,     0.91517,     0.91534,     0.91522,     0.91618,     0.91652,\n",
       "            0.91648,     0.91645,     0.91641,     0.91634,     0.91628,     0.91623,     0.91619,     0.91648,     0.91719,     0.91746,     0.91738,     0.91734,      0.9173,     0.91789,      0.9186,      0.9194,     0.92005,     0.91999,      0.9215,     0.92221,     0.92272,     0.92268,     0.92264,\n",
       "            0.92248,     0.92245,     0.92242,     0.92238,     0.92337,       0.924,      0.9243,     0.92461,     0.92491,     0.92525,     0.92598,     0.92802,     0.92799,     0.92796,     0.92794,     0.92825,      0.9294,     0.92966,     0.92991,     0.93017,     0.93042,     0.93068,     0.93076,\n",
       "            0.93075,     0.93074,     0.93072,     0.93071,      0.9307,     0.93069,     0.93068,     0.93066,     0.93082,     0.93101,     0.93119,     0.93137,     0.93156,     0.93174,     0.93193,     0.93219,     0.93353,     0.93353,     0.93438,     0.93484,     0.93494,     0.93531,     0.93569,\n",
       "            0.93606,     0.93603,     0.93601,     0.93599,     0.93597,     0.93594,     0.93691,     0.93753,     0.93772,      0.9379,     0.93809,     0.93828,     0.93847,     0.93866,     0.93885,     0.93886,     0.93885,     0.93883,     0.93882,      0.9388,     0.93879,     0.93877,     0.93875,\n",
       "            0.93873,      0.9387,     0.94015,     0.94012,     0.94009,     0.94019,     0.94134,     0.94147,     0.94223,     0.94274,     0.94264,     0.94269,       0.943,     0.94331,     0.94362,     0.94393,     0.94407,     0.94402,     0.94398,     0.94395,     0.94392,     0.94382,     0.94381,\n",
       "             0.9438,     0.94379,     0.94378,     0.94377,     0.94376,     0.94376,     0.94375,     0.94374,     0.94373,     0.94372,      0.9437,     0.94369,     0.94367,     0.94365,     0.94364,     0.94356,     0.94382,     0.94408,     0.94434,      0.9446,     0.94486,     0.94661,     0.94714,\n",
       "            0.94766,     0.94819,     0.94871,     0.94924,     0.94951,      0.9495,     0.94949,     0.94948,     0.94947,     0.94946,     0.94944,     0.94943,     0.94941,     0.94936,     0.94932,     0.94928,     0.94916,     0.94913,     0.94911,     0.94932,     0.94964,     0.94996,     0.95028,\n",
       "             0.9506,     0.95059,     0.95055,     0.95053,      0.9505,     0.95205,     0.95203,       0.952,      0.9519,     0.95189,     0.95189,     0.95188,     0.95187,     0.95186,     0.95185,     0.95185,     0.95184,     0.95183,     0.95177,     0.95172,     0.95167,      0.9516,     0.95296,\n",
       "            0.95476,     0.95475,     0.95474,     0.95473,     0.95472,     0.95471,     0.95471,     0.95508,     0.95544,     0.95581,     0.95617,     0.95629,     0.95628,     0.95626,     0.95625,     0.95623,     0.95617,      0.9574,     0.95767,     0.95763,     0.95761,     0.95759,     0.95757,\n",
       "            0.95754,     0.95752,     0.95749,     0.95737,     0.95826,     0.95919,     0.95956,     0.95994,     0.96031,     0.96061,      0.9606,     0.96058,     0.96056,     0.96054,     0.96053,     0.96051,     0.96049,     0.96045,     0.96034,     0.96032,      0.9603,     0.96028,     0.96027,\n",
       "            0.96025,     0.96024,     0.96023,     0.96022,     0.96021,     0.96016,     0.96129,     0.96176,     0.96169,     0.96162,     0.96149,     0.96145,     0.96142,     0.96202,     0.96307,     0.96294,      0.9629,     0.96287,     0.96283,     0.96327,      0.9637,     0.96414,     0.96453,\n",
       "            0.96553,     0.96639,     0.96671,     0.96703,     0.96736,     0.96768,     0.96784,     0.96974,     0.97045,     0.97116,     0.97125,     0.97123,      0.9712,     0.97117,     0.97114,     0.97111,     0.97108,       0.971,     0.97096,     0.97085,     0.97084,     0.97082,      0.9708,\n",
       "            0.97078,     0.97077,     0.97075,     0.97073,     0.97071,     0.97068,     0.97063,     0.97061,     0.97059,     0.97056,     0.97051,     0.97041,     0.97039,     0.97032,      0.9703,     0.97028,     0.97026,     0.97024,     0.97023,     0.97021,     0.97014,     0.97009,     0.97005,\n",
       "            0.97002,        0.97,     0.96998,     0.96991,     0.97048,     0.97309,     0.97344,     0.97335,     0.97333,     0.97331,      0.9733,     0.97328,     0.97325,     0.97322,     0.97321,     0.97319,     0.97312,     0.97327,     0.97455,     0.97482,     0.97474,     0.97455,     0.97452,\n",
       "            0.97447,     0.97443,     0.97516,     0.97629,     0.97624,     0.97622,     0.97621,      0.9762,     0.97812,      0.9781,     0.97808,     0.97806,     0.97804,     0.97801,     0.97794,     0.97987,     0.97985,     0.97983,      0.9798,     0.97973,     0.97971,     0.97968,     0.97948,\n",
       "            0.97937,     0.97934,     0.97914,     0.97911,     0.98113,      0.9811,     0.98312,     0.98311,      0.9831,     0.98517,     0.98514,       0.985,     0.98491,      0.9849,     0.98489,     0.98487,     0.98485,     0.98483,     0.98471,      0.9847,     0.98468,     0.98886,     0.98895,\n",
       "            0.98894,     0.98893,     0.98892,     0.99105,     0.99104,     0.99101,     0.99097,     0.99095,     0.99088,      0.9908,     0.99078,     0.99076,     0.99075,     0.99069,     0.99068,     0.99062,      0.9912,      0.9928,     0.99289,     0.99288,     0.99285,     0.99279,     0.99278,\n",
       "            0.99277,     0.99273,     0.99265,     0.99263,      0.9926,     0.99255,      0.9925,     0.99248,     0.99246,     0.99246,     0.99245,     0.99245,     0.99244,     0.99238,     0.99237,     0.99236,     0.99235,     0.99233,     0.99228,     0.99228,     0.99227,     0.99217,     0.99215,\n",
       "            0.99208,     0.99203,     0.99201,     0.99188,     0.99185,     0.99184,     0.99184,     0.99183,     0.99181,     0.99173,     0.99169,      0.9916,     0.99158,     0.99157,     0.99156,     0.99152,     0.99145,     0.99143,     0.99138,     0.99136,     0.99134,     0.99128,     0.99126,\n",
       "            0.99122,     0.99117,     0.99116,     0.99112,      0.9911,     0.99102,     0.99097,     0.99392,     0.99389,     0.99387,     0.99384,      0.9938,     0.99379,      0.9937,     0.99679,     0.99679,     0.99677,     0.99676,     0.99676,     0.99676,     0.99676,     0.99674,     0.99673,\n",
       "             0.9967,     0.99669,     0.99668,     0.99665,     0.99665,     0.99663,     0.99663,      0.9966,     0.99657,     0.99655,     0.99654,      0.9965,     0.99649,     0.99648,     0.99647,     0.99646,     0.99645,     0.99644,     0.99641,     0.99641,      0.9964,     0.99637,     0.99636,\n",
       "            0.99636,     0.99635,     0.99634,     0.99634,     0.99631,           1,           1,           1,           1,           1,           1,           1,           1,           1,           1,           1,           1,           1,           1,           1,           1,           1,           1,\n",
       "                  1,           1,           1,           1,           1,           1,           1,           1,           1,           1,           1,           1,           1,           1,           1,           1,           1,           1,           1,           1,           1,           1,           1,\n",
       "                  1,           1,           1,           1,           1,           1,           1,           1,           1,           1,           1,           1,           1,           1,           1,           1,           1,           1,           1,           1,           1,           1,           1,\n",
       "                  1,           1,           1,           1,           1,           1,           1,           1,           1,           1,           1,           1,           1,           1,           1,           1,           1,           1,           1,           1,           1,           1,           1,\n",
       "                  1,           1,           1,           1,           1,           1,           1,           1,           1,           1,           1,           1,           1,           1,           1,           1,           1,           1,           1,           1,           1,           1,           1,\n",
       "                  1,           1,           1,           1,           1,           1,           1,           1,           1,           1,           1]]), 'Confidence', 'Precision'], [array([          0,    0.001001,    0.002002,    0.003003,    0.004004,    0.005005,    0.006006,    0.007007,    0.008008,    0.009009,     0.01001,    0.011011,    0.012012,    0.013013,    0.014014,    0.015015,    0.016016,    0.017017,    0.018018,    0.019019,     0.02002,    0.021021,    0.022022,    0.023023,\n",
       "          0.024024,    0.025025,    0.026026,    0.027027,    0.028028,    0.029029,     0.03003,    0.031031,    0.032032,    0.033033,    0.034034,    0.035035,    0.036036,    0.037037,    0.038038,    0.039039,     0.04004,    0.041041,    0.042042,    0.043043,    0.044044,    0.045045,    0.046046,    0.047047,\n",
       "          0.048048,    0.049049,     0.05005,    0.051051,    0.052052,    0.053053,    0.054054,    0.055055,    0.056056,    0.057057,    0.058058,    0.059059,     0.06006,    0.061061,    0.062062,    0.063063,    0.064064,    0.065065,    0.066066,    0.067067,    0.068068,    0.069069,     0.07007,    0.071071,\n",
       "          0.072072,    0.073073,    0.074074,    0.075075,    0.076076,    0.077077,    0.078078,    0.079079,     0.08008,    0.081081,    0.082082,    0.083083,    0.084084,    0.085085,    0.086086,    0.087087,    0.088088,    0.089089,     0.09009,    0.091091,    0.092092,    0.093093,    0.094094,    0.095095,\n",
       "          0.096096,    0.097097,    0.098098,    0.099099,      0.1001,      0.1011,      0.1021,      0.1031,      0.1041,     0.10511,     0.10611,     0.10711,     0.10811,     0.10911,     0.11011,     0.11111,     0.11211,     0.11311,     0.11411,     0.11512,     0.11612,     0.11712,     0.11812,     0.11912,\n",
       "           0.12012,     0.12112,     0.12212,     0.12312,     0.12412,     0.12513,     0.12613,     0.12713,     0.12813,     0.12913,     0.13013,     0.13113,     0.13213,     0.13313,     0.13413,     0.13514,     0.13614,     0.13714,     0.13814,     0.13914,     0.14014,     0.14114,     0.14214,     0.14314,\n",
       "           0.14414,     0.14515,     0.14615,     0.14715,     0.14815,     0.14915,     0.15015,     0.15115,     0.15215,     0.15315,     0.15415,     0.15516,     0.15616,     0.15716,     0.15816,     0.15916,     0.16016,     0.16116,     0.16216,     0.16316,     0.16416,     0.16517,     0.16617,     0.16717,\n",
       "           0.16817,     0.16917,     0.17017,     0.17117,     0.17217,     0.17317,     0.17417,     0.17518,     0.17618,     0.17718,     0.17818,     0.17918,     0.18018,     0.18118,     0.18218,     0.18318,     0.18418,     0.18519,     0.18619,     0.18719,     0.18819,     0.18919,     0.19019,     0.19119,\n",
       "           0.19219,     0.19319,     0.19419,      0.1952,      0.1962,      0.1972,      0.1982,      0.1992,      0.2002,      0.2012,      0.2022,      0.2032,      0.2042,     0.20521,     0.20621,     0.20721,     0.20821,     0.20921,     0.21021,     0.21121,     0.21221,     0.21321,     0.21421,     0.21522,\n",
       "           0.21622,     0.21722,     0.21822,     0.21922,     0.22022,     0.22122,     0.22222,     0.22322,     0.22422,     0.22523,     0.22623,     0.22723,     0.22823,     0.22923,     0.23023,     0.23123,     0.23223,     0.23323,     0.23423,     0.23524,     0.23624,     0.23724,     0.23824,     0.23924,\n",
       "           0.24024,     0.24124,     0.24224,     0.24324,     0.24424,     0.24525,     0.24625,     0.24725,     0.24825,     0.24925,     0.25025,     0.25125,     0.25225,     0.25325,     0.25425,     0.25526,     0.25626,     0.25726,     0.25826,     0.25926,     0.26026,     0.26126,     0.26226,     0.26326,\n",
       "           0.26426,     0.26527,     0.26627,     0.26727,     0.26827,     0.26927,     0.27027,     0.27127,     0.27227,     0.27327,     0.27427,     0.27528,     0.27628,     0.27728,     0.27828,     0.27928,     0.28028,     0.28128,     0.28228,     0.28328,     0.28428,     0.28529,     0.28629,     0.28729,\n",
       "           0.28829,     0.28929,     0.29029,     0.29129,     0.29229,     0.29329,     0.29429,      0.2953,      0.2963,      0.2973,      0.2983,      0.2993,      0.3003,      0.3013,      0.3023,      0.3033,      0.3043,     0.30531,     0.30631,     0.30731,     0.30831,     0.30931,     0.31031,     0.31131,\n",
       "           0.31231,     0.31331,     0.31431,     0.31532,     0.31632,     0.31732,     0.31832,     0.31932,     0.32032,     0.32132,     0.32232,     0.32332,     0.32432,     0.32533,     0.32633,     0.32733,     0.32833,     0.32933,     0.33033,     0.33133,     0.33233,     0.33333,     0.33433,     0.33534,\n",
       "           0.33634,     0.33734,     0.33834,     0.33934,     0.34034,     0.34134,     0.34234,     0.34334,     0.34434,     0.34535,     0.34635,     0.34735,     0.34835,     0.34935,     0.35035,     0.35135,     0.35235,     0.35335,     0.35435,     0.35536,     0.35636,     0.35736,     0.35836,     0.35936,\n",
       "           0.36036,     0.36136,     0.36236,     0.36336,     0.36436,     0.36537,     0.36637,     0.36737,     0.36837,     0.36937,     0.37037,     0.37137,     0.37237,     0.37337,     0.37437,     0.37538,     0.37638,     0.37738,     0.37838,     0.37938,     0.38038,     0.38138,     0.38238,     0.38338,\n",
       "           0.38438,     0.38539,     0.38639,     0.38739,     0.38839,     0.38939,     0.39039,     0.39139,     0.39239,     0.39339,     0.39439,      0.3954,      0.3964,      0.3974,      0.3984,      0.3994,      0.4004,      0.4014,      0.4024,      0.4034,      0.4044,     0.40541,     0.40641,     0.40741,\n",
       "           0.40841,     0.40941,     0.41041,     0.41141,     0.41241,     0.41341,     0.41441,     0.41542,     0.41642,     0.41742,     0.41842,     0.41942,     0.42042,     0.42142,     0.42242,     0.42342,     0.42442,     0.42543,     0.42643,     0.42743,     0.42843,     0.42943,     0.43043,     0.43143,\n",
       "           0.43243,     0.43343,     0.43443,     0.43544,     0.43644,     0.43744,     0.43844,     0.43944,     0.44044,     0.44144,     0.44244,     0.44344,     0.44444,     0.44545,     0.44645,     0.44745,     0.44845,     0.44945,     0.45045,     0.45145,     0.45245,     0.45345,     0.45445,     0.45546,\n",
       "           0.45646,     0.45746,     0.45846,     0.45946,     0.46046,     0.46146,     0.46246,     0.46346,     0.46446,     0.46547,     0.46647,     0.46747,     0.46847,     0.46947,     0.47047,     0.47147,     0.47247,     0.47347,     0.47447,     0.47548,     0.47648,     0.47748,     0.47848,     0.47948,\n",
       "           0.48048,     0.48148,     0.48248,     0.48348,     0.48448,     0.48549,     0.48649,     0.48749,     0.48849,     0.48949,     0.49049,     0.49149,     0.49249,     0.49349,     0.49449,      0.4955,      0.4965,      0.4975,      0.4985,      0.4995,      0.5005,      0.5015,      0.5025,      0.5035,\n",
       "            0.5045,     0.50551,     0.50651,     0.50751,     0.50851,     0.50951,     0.51051,     0.51151,     0.51251,     0.51351,     0.51451,     0.51552,     0.51652,     0.51752,     0.51852,     0.51952,     0.52052,     0.52152,     0.52252,     0.52352,     0.52452,     0.52553,     0.52653,     0.52753,\n",
       "           0.52853,     0.52953,     0.53053,     0.53153,     0.53253,     0.53353,     0.53453,     0.53554,     0.53654,     0.53754,     0.53854,     0.53954,     0.54054,     0.54154,     0.54254,     0.54354,     0.54454,     0.54555,     0.54655,     0.54755,     0.54855,     0.54955,     0.55055,     0.55155,\n",
       "           0.55255,     0.55355,     0.55455,     0.55556,     0.55656,     0.55756,     0.55856,     0.55956,     0.56056,     0.56156,     0.56256,     0.56356,     0.56456,     0.56557,     0.56657,     0.56757,     0.56857,     0.56957,     0.57057,     0.57157,     0.57257,     0.57357,     0.57457,     0.57558,\n",
       "           0.57658,     0.57758,     0.57858,     0.57958,     0.58058,     0.58158,     0.58258,     0.58358,     0.58458,     0.58559,     0.58659,     0.58759,     0.58859,     0.58959,     0.59059,     0.59159,     0.59259,     0.59359,     0.59459,      0.5956,      0.5966,      0.5976,      0.5986,      0.5996,\n",
       "            0.6006,      0.6016,      0.6026,      0.6036,      0.6046,     0.60561,     0.60661,     0.60761,     0.60861,     0.60961,     0.61061,     0.61161,     0.61261,     0.61361,     0.61461,     0.61562,     0.61662,     0.61762,     0.61862,     0.61962,     0.62062,     0.62162,     0.62262,     0.62362,\n",
       "           0.62462,     0.62563,     0.62663,     0.62763,     0.62863,     0.62963,     0.63063,     0.63163,     0.63263,     0.63363,     0.63463,     0.63564,     0.63664,     0.63764,     0.63864,     0.63964,     0.64064,     0.64164,     0.64264,     0.64364,     0.64464,     0.64565,     0.64665,     0.64765,\n",
       "           0.64865,     0.64965,     0.65065,     0.65165,     0.65265,     0.65365,     0.65465,     0.65566,     0.65666,     0.65766,     0.65866,     0.65966,     0.66066,     0.66166,     0.66266,     0.66366,     0.66466,     0.66567,     0.66667,     0.66767,     0.66867,     0.66967,     0.67067,     0.67167,\n",
       "           0.67267,     0.67367,     0.67467,     0.67568,     0.67668,     0.67768,     0.67868,     0.67968,     0.68068,     0.68168,     0.68268,     0.68368,     0.68468,     0.68569,     0.68669,     0.68769,     0.68869,     0.68969,     0.69069,     0.69169,     0.69269,     0.69369,     0.69469,      0.6957,\n",
       "            0.6967,      0.6977,      0.6987,      0.6997,      0.7007,      0.7017,      0.7027,      0.7037,      0.7047,     0.70571,     0.70671,     0.70771,     0.70871,     0.70971,     0.71071,     0.71171,     0.71271,     0.71371,     0.71471,     0.71572,     0.71672,     0.71772,     0.71872,     0.71972,\n",
       "           0.72072,     0.72172,     0.72272,     0.72372,     0.72472,     0.72573,     0.72673,     0.72773,     0.72873,     0.72973,     0.73073,     0.73173,     0.73273,     0.73373,     0.73473,     0.73574,     0.73674,     0.73774,     0.73874,     0.73974,     0.74074,     0.74174,     0.74274,     0.74374,\n",
       "           0.74474,     0.74575,     0.74675,     0.74775,     0.74875,     0.74975,     0.75075,     0.75175,     0.75275,     0.75375,     0.75475,     0.75576,     0.75676,     0.75776,     0.75876,     0.75976,     0.76076,     0.76176,     0.76276,     0.76376,     0.76476,     0.76577,     0.76677,     0.76777,\n",
       "           0.76877,     0.76977,     0.77077,     0.77177,     0.77277,     0.77377,     0.77477,     0.77578,     0.77678,     0.77778,     0.77878,     0.77978,     0.78078,     0.78178,     0.78278,     0.78378,     0.78478,     0.78579,     0.78679,     0.78779,     0.78879,     0.78979,     0.79079,     0.79179,\n",
       "           0.79279,     0.79379,     0.79479,      0.7958,      0.7968,      0.7978,      0.7988,      0.7998,      0.8008,      0.8018,      0.8028,      0.8038,      0.8048,     0.80581,     0.80681,     0.80781,     0.80881,     0.80981,     0.81081,     0.81181,     0.81281,     0.81381,     0.81481,     0.81582,\n",
       "           0.81682,     0.81782,     0.81882,     0.81982,     0.82082,     0.82182,     0.82282,     0.82382,     0.82482,     0.82583,     0.82683,     0.82783,     0.82883,     0.82983,     0.83083,     0.83183,     0.83283,     0.83383,     0.83483,     0.83584,     0.83684,     0.83784,     0.83884,     0.83984,\n",
       "           0.84084,     0.84184,     0.84284,     0.84384,     0.84484,     0.84585,     0.84685,     0.84785,     0.84885,     0.84985,     0.85085,     0.85185,     0.85285,     0.85385,     0.85485,     0.85586,     0.85686,     0.85786,     0.85886,     0.85986,     0.86086,     0.86186,     0.86286,     0.86386,\n",
       "           0.86486,     0.86587,     0.86687,     0.86787,     0.86887,     0.86987,     0.87087,     0.87187,     0.87287,     0.87387,     0.87487,     0.87588,     0.87688,     0.87788,     0.87888,     0.87988,     0.88088,     0.88188,     0.88288,     0.88388,     0.88488,     0.88589,     0.88689,     0.88789,\n",
       "           0.88889,     0.88989,     0.89089,     0.89189,     0.89289,     0.89389,     0.89489,      0.8959,      0.8969,      0.8979,      0.8989,      0.8999,      0.9009,      0.9019,      0.9029,      0.9039,      0.9049,     0.90591,     0.90691,     0.90791,     0.90891,     0.90991,     0.91091,     0.91191,\n",
       "           0.91291,     0.91391,     0.91491,     0.91592,     0.91692,     0.91792,     0.91892,     0.91992,     0.92092,     0.92192,     0.92292,     0.92392,     0.92492,     0.92593,     0.92693,     0.92793,     0.92893,     0.92993,     0.93093,     0.93193,     0.93293,     0.93393,     0.93493,     0.93594,\n",
       "           0.93694,     0.93794,     0.93894,     0.93994,     0.94094,     0.94194,     0.94294,     0.94394,     0.94494,     0.94595,     0.94695,     0.94795,     0.94895,     0.94995,     0.95095,     0.95195,     0.95295,     0.95395,     0.95495,     0.95596,     0.95696,     0.95796,     0.95896,     0.95996,\n",
       "           0.96096,     0.96196,     0.96296,     0.96396,     0.96496,     0.96597,     0.96697,     0.96797,     0.96897,     0.96997,     0.97097,     0.97197,     0.97297,     0.97397,     0.97497,     0.97598,     0.97698,     0.97798,     0.97898,     0.97998,     0.98098,     0.98198,     0.98298,     0.98398,\n",
       "           0.98498,     0.98599,     0.98699,     0.98799,     0.98899,     0.98999,     0.99099,     0.99199,     0.99299,     0.99399,     0.99499,       0.996,       0.997,       0.998,       0.999,           1]), array([[    0.97436,     0.97436,     0.97009,     0.96296,     0.96154,     0.96011,     0.95726,     0.95726,     0.95442,     0.95442,     0.95299,     0.95157,     0.95014,      0.9477,     0.94587,     0.94587,     0.94444,     0.94444,     0.94444,     0.94432,     0.94302,     0.94302,     0.94302,\n",
       "            0.94302,     0.94302,      0.9416,      0.9416,      0.9416,      0.9416,      0.9416,      0.9416,      0.9416,     0.93931,     0.93875,     0.93875,     0.93875,     0.93732,     0.93732,     0.93732,     0.93732,     0.93732,     0.93732,     0.93714,      0.9359,      0.9359,      0.9359,\n",
       "             0.9359,      0.9359,      0.9359,      0.9359,      0.9359,      0.9359,      0.9359,      0.9359,      0.9359,      0.9359,      0.9359,      0.9359,      0.9359,      0.9359,      0.9359,      0.9359,      0.9359,     0.93447,     0.93447,     0.93447,     0.93447,     0.93447,     0.93447,\n",
       "            0.93447,     0.93305,     0.93301,     0.93164,     0.93162,     0.93162,     0.93162,      0.9302,      0.9289,     0.92735,     0.92735,     0.92735,     0.92715,     0.92593,     0.92565,     0.92492,      0.9245,      0.9245,      0.9245,      0.9245,      0.9245,      0.9245,      0.9245,\n",
       "             0.9245,     0.92341,     0.92308,     0.92308,     0.92165,     0.92165,     0.92165,     0.92165,     0.92165,     0.92165,     0.92165,     0.92136,     0.92025,     0.92023,     0.92023,     0.92023,     0.92023,     0.92023,     0.92023,     0.91908,      0.9188,      0.9188,      0.9188,\n",
       "             0.9188,      0.9188,      0.9188,      0.9188,      0.9188,      0.9188,      0.9188,      0.9188,      0.9188,      0.9188,      0.9188,      0.9188,      0.9188,      0.9188,      0.9188,      0.9188,      0.9188,     0.91848,     0.91806,     0.91764,     0.91738,     0.91738,     0.91738,\n",
       "            0.91738,     0.91738,     0.91738,     0.91738,     0.91738,     0.91738,     0.91738,     0.91738,     0.91738,     0.91738,     0.91738,     0.91738,     0.91738,     0.91676,     0.91595,     0.91595,     0.91509,     0.91453,     0.91453,     0.91453,     0.91453,     0.91453,     0.91453,\n",
       "            0.91339,     0.91311,     0.91311,     0.91311,     0.91311,     0.91311,     0.91311,     0.91311,     0.91266,     0.91213,     0.91168,     0.91168,     0.91168,     0.91168,     0.91168,     0.91168,     0.91168,     0.91168,     0.91168,     0.91168,     0.91168,     0.91168,     0.91168,\n",
       "            0.91168,     0.91168,     0.91136,     0.91026,     0.91026,     0.91026,     0.91026,     0.91026,     0.91026,     0.91026,     0.91026,     0.91026,     0.91026,     0.91026,     0.91026,     0.91026,     0.91026,     0.91026,     0.91026,     0.91026,     0.91026,     0.91026,     0.90883,\n",
       "            0.90883,     0.90883,     0.90883,     0.90883,     0.90883,     0.90883,     0.90883,     0.90883,     0.90883,     0.90872,     0.90799,     0.90735,     0.90704,     0.90673,     0.90642,     0.90612,     0.90598,     0.90583,     0.90564,     0.90545,     0.90526,     0.90507,     0.90488,\n",
       "             0.9047,     0.90446,     0.90412,     0.90378,     0.90343,     0.90313,     0.90313,     0.90313,     0.90313,     0.90313,     0.90313,     0.90313,     0.90313,     0.90313,     0.90313,     0.90301,     0.90204,     0.90171,     0.90171,     0.90171,     0.90171,     0.90118,     0.90028,\n",
       "            0.90028,     0.90028,     0.90028,     0.90028,     0.89886,     0.89886,     0.89886,     0.89886,     0.89886,     0.89886,     0.89886,     0.89886,     0.89886,     0.89886,     0.89821,     0.89744,     0.89744,     0.89744,     0.89744,     0.89744,     0.89744,     0.89744,     0.89744,\n",
       "            0.89744,     0.89744,     0.89744,     0.89744,     0.89744,     0.89709,     0.89664,     0.89619,     0.89601,     0.89601,     0.89601,     0.89577,     0.89518,      0.8946,     0.89423,      0.8935,      0.8921,     0.89174,     0.89174,     0.89174,     0.89174,     0.89174,     0.89174,\n",
       "            0.89174,     0.89174,     0.89174,     0.89174,     0.89174,     0.89174,     0.89174,     0.89031,     0.88982,     0.88889,     0.88889,     0.88889,     0.88889,     0.88889,     0.88889,     0.88878,     0.88845,     0.88813,      0.8878,     0.88748,     0.88734,     0.88681,     0.88628,\n",
       "            0.88604,     0.88604,     0.88604,     0.88604,     0.88604,     0.88604,     0.88582,     0.88549,     0.88517,     0.88484,     0.88462,     0.88462,     0.88462,     0.88462,     0.88462,     0.88462,     0.88462,     0.88462,     0.88462,     0.88462,     0.88462,     0.88462,     0.88462,\n",
       "            0.88462,     0.88462,     0.88462,     0.88462,     0.88462,     0.88462,     0.88462,     0.88462,     0.88414,     0.88319,     0.88319,     0.88319,     0.88319,     0.88319,     0.88319,     0.88319,     0.88299,     0.88226,     0.88177,     0.88177,     0.88177,     0.88177,     0.88177,\n",
       "            0.88177,     0.88177,     0.88177,     0.88177,     0.88177,     0.88177,     0.88177,     0.88177,     0.88177,     0.88177,     0.88177,     0.88177,     0.88034,     0.87981,     0.87928,     0.87892,     0.87892,     0.87892,     0.87892,     0.87794,     0.87648,     0.87607,     0.87578,\n",
       "            0.87539,       0.875,     0.87457,     0.87374,     0.87304,     0.87255,     0.87206,     0.87179,     0.87179,     0.87083,        0.87,     0.86951,     0.86902,     0.86895,     0.86895,     0.86895,     0.86881,     0.86808,     0.86752,     0.86752,     0.86739,      0.8669,     0.86641,\n",
       "            0.86454,     0.86415,     0.86376,     0.86337,     0.86325,     0.86325,     0.86325,     0.86325,     0.86325,     0.86325,     0.86325,      0.8632,     0.86283,     0.86247,      0.8621,     0.86182,     0.86182,     0.86182,     0.86182,     0.86182,     0.86182,     0.86182,     0.86172,\n",
       "            0.86156,     0.86139,     0.86123,     0.86107,     0.86091,     0.86075,     0.86058,     0.86042,      0.8604,      0.8604,      0.8604,      0.8604,      0.8604,      0.8604,      0.8604,      0.8604,     0.86028,     0.85897,     0.85897,     0.85839,     0.85755,     0.85755,     0.85755,\n",
       "            0.85755,     0.85455,     0.85426,     0.85396,     0.85367,     0.85338,     0.85328,     0.85328,     0.85328,     0.85328,     0.85328,     0.85328,     0.85328,     0.85328,     0.85328,      0.8531,     0.85289,     0.85268,     0.85247,     0.85226,     0.85205,     0.85184,     0.85147,\n",
       "            0.85111,     0.85074,     0.85036,     0.84988,     0.84939,     0.84615,     0.84582,     0.84473,     0.84473,     0.84428,     0.84282,     0.84188,     0.84188,     0.84188,     0.84188,     0.84188,     0.84153,      0.8408,      0.8402,     0.83971,     0.83923,     0.83753,     0.83739,\n",
       "            0.83726,     0.83713,       0.837,     0.83686,     0.83673,      0.8366,     0.83647,     0.83633,      0.8362,     0.83597,     0.83573,     0.83548,     0.83524,       0.835,     0.83474,     0.83333,     0.83333,     0.83333,     0.83333,     0.83333,     0.83333,     0.83191,     0.83191,\n",
       "            0.83191,     0.83191,     0.83191,     0.83191,     0.83042,     0.83024,     0.83006,     0.82988,     0.82969,     0.82951,     0.82933,     0.82915,     0.82868,     0.82795,     0.82722,     0.82649,     0.82448,       0.824,     0.82351,     0.82336,     0.82336,     0.82336,     0.82336,\n",
       "            0.82336,     0.82217,     0.82153,     0.82104,     0.82055,      0.8203,     0.81982,     0.81933,     0.81759,     0.81744,      0.8173,     0.81715,     0.81701,     0.81686,     0.81671,     0.81657,     0.81642,     0.81628,     0.81515,     0.81425,     0.81352,     0.81219,     0.81197,\n",
       "            0.81178,     0.81158,     0.81137,     0.81116,     0.81095,     0.81074,     0.81054,     0.81054,     0.81054,     0.81054,     0.81054,     0.81035,     0.81006,     0.80977,     0.80948,     0.80918,     0.80799,     0.80627,     0.80567,     0.80494,     0.80448,     0.80406,     0.80365,\n",
       "             0.8032,     0.80271,     0.80222,      0.7998,     0.79915,     0.79915,     0.79915,     0.79915,     0.79915,     0.79908,     0.79871,     0.79835,     0.79798,     0.79762,     0.79725,     0.79689,     0.79652,     0.79574,     0.79328,     0.79286,     0.79244,     0.79203,      0.7918,\n",
       "            0.79158,     0.79135,     0.79113,      0.7909,     0.79068,     0.78965,     0.78917,     0.78815,     0.78669,     0.78523,     0.78235,     0.78159,       0.781,     0.78063,     0.78007,     0.77738,     0.77641,     0.77567,     0.77494,     0.77493,     0.77493,     0.77493,     0.77467,\n",
       "             0.7735,      0.7735,      0.7735,      0.7735,      0.7735,      0.7735,      0.7717,     0.77066,     0.77066,     0.77066,     0.77004,     0.76931,     0.76858,     0.76785,     0.76689,     0.76603,      0.7653,     0.76302,     0.76201,     0.75922,     0.75873,     0.75824,     0.75777,\n",
       "            0.75735,     0.75693,     0.75652,     0.75597,     0.75539,     0.75453,     0.75337,     0.75278,      0.7522,     0.75127,     0.75008,      0.7476,     0.74701,     0.74501,     0.74452,     0.74403,     0.74355,     0.74314,     0.74272,      0.7423,     0.74047,     0.73911,     0.73814,\n",
       "            0.73753,     0.73704,     0.73655,     0.73456,     0.73219,     0.73219,     0.73089,     0.72845,     0.72773,     0.72731,      0.7269,     0.72646,     0.72548,     0.72483,     0.72441,       0.724,     0.72198,     0.71937,     0.71937,     0.71689,     0.71472,     0.70912,     0.70815,\n",
       "            0.70678,     0.70573,     0.70513,     0.70394,     0.70236,     0.70189,     0.70147,     0.70105,     0.70047,     0.69974,     0.69909,     0.69851,     0.69787,      0.6969,      0.6945,     0.69358,     0.69285,     0.69205,     0.69108,     0.68868,     0.68771,     0.68673,     0.68006,\n",
       "            0.67624,     0.67527,      0.6686,     0.66762,     0.66665,     0.66568,     0.66359,     0.66317,     0.66275,     0.66226,     0.66128,     0.65499,     0.65089,     0.65041,     0.64992,     0.64929,     0.64832,     0.64735,     0.64224,     0.64166,     0.64107,      0.6396,     0.63773,\n",
       "            0.63676,     0.63627,     0.63578,       0.631,     0.63027,     0.62804,     0.62522,     0.62425,     0.61938,     0.61334,     0.61201,     0.61128,     0.60998,     0.60653,     0.60556,     0.60174,     0.59972,     0.59972,     0.59695,     0.59595,     0.59355,     0.58831,     0.58772,\n",
       "            0.58714,      0.5832,     0.57681,     0.57584,     0.57312,     0.56914,     0.56532,     0.56434,     0.56246,     0.56217,     0.56187,     0.56158,     0.56129,     0.55647,     0.55589,     0.55513,     0.55416,     0.55319,     0.54956,     0.54898,     0.54823,     0.54122,     0.54025,\n",
       "             0.5352,     0.53213,     0.53078,     0.52216,     0.52031,     0.51963,     0.51921,      0.5188,     0.51753,     0.51229,     0.51027,     0.50439,     0.50338,     0.50251,     0.50178,     0.49951,     0.49566,      0.4942,     0.49136,     0.49039,     0.48911,     0.48563,      0.4849,\n",
       "            0.48259,     0.47988,     0.47915,     0.47693,     0.47595,     0.47173,     0.46884,     0.46611,     0.46308,     0.46206,     0.45944,     0.45679,     0.45578,     0.44936,     0.44261,     0.44188,     0.43929,     0.43854,     0.43822,     0.43789,     0.43757,      0.4352,     0.43374,\n",
       "            0.42978,     0.42847,      0.4275,     0.42415,     0.42318,     0.42176,     0.42075,     0.41813,     0.41382,     0.41165,     0.41012,     0.40588,     0.40442,     0.40305,     0.40232,     0.40146,         0.4,     0.39823,     0.39566,     0.39517,     0.39468,     0.39082,     0.38991,\n",
       "            0.38942,     0.38894,     0.38823,      0.3875,      0.3847,     0.38177,     0.37937,       0.376,     0.37301,     0.37009,     0.36806,      0.3666,     0.36261,     0.36126,     0.35937,     0.35791,     0.35535,       0.351,     0.34854,     0.34659,     0.34438,      0.3434,     0.33985,\n",
       "            0.33776,     0.33705,     0.33647,     0.33474,     0.33401,     0.33313,     0.33106,     0.32871,     0.32329,      0.3228,     0.32232,      0.3213,     0.32016,     0.31967,     0.31918,     0.31743,      0.3167,     0.31597,     0.31524,     0.31441,     0.31344,     0.31104,     0.30983,\n",
       "            0.30625,     0.30527,     0.30189,     0.30043,     0.29906,     0.29833,     0.29605,     0.29431,      0.2917,     0.29024,     0.28878,     0.28732,     0.28586,     0.28248,     0.27867,     0.27522,     0.27148,     0.27034,     0.26961,     0.26852,     0.26706,     0.26586,     0.26475,\n",
       "            0.26183,     0.25748,     0.25193,     0.24594,      0.2416,     0.23757,     0.23576,     0.23431,     0.22707,      0.2213,     0.21959,     0.21688,     0.21254,     0.20809,      0.2047,     0.20373,     0.20014,     0.19512,     0.19359,     0.19149,     0.18775,     0.18341,     0.17764,\n",
       "            0.17473,       0.174,     0.16888,     0.16311,     0.15449,     0.15014,     0.14199,     0.13861,     0.13284,     0.12992,     0.12415,     0.12258,     0.11403,     0.10969,     0.10392,    0.099574,    0.088213,    0.083904,    0.080842,     0.06795,    0.064566,    0.057836,    0.049644,\n",
       "           0.048671,    0.041952,     0.02906,    0.017593,    0.010399,   0.0032055,           0,           0,           0,           0,           0]]), 'Confidence', 'Recall']]\n",
       "fitness: np.float64(0.673079614744686)\n",
       "keys: ['metrics/precision(B)', 'metrics/recall(B)', 'metrics/mAP50(B)', 'metrics/mAP50-95(B)']\n",
       "maps: array([    0.64336])\n",
       "names: {0: 'ship'}\n",
       "plot: True\n",
       "results_dict: {'metrics/precision(B)': np.float64(0.922635994158503), 'metrics/recall(B)': np.float64(0.866412471350743), 'metrics/mAP50(B)': np.float64(0.9405407236625576), 'metrics/mAP50-95(B)': np.float64(0.6433617137538115), 'fitness': np.float64(0.673079614744686)}\n",
       "save_dir: PosixPath('/mnt/c/Users/Ricardo/Documents/Development/tcc-1/runs/detect/train23')\n",
       "speed: {'preprocess': 0.3084912181129382, 'inference': 10.85242383081945, 'loss': 0.0009024211861579294, 'postprocess': 1.3044539431463962}\n",
       "task: 'detect'"
      ]
     },
     "execution_count": 6,
     "metadata": {},
     "output_type": "execute_result"
    }
   ],
   "source": [
    "# Treinamento\n",
    "model.train(\n",
    "    data=data_yaml_path,  # Caminho para o data.yaml\n",
    "    epochs=epochs,        # Número máximo de épocas\n",
    "    imgsz=imgsz,          # Tamanho da imagem\n",
    "    batch=batch,          # Tamanho do batch\n",
    "    patience=patience,    # Early stopping\n",
    "    save_dir=save_dir     # Diretório para salvar os resultados\n",
    ")"
   ]
  },
  {
   "cell_type": "code",
   "execution_count": 7,
   "metadata": {},
   "outputs": [
    {
     "name": "stdout",
     "output_type": "stream",
     "text": [
      "Treinamento concluído. Resultados salvos em runs/train/yolov8m\n"
     ]
    }
   ],
   "source": [
    "\n",
    "print(f\"Treinamento concluído. Resultados salvos em {save_dir}\")"
   ]
  }
 ],
 "metadata": {
  "kernelspec": {
   "display_name": "venv",
   "language": "python",
   "name": "python3"
  },
  "language_info": {
   "codemirror_mode": {
    "name": "ipython",
    "version": 3
   },
   "file_extension": ".py",
   "mimetype": "text/x-python",
   "name": "python",
   "nbconvert_exporter": "python",
   "pygments_lexer": "ipython3",
   "version": "3.12.3"
  }
 },
 "nbformat": 4,
 "nbformat_minor": 2
}
