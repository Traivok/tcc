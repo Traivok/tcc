{
 "cells": [
  {
   "cell_type": "code",
   "execution_count": null,
   "metadata": {},
   "outputs": [],
   "source": [
    "import os\n",
    "\n",
    "import torch\n",
    "from ultralytics import YOLO"
   ]
  },
  {
   "cell_type": "code",
   "execution_count": null,
   "metadata": {},
   "outputs": [],
   "source": [
    "print(torch.cuda.is_available())"
   ]
  },
  {
   "cell_type": "code",
   "execution_count": null,
   "metadata": {},
   "outputs": [],
   "source": [
    "# Caminho para o arquivo data.yaml gerado\n",
    "base_dir = \"data/ships_v10i_quality\"\n",
    "# base_dir = \"data/ships_by_class/class_0\"\n",
    "data_yaml_path = os.path.join(\"..\", \"..\", base_dir, \"data.yaml\")"
   ]
  },
  {
   "cell_type": "code",
   "execution_count": null,
   "metadata": {},
   "outputs": [],
   "source": [
    "# Parâmetros de treinamento\n",
    "model_type = \"yolo11m\"  # Modelo: yolov8n, outros disponíveis: yolov8s, yolov8m, yolov8l, yolov8x\n",
    "epochs = 1000             # Número máximo de épocas\n",
    "imgsz = 640             # Tamanho da imagem\n",
    "batch = 8              # Tamanho do batch\n",
    "patience = 50             # Número de épocas sem melhorias para interromper o treinamento\n",
    "save_dir = \"runs/train/\" + model_type # Diretório para salvar os resultados"
   ]
  },
  {
   "cell_type": "code",
   "execution_count": null,
   "metadata": {},
   "outputs": [],
   "source": [
    "# # Instanciar o modelo YOLOv8\n",
    "model = YOLO(f'{model_type}.pt')  # Baixa o modelo pré-treinado correspondente\n",
    "# Substitua pelo caminho completo para 'last.pt'\n",
    "# model_path = os.path.join(\"..\", \"..\", 'runs', 'detect', 'train20', 'weights', 'last.pt')\n",
    "# model = YOLO(model_path)"
   ]
  },
  {
   "cell_type": "code",
   "execution_count": null,
   "metadata": {},
   "outputs": [],
   "source": [
    "# Treinamento\n",
    "\n",
    "model.train(\n",
    "    data=data_yaml_path,  # Caminho para o data.yaml\n",
    "    epochs=epochs,        # Número máximo de épocas\n",
    "    imgsz=imgsz,          # Tamanho da imagem\n",
    "    batch=batch,          # Tamanho do batch\n",
    "    patience=patience,    # Early stopping\n",
    "    save_dir=save_dir,     # Diretório para salvar os resultados\n",
    "    classes=[0]\n",
    ")"
   ]
  },
  {
   "cell_type": "code",
   "execution_count": null,
   "metadata": {},
   "outputs": [],
   "source": [
    "\n",
    "print(f\"Treinamento concluído. Resultados salvos em {save_dir}\")"
   ]
  }
 ],
 "metadata": {
  "kernelspec": {
   "display_name": "venv",
   "language": "python",
   "name": "python3"
  },
  "language_info": {
   "codemirror_mode": {
    "name": "ipython",
    "version": 3
   },
   "file_extension": ".py",
   "mimetype": "text/x-python",
   "name": "python",
   "nbconvert_exporter": "python",
   "pygments_lexer": "ipython3",
   "version": "3.12.3"
  }
 },
 "nbformat": 4,
 "nbformat_minor": 2
}
